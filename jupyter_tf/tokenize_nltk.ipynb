{
 "cells": [
  {
   "cell_type": "markdown",
   "metadata": {},
   "source": [
    "### the function of tokenize"
   ]
  },
  {
   "cell_type": "code",
   "execution_count": 1,
   "metadata": {
    "collapsed": true
   },
   "outputs": [],
   "source": [
    "import nltk"
   ]
  },
  {
   "cell_type": "code",
   "execution_count": 16,
   "metadata": {
    "collapsed": false
   },
   "outputs": [
    {
     "name": "stdout",
     "output_type": "stream",
     "text": [
      "['i', 'love', 'you', 'very', 'much']\n",
      "['doyou_', '[', ']', '(', 'have', ')', '``', '-any', '+money', '?', '?', ';']\n"
     ]
    }
   ],
   "source": [
    "## nltk.word_tokenize(w) 将字符串w中的'单词'标记出来，　nltk提供了如何界定'单词'的规则\n",
    "w1 = 'i love you very much'\n",
    "w2 = 'doyou_[] (have) \"-any +money??;'\n",
    "tok1 = nltk.word_tokenize(w1)\n",
    "tok2 = nltk.word_tokenize(w2)\n",
    "print (tok1)\n",
    "print (tok2)"
   ]
  },
  {
   "cell_type": "code",
   "execution_count": null,
   "metadata": {
    "collapsed": true
   },
   "outputs": [],
   "source": [
    "import nltk\n",
    "import itertools\n",
    "def read_char_data(f_name, seq_length):\n",
    "    data = open(f_name, 'r').read()\n",
    "    voc = list(set(data))\n",
    "\n",
    "f_name = './'"
   ]
  }
 ],
 "metadata": {
  "anaconda-cloud": {},
  "kernelspec": {
   "display_name": "Python [conda root]",
   "language": "python",
   "name": "conda-root-py"
  },
  "language_info": {
   "codemirror_mode": {
    "name": "ipython",
    "version": 2
   },
   "file_extension": ".py",
   "mimetype": "text/x-python",
   "name": "python",
   "nbconvert_exporter": "python",
   "pygments_lexer": "ipython2",
   "version": "2.7.12"
  }
 },
 "nbformat": 4,
 "nbformat_minor": 1
}
