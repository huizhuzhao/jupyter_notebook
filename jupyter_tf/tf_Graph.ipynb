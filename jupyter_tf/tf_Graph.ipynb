{
 "cells": [
  {
   "cell_type": "markdown",
   "metadata": {},
   "source": [
    "## tf.Graph()"
   ]
  },
  {
   "cell_type": "markdown",
   "metadata": {},
   "source": [
    "### part1"
   ]
  },
  {
   "cell_type": "code",
   "execution_count": 2,
   "metadata": {
    "collapsed": false
   },
   "outputs": [],
   "source": [
    "import tensorflow as tf\n",
    "from Teemo.algorithm.tf import basics"
   ]
  },
  {
   "cell_type": "code",
   "execution_count": 3,
   "metadata": {
    "collapsed": false
   },
   "outputs": [],
   "source": [
    "x = tf.placeholder(tf.float32, shape=[784, 10]) # x belong to default_graph\n",
    "g1 = tf.Graph()\n",
    "with g1.as_default():\n",
    "    x1 = tf.constant([1., 2.])                     # x1 belong to \"g1\"\n",
    "\n",
    "with tf.Graph().as_default() as g2:                # x2 be\n",
    "    x2 = tf.placeholder(tf.float32, shape=[2, 2])"
   ]
  },
  {
   "cell_type": "code",
   "execution_count": 4,
   "metadata": {
    "collapsed": false
   },
   "outputs": [
    {
     "name": "stdout",
     "output_type": "stream",
     "text": [
      "True\n",
      "True\n",
      "True\n",
      "False\n",
      "False\n"
     ]
    }
   ],
   "source": [
    "print (x.graph is tf.get_default_graph())\n",
    "print (x1.graph is g1)\n",
    "print (x2.graph is g2)\n",
    "##---------    \n",
    "print (x.graph is g1)    \n",
    "print (x.graph is g2)"
   ]
  },
  {
   "cell_type": "markdown",
   "metadata": {},
   "source": [
    "### part2 Graph"
   ]
  },
  {
   "cell_type": "code",
   "execution_count": 51,
   "metadata": {
    "collapsed": false
   },
   "outputs": [
    {
     "name": "stdout",
     "output_type": "stream",
     "text": [
      "True\n",
      "True\n",
      "True\n",
      "True\n",
      "True\n",
      "True\n",
      "True\n",
      "True\n",
      "True\n",
      "True\n",
      "[]\n"
     ]
    }
   ],
   "source": [
    "g1 = tf.Graph()\n",
    "with g1.as_default():\n",
    "    c = tf.constant(10., name='c')                ## outtest scope\n",
    "    print (c.op.name == 'c')\n",
    "    with g1.name_scope(\"scope_1\") as scope_1:     ## scope_1\n",
    "        scope1_c = tf.constant(10., name='c')\n",
    "        print (scope1_c.op.name == 'scope_1/c')\n",
    "    \n",
    "    with g1.name_scope('scope_2') as scope_2:     ## scope_2\n",
    "        scope2_c = tf.constant(20., name='c')\n",
    "        print (scope2_c.op.name == 'scope_2/c')\n",
    "    \n",
    "    c1 = tf.constant(10., name='c')               ## outtest scope\n",
    "    print (c1.op.name == 'c_1')\n",
    "    \n",
    "    with g1.name_scope(scope_1):                  ## scope_1\n",
    "        scope1_c1 = tf.constant(10., name='c')\n",
    "        scope1_c2 = tf.constant(10., name='c')\n",
    "        print (scope1_c1.op.name == 'scope_1/c_1')\n",
    "        print (scope1_c2.op.name == 'scope_1/c_2')\n",
    "        \n",
    "        with g1.name_scope('scope_11') as scope_11:   ## scope_1/scope_11\n",
    "            scope11_c = tf.constant(40, name='c')\n",
    "            print (scope11_c.op.name == 'scope_1/scope_11/c')\n",
    "        \n",
    "        with g1.name_scope(scope_2):                  ## scope_2\n",
    "            scope2_c1 = tf.constant(10., name='c')\n",
    "            print (scope2_c1.op.name == 'scope_2/c_1')\n",
    "        \n",
    "        scope1_c3 = tf.constant(10., name='c')        ## scope_1\n",
    "        print (scope1_c3.op.name == 'scope_1/c_3')\n",
    "        \n",
    "        with g1.name_scope(\"\"):                       ## outtest\n",
    "            c2 = tf.constant(10., name='c')\n",
    "            print (c2.op.name == 'c_2')\n",
    "    \n",
    "\n",
    "    print (g1.get_all_collection_keys())\n",
    "            "
   ]
  },
  {
   "cell_type": "markdown",
   "metadata": {
    "collapsed": true
   },
   "source": [
    "## part3 Operation"
   ]
  },
  {
   "cell_type": "code",
   "execution_count": 88,
   "metadata": {
    "collapsed": false
   },
   "outputs": [
    {
     "name": "stdout",
     "output_type": "stream",
     "text": [
      "(u'weights:0', tf.float32_ref)\n",
      "(u'add:0', tf.float32)\n",
      "0\n"
     ]
    }
   ],
   "source": [
    "with tf.Graph().as_default() as g3:\n",
    "    input = basics.input_tensor(shape=[None, 784], name='input')\n",
    "    weights = basics.weights_tensor(shape=[784, 10], name='weights')\n",
    "    biases = basics.biases_tensor(shape=[10], name='biases')\n",
    "    z = tf.matmul(input, weights) + biases\n",
    "    print (weights.name, weights.dtype)\n",
    "    print (z.name, z.dtype)\n",
    "    print (z.value_index)"
   ]
  },
  {
   "cell_type": "code",
   "execution_count": 93,
   "metadata": {
    "collapsed": false
   },
   "outputs": [
    {
     "ename": "AttributeError",
     "evalue": "'GraphKeys' object has no attribute 'keys'",
     "output_type": "error",
     "traceback": [
      "\u001b[0;31m---------------------------------------------------------------------------\u001b[0m",
      "\u001b[0;31mAttributeError\u001b[0m                            Traceback (most recent call last)",
      "\u001b[0;32m<ipython-input-93-0713352a9d89>\u001b[0m in \u001b[0;36m<module>\u001b[0;34m()\u001b[0m\n\u001b[0;32m----> 1\u001b[0;31m \u001b[0;32mprint\u001b[0m \u001b[0;34m(\u001b[0m\u001b[0mtf\u001b[0m\u001b[0;34m.\u001b[0m\u001b[0mGraphKeys\u001b[0m\u001b[0;34m(\u001b[0m\u001b[0;34m)\u001b[0m\u001b[0;34m.\u001b[0m\u001b[0mkeys\u001b[0m\u001b[0;34m(\u001b[0m\u001b[0;34m)\u001b[0m\u001b[0;34m)\u001b[0m\u001b[0;34m\u001b[0m\u001b[0m\n\u001b[0m",
      "\u001b[0;31mAttributeError\u001b[0m: 'GraphKeys' object has no attribute 'keys'"
     ]
    }
   ],
   "source": [
    "print (tf.GraphKeys)"
   ]
  },
  {
   "cell_type": "code",
   "execution_count": null,
   "metadata": {
    "collapsed": true
   },
   "outputs": [],
   "source": []
  }
 ],
 "metadata": {
  "anaconda-cloud": {},
  "kernelspec": {
   "display_name": "Python [conda root]",
   "language": "python",
   "name": "conda-root-py"
  },
  "language_info": {
   "codemirror_mode": {
    "name": "ipython",
    "version": 2
   },
   "file_extension": ".py",
   "mimetype": "text/x-python",
   "name": "python",
   "nbconvert_exporter": "python",
   "pygments_lexer": "ipython2",
   "version": "2.7.12"
  }
 },
 "nbformat": 4,
 "nbformat_minor": 1
}
