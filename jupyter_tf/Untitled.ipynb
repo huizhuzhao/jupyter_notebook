{
 "cells": [
  {
   "cell_type": "code",
   "execution_count": 1,
   "metadata": {
    "collapsed": true
   },
   "outputs": [],
   "source": [
    "import numpy as np\n",
    "import tensorflow as tf\n",
    "from Erwin.models.tf_utils import initializers"
   ]
  },
  {
   "cell_type": "code",
   "execution_count": 2,
   "metadata": {
    "collapsed": false
   },
   "outputs": [],
   "source": [
    "shape = (3, 4)\n",
    "init = initializers.get('glorot_normal_initializer')(shape)\n",
    "with tf.variable_scope('layer1'):\n",
    "    weights = tf.get_variable('weights', shape, initializer=init)"
   ]
  },
  {
   "cell_type": "code",
   "execution_count": 4,
   "metadata": {
    "collapsed": false
   },
   "outputs": [],
   "source": [
    "sess = tf.InteractiveSession()\n",
    "init = tf.global_variables_initializer()\n",
    "sess.run(init)"
   ]
  },
  {
   "cell_type": "code",
   "execution_count": 5,
   "metadata": {
    "collapsed": true
   },
   "outputs": [],
   "source": [
    "weights_numpy = weights.eval()"
   ]
  },
  {
   "cell_type": "code",
   "execution_count": 6,
   "metadata": {
    "collapsed": false
   },
   "outputs": [
    {
     "data": {
      "text/plain": [
       "array([[ 0.12117469,  0.74624449, -0.19860895, -0.50875539],\n",
       "       [ 0.23581439,  0.74175137, -0.6316011 , -0.36630407],\n",
       "       [ 0.27373469,  0.21537092,  0.36157793, -0.44471809]], dtype=float32)"
      ]
     },
     "execution_count": 6,
     "metadata": {},
     "output_type": "execute_result"
    }
   ],
   "source": [
    "weights_numpy"
   ]
  },
  {
   "cell_type": "code",
   "execution_count": 25,
   "metadata": {
    "collapsed": false
   },
   "outputs": [],
   "source": [
    "from tensorflow.python.ops import init_ops"
   ]
  },
  {
   "cell_type": "code",
   "execution_count": 32,
   "metadata": {
    "collapsed": false
   },
   "outputs": [],
   "source": [
    "init = init_ops.glorot_uniform_initializer()"
   ]
  },
  {
   "cell_type": "code",
   "execution_count": 36,
   "metadata": {
    "collapsed": false
   },
   "outputs": [
    {
     "name": "stdout",
     "output_type": "stream",
     "text": [
      "[[ 0.81620979 -0.51413351  0.5693301  -0.31036454]\n",
      " [-0.74135774  0.51027513 -0.32406831  0.55197752]\n",
      " [ 0.62411094 -0.74446809 -0.56282979 -0.23619038]]\n"
     ]
    }
   ],
   "source": [
    "with tf.variable_scope('layer3'):\n",
    "    weights = tf.get_variable('weights', shape, initializer=init)\n",
    "    weights.initializer.run()\n",
    "    print(weights.eval())"
   ]
  },
  {
   "cell_type": "code",
   "execution_count": 37,
   "metadata": {
    "collapsed": false
   },
   "outputs": [
    {
     "data": {
      "text/plain": [
       "array([[ 0.81620979, -0.51413351,  0.5693301 , -0.31036454],\n",
       "       [-0.74135774,  0.51027513, -0.32406831,  0.55197752],\n",
       "       [ 0.62411094, -0.74446809, -0.56282979, -0.23619038]], dtype=float32)"
      ]
     },
     "execution_count": 37,
     "metadata": {},
     "output_type": "execute_result"
    }
   ],
   "source": [
    "weights.eval()"
   ]
  },
  {
   "cell_type": "markdown",
   "metadata": {},
   "source": [
    " $\n",
    "    output[b, x[0], ..., x[N-1], k] =\n",
    "        sum_{z[0], ..., z[N-1], q}\n",
    "            filter[z[0], ..., z[N-1], q, k] *\n",
    "            padded_input[b,\n",
    "                         x[0]*strides[0] + dilation_rate[0]*z[0],\n",
    "                         ...,\n",
    "                         x[N-1]*strides[N-1] + dilation_rate[N-1]*z[N-1],\n",
    "                         q]\n",
    "$"
   ]
  },
  {
   "cell_type": "code",
   "execution_count": 38,
   "metadata": {
    "collapsed": true
   },
   "outputs": [],
   "source": [
    "from Erwin.datasets.featurizers import graph_featurizer"
   ]
  },
  {
   "cell_type": "code",
   "execution_count": 40,
   "metadata": {
    "collapsed": false
   },
   "outputs": [
    {
     "ename": "AssertionError",
     "evalue": "pointer with mol size: 1 received.",
     "output_type": "error",
     "traceback": [
      "\u001b[0;31m---------------------------------------------------------------------------\u001b[0m",
      "\u001b[0;31mAssertionError\u001b[0m                            Traceback (most recent call last)",
      "\u001b[0;32m<ipython-input-40-3dc8fc0e6295>\u001b[0m in \u001b[0;36m<module>\u001b[0;34m()\u001b[0m\n\u001b[1;32m      1\u001b[0m \u001b[0msmiles\u001b[0m \u001b[0;34m=\u001b[0m \u001b[0;34m'[Cd+2]'\u001b[0m\u001b[0;34m\u001b[0m\u001b[0m\n\u001b[0;32m----> 2\u001b[0;31m \u001b[0mgraph\u001b[0m \u001b[0;34m=\u001b[0m \u001b[0mgraph_featurizer\u001b[0m\u001b[0;34m.\u001b[0m\u001b[0mgraph_from_mol\u001b[0m\u001b[0;34m(\u001b[0m\u001b[0msmiles\u001b[0m\u001b[0;34m)\u001b[0m\u001b[0;34m\u001b[0m\u001b[0m\n\u001b[0m",
      "\u001b[0;32m/home/xtalpi/bitbucket/Erwin/datasets/featurizers/graph_featurizer.pyc\u001b[0m in \u001b[0;36mgraph_from_mol\u001b[0;34m(pointer, sort, mol_utils)\u001b[0m\n\u001b[1;32m    287\u001b[0m     \u001b[0mmol\u001b[0m \u001b[0;34m=\u001b[0m \u001b[0mmol_utils\u001b[0m\u001b[0;34m.\u001b[0m\u001b[0mload_mol\u001b[0m\u001b[0;34m(\u001b[0m\u001b[0mpointer\u001b[0m\u001b[0;34m)\u001b[0m\u001b[0;34m\u001b[0m\u001b[0m\n\u001b[1;32m    288\u001b[0m     \u001b[0mmol_size\u001b[0m \u001b[0;34m=\u001b[0m \u001b[0mmol_utils\u001b[0m\u001b[0;34m.\u001b[0m\u001b[0mmol_size\u001b[0m\u001b[0;34m(\u001b[0m\u001b[0mmol\u001b[0m\u001b[0;34m)\u001b[0m\u001b[0;34m\u001b[0m\u001b[0m\n\u001b[0;32m--> 289\u001b[0;31m     \u001b[0;32massert\u001b[0m \u001b[0mmol_size\u001b[0m \u001b[0;34m>=\u001b[0m \u001b[0;36m2\u001b[0m\u001b[0;34m,\u001b[0m \u001b[0;34m'pointer with mol size: {0} received.'\u001b[0m\u001b[0;34m.\u001b[0m\u001b[0mformat\u001b[0m\u001b[0;34m(\u001b[0m\u001b[0mmol_size\u001b[0m\u001b[0;34m)\u001b[0m\u001b[0;34m\u001b[0m\u001b[0m\n\u001b[0m\u001b[1;32m    290\u001b[0m \u001b[0;34m\u001b[0m\u001b[0m\n\u001b[1;32m    291\u001b[0m     \u001b[0mgraph\u001b[0m \u001b[0;34m=\u001b[0m \u001b[0mMolGraph\u001b[0m\u001b[0;34m(\u001b[0m\u001b[0mmol_utils\u001b[0m\u001b[0;34m)\u001b[0m\u001b[0;34m\u001b[0m\u001b[0m\n",
      "\u001b[0;31mAssertionError\u001b[0m: pointer with mol size: 1 received."
     ]
    }
   ],
   "source": [
    "smiles = '[Cd+2]'\n",
    "graph = graph_featurizer.graph_from_mol(smiles)"
   ]
  },
  {
   "cell_type": "code",
   "execution_count": null,
   "metadata": {
    "collapsed": true
   },
   "outputs": [],
   "source": []
  }
 ],
 "metadata": {
  "anaconda-cloud": {},
  "kernelspec": {
   "display_name": "Python [default]",
   "language": "python",
   "name": "python2"
  },
  "language_info": {
   "codemirror_mode": {
    "name": "ipython",
    "version": 2
   },
   "file_extension": ".py",
   "mimetype": "text/x-python",
   "name": "python",
   "nbconvert_exporter": "python",
   "pygments_lexer": "ipython2",
   "version": "2.7.12"
  }
 },
 "nbformat": 4,
 "nbformat_minor": 1
}
