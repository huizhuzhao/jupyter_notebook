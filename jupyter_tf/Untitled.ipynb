{
 "cells": [
  {
   "cell_type": "code",
   "execution_count": 1,
   "metadata": {
    "collapsed": true
   },
   "outputs": [],
   "source": [
    "import numpy as np\n",
    "import tensorflow as tf\n",
    "from Teemo.tf_utils.models import TFBaseModel\n",
    "from Teemo.tf_utils import tf_core\n",
    "from Teemo.tf_utils.layers import dense\n",
    "\n",
    "dtype_FLOAT = tf_core.floatx()\n",
    "dtype_INT = tf_core.intx()"
   ]
  },
  {
   "cell_type": "code",
   "execution_count": 2,
   "metadata": {
    "collapsed": false
   },
   "outputs": [],
   "source": [
    "class MnistModel(TFBaseModel):\n",
    "    def _build(self, **kwargs):\n",
    "        batch_size = kwargs['batch_size']\n",
    "        input_tensor = tf.placeholder(shape=(batch_size, 784), dtype=dtype_FLOAT)\n",
    "        labels_tensor = tf.placeholder(shape=(batch_size, 10), dtype=dtype_FLOAT)\n",
    "        \n",
    "        h_1 = dense(input_tensor, output_dim=100, activation='relu', use_bias=True)\n",
    "        output_tensor = dense(h_1, output_dim=10, activation='linear', use_bias=True)\n",
    "        \n",
    "        self.input_tensors = [input_tensor]\n",
    "        self.output_tensor = output_tensor\n",
    "        self.labels_tensor = labels_tensor\n",
    "        self.sample_weights = tf.placeholder(shape=(batch_size,), dtype=dtype_FLOAT)\n",
    "        "
   ]
  },
  {
   "cell_type": "code",
   "execution_count": 3,
   "metadata": {
    "collapsed": false
   },
   "outputs": [],
   "source": [
    "hyper_params = {'batch_size': 32}\n",
    "model = MnistModel()\n",
    "model._build(**hyper_params)"
   ]
  },
  {
   "cell_type": "code",
   "execution_count": 4,
   "metadata": {
    "collapsed": false
   },
   "outputs": [
    {
     "data": {
      "text/plain": [
       "<tf.Tensor 'loss/Mean:0' shape=() dtype=float32>"
      ]
     },
     "execution_count": 4,
     "metadata": {},
     "output_type": "execute_result"
    }
   ],
   "source": [
    "loss = model._compile_loss('categorical_cross_entropy_with_logits', \n",
    "                           model.output_tensor, model.labels_tensor, model.sample_weights)\n",
    "loss"
   ]
  },
  {
   "cell_type": "code",
   "execution_count": 5,
   "metadata": {
    "collapsed": false
   },
   "outputs": [],
   "source": [
    "optimizer = tf.train.GradientDescentOptimizer(0.01)\n",
    "grads_and_vars = optimizer.compute_gradients(loss, var_list=None, gate_gradients=1)"
   ]
  },
  {
   "cell_type": "code",
   "execution_count": null,
   "metadata": {
    "collapsed": true
   },
   "outputs": [],
   "source": []
  }
 ],
 "metadata": {
  "anaconda-cloud": {},
  "kernelspec": {
   "display_name": "Python [default]",
   "language": "python",
   "name": "python2"
  },
  "language_info": {
   "codemirror_mode": {
    "name": "ipython",
    "version": 2
   },
   "file_extension": ".py",
   "mimetype": "text/x-python",
   "name": "python",
   "nbconvert_exporter": "python",
   "pygments_lexer": "ipython2",
   "version": "2.7.12"
  }
 },
 "nbformat": 4,
 "nbformat_minor": 1
}
