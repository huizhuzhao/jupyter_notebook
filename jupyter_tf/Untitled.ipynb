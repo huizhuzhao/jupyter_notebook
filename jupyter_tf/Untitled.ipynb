{
 "cells": [
  {
   "cell_type": "code",
   "execution_count": 9,
   "metadata": {
    "collapsed": true
   },
   "outputs": [],
   "source": [
    "import tensorflow as tf\n",
    "import numpy as np"
   ]
  },
  {
   "cell_type": "markdown",
   "metadata": {},
   "source": [
    "## tf.Session()"
   ]
  },
  {
   "cell_type": "markdown",
   "metadata": {},
   "source": [
    "### the constant"
   ]
  },
  {
   "cell_type": "code",
   "execution_count": 10,
   "metadata": {
    "collapsed": false
   },
   "outputs": [
    {
     "name": "stdout",
     "output_type": "stream",
     "text": [
      "(<tf.Tensor 'Const_10:0' shape=() dtype=float32>, <tf.Tensor 'Const_11:0' shape=() dtype=float64>)\n",
      "[3.0, 4.0]\n"
     ]
    }
   ],
   "source": [
    "node1 = tf.constant(3.0, tf.float32)\n",
    "node2 = tf.constant(4.0, tf.float64)\n",
    "sess = tf.Session()\n",
    "print (node1, node2)\n",
    "print (sess.run([node1, node2]))"
   ]
  },
  {
   "cell_type": "markdown",
   "metadata": {},
   "source": [
    "### placeholder"
   ]
  },
  {
   "cell_type": "code",
   "execution_count": 19,
   "metadata": {
    "collapsed": false
   },
   "outputs": [
    {
     "name": "stdout",
     "output_type": "stream",
     "text": [
      "22.5\n",
      "[ 12.  18.]\n"
     ]
    }
   ],
   "source": [
    "a = tf.placeholder(tf.float32)\n",
    "b = tf.placeholder(tf.float32)\n",
    "c = tf.add(a, b) * tf.constant(3., tf.float32)\n",
    "print (sess.run(c, {a: 3, b: 4.5}))  # required for placeholder\n",
    "print (sess.run(c, {a: [1., 2.], b: [3., 4.]}))"
   ]
  },
  {
   "cell_type": "markdown",
   "metadata": {},
   "source": [
    "### variable"
   ]
  },
  {
   "cell_type": "code",
   "execution_count": 76,
   "metadata": {
    "collapsed": false
   },
   "outputs": [
    {
     "name": "stdout",
     "output_type": "stream",
     "text": [
      "(32, 10)\n",
      "('b: ', array([ 0.,  0.,  0.,  0.,  0.,  0.,  0.,  0.,  0.,  0.], dtype=float32))\n",
      "('fixb: ', array([ 1.,  1.,  1.,  1.,  1.,  1.,  1.,  1.,  1.,  1.], dtype=float32))\n",
      "('b: ', array([ 1.,  1.,  1.,  1.,  1.,  1.,  1.,  1.,  1.,  1.], dtype=float32))\n"
     ]
    }
   ],
   "source": [
    "batch_size = 32; input_dim = 784; output_dim = 10\n",
    "x_val = np.random.randn(batch_size, input_dim).astype(np.float32)\n",
    "y_val = np.random.randint(0, 10, (batch_size, output_dim)).astype(np.float32)\n",
    "\n",
    "W = tf.Variable(np.random.randn(input_dim, output_dim).astype(np.float32), tf.float32)\n",
    "b = tf.Variable(np.zeros(output_dim).astype(np.float32), tf.float32)\n",
    "x = tf.placeholder(tf.float32)\n",
    "logits =  tf.matmul(x, W) + b              # incorrect: x * W\n",
    "\n",
    "init = tf.global_variables_initializer()\n",
    "sess.run(init)\n",
    "outputs = sess.run(logits, {x: x_val})\n",
    "fixb = tf.assign(b, np.ones(output_dim).astype(np.float32))\n",
    "\n",
    "print outputs.shape\n",
    "print ('b: ', sess.run(b))\n",
    "print ('fixb: ', sess.run(fixb))\n",
    "print ('b: ', sess.run(b))"
   ]
  },
  {
   "cell_type": "markdown",
   "metadata": {},
   "source": [
    "### compute loss"
   ]
  },
  {
   "cell_type": "code",
   "execution_count": 77,
   "metadata": {
    "collapsed": false
   },
   "outputs": [
    {
     "name": "stdout",
     "output_type": "stream",
     "text": [
      "267532.0\n"
     ]
    }
   ],
   "source": [
    "y = tf.placeholder(tf.float32)\n",
    "squared_delta = tf.square(logits - y)\n",
    "loss = tf.reduce_sum(squared_delta)\n",
    "\n",
    "print (sess.run(loss, {x: x_val, y: y_val}))"
   ]
  },
  {
   "cell_type": "code",
   "execution_count": 79,
   "metadata": {
    "collapsed": false
   },
   "outputs": [
    {
     "name": "stdout",
     "output_type": "stream",
     "text": [
      "[ 0.  0.  0.  0.  0.  0.  0.  0.  0.  0.]\n",
      "nan\n"
     ]
    }
   ],
   "source": [
    "optimizer = tf.train.GradientDescentOptimizer(0.01)\n",
    "train = optimizer.minimize(loss)\n",
    "sess.run(init) # re-initiate variables values\n",
    "print (sess.run(b))\n",
    "for ii in range(100):\n",
    "    sess.run(train, {x: x_val, y: y_val})\n",
    "\n",
    "print (sess.run(loss, {x: x_val, y: y_val}))"
   ]
  },
  {
   "cell_type": "code",
   "execution_count": null,
   "metadata": {
    "collapsed": true
   },
   "outputs": [],
   "source": []
  }
 ],
 "metadata": {
  "anaconda-cloud": {},
  "kernelspec": {
   "display_name": "Python [conda root]",
   "language": "python",
   "name": "conda-root-py"
  },
  "language_info": {
   "codemirror_mode": {
    "name": "ipython",
    "version": 2
   },
   "file_extension": ".py",
   "mimetype": "text/x-python",
   "name": "python",
   "nbconvert_exporter": "python",
   "pygments_lexer": "ipython2",
   "version": "2.7.12"
  }
 },
 "nbformat": 4,
 "nbformat_minor": 1
}
