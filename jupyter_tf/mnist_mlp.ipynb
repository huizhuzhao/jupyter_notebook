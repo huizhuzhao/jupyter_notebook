{
 "cells": [
  {
   "cell_type": "code",
   "execution_count": 3,
   "metadata": {
    "collapsed": true
   },
   "outputs": [],
   "source": [
    "import tensorflow as tf\n",
    "from tensorflow.examples.tutorials.mnist import input_data\n",
    "import numpy as np\n",
    "import matplotlib.pyplot as plt\n",
    "import progressbar"
   ]
  },
  {
   "cell_type": "code",
   "execution_count": 4,
   "metadata": {
    "collapsed": false
   },
   "outputs": [
    {
     "name": "stdout",
     "output_type": "stream",
     "text": [
      "Extracting ./MNIST_data/train-images-idx3-ubyte.gz\n",
      "Extracting ./MNIST_data/train-labels-idx1-ubyte.gz\n",
      "Extracting ./MNIST_data/t10k-images-idx3-ubyte.gz\n",
      "Extracting ./MNIST_data/t10k-labels-idx1-ubyte.gz\n"
     ]
    }
   ],
   "source": [
    "mnist_data = input_data.read_data_sets('./MNIST_data', one_hot=True)"
   ]
  },
  {
   "cell_type": "markdown",
   "metadata": {},
   "source": [
    "## build model"
   ]
  },
  {
   "cell_type": "code",
   "execution_count": 23,
   "metadata": {
    "collapsed": true
   },
   "outputs": [],
   "source": [
    "batch_size = 60\n",
    "hidden1_dim = 100\n",
    "hidden2_dim = 120\n",
    "input_dim = 784\n",
    "output_dim = 10\n",
    "def mlp(input, hidden1_dim, hidden2_dim):\n",
    "    with tf.name_scope('hidden1'):\n",
    "        w_values = tf.truncated_normal(shape=[input_dim, hidden1_dim], stddev=1./np.sqrt(float(input_dim)))\n",
    "        weights = tf.Variable(w_values, name='weights')\n",
    "        b_values = tf.zeros(shape=[hidden1_dim])\n",
    "        biases = tf.Variable(b_values, name='biases')\n",
    "        hidden1 = tf.nn.relu(tf.matmul(input, weights) + biases)\n",
    "    \n",
    "    with tf.name_scope('hidden2'):\n",
    "        w_values = tf.truncated_normal(shape=[hidden1_dim, hidden2_dim], stddev=1./np.sqrt(float(hidden1_dim)))\n",
    "        weights = tf.Variable(w_values, name='weights')\n",
    "        b_values = tf.zeros(shape=[hidden2_dim])\n",
    "        biases = tf.Variable(b_values, name='biases')\n",
    "        hidden2 = tf.nn.relu(tf.matmul(hidden1, weights) + biases)\n",
    "    \n",
    "    with tf.name_scope('softmax_linear'):\n",
    "        w_values = tf.truncated_normal(shape=[hidden2_dim, output_dim], stddev=1./np.sqrt(float(hidden2_dim)))\n",
    "        weights = tf.Variable(w_values, name='weights')\n",
    "        b_values = tf.zeros(shape=[output_dim])\n",
    "        biases = tf.Variable(b_values, name='biases')\n",
    "        output = tf.matmul(hidden2, weights) + biases\n",
    "    \n",
    "    return output\n",
    "\n",
    "def get_loss(output, labels):\n",
    "    xentropy = tf.reduce_mean(tf.nn.softmax_cross_entropy_with_logits(output, labels))\n",
    "    return xentropy\n",
    "\n",
    "def get_eval(output, labels):\n",
    "    accu = tf.equal(tf.argmax(output, 1), tf.argmax(labels, 1))\n",
    "    accu = tf.reduce_mean(tf.cast(accu, tf.float32))\n",
    "    return accu"
   ]
  },
  {
   "cell_type": "markdown",
   "metadata": {},
   "source": [
    "## training model"
   ]
  },
  {
   "cell_type": "code",
   "execution_count": 24,
   "metadata": {
    "collapsed": true
   },
   "outputs": [],
   "source": [
    "def get_train_op(loss):\n",
    "    optimizer = tf.train.GradientDescentOptimizer(0.01)\n",
    "    train_op = optimizer.minimize(loss)\n",
    "    return train_op\n",
    "\n",
    "def valid_eval(sess, test_data, loss, accu, input, labels, batch_size=32):\n",
    "    num_batches = test_data.num_examples // batch_size\n",
    "    loss_list, accu_list = [], []\n",
    "    for ii in range(num_batches):\n",
    "        batch_x, batch_y = test_data.next_batch(batch_size)\n",
    "        feed_dict = {input: batch_x, labels: batch_y}\n",
    "        loss_value, accu_value = sess.run([loss, accu], feed_dict=feed_dict)\n",
    "        loss_list.append(loss_value)\n",
    "        accu_list.append(accu_value)\n",
    "    return np.mean(loss_list), np.mean(accu_list)\n",
    "\n",
    "def train_model(sess, input, labels, train_op, loss, accu):\n",
    "    loss_list, accu_list = [], []\n",
    "    for ii in range(n_epochs):\n",
    "        bar = progressbar.ProgressBar()\n",
    "        for jj in bar(range(steps_per_epoch)):\n",
    "            batch_x, batch_y = mnist_data.train.next_batch(batch_size)\n",
    "            feed_dict = {input: batch_x, labels: batch_y}\n",
    "            sess.run([train_op], feed_dict = feed_dict)\n",
    "        loss_value, accu_value = valid_eval(sess, mnist_data.validation, loss, accu, input, labels)\n",
    "        loss_list.append(loss_value)\n",
    "        accu_list.append(accu_value)\n",
    "        print (\"epoch: {}, loss: {:.3f}, accu: {:.3f}\".format(ii, loss_value, accu_value))\n",
    "    return loss_list, accu_list"
   ]
  },
  {
   "cell_type": "code",
   "execution_count": 25,
   "metadata": {
    "collapsed": false
   },
   "outputs": [
    {
     "data": {
      "text/plain": [
       "[<tensorflow.python.ops.variables.Variable at 0x7fc0ff508d90>,\n",
       " <tensorflow.python.ops.variables.Variable at 0x7fc0ff508e10>,\n",
       " <tensorflow.python.ops.variables.Variable at 0x7fc0ff508e50>,\n",
       " <tensorflow.python.ops.variables.Variable at 0x7fc125472f10>,\n",
       " <tensorflow.python.ops.variables.Variable at 0x7fc0ff508ed0>,\n",
       " <tensorflow.python.ops.variables.Variable at 0x7fc0ff4947d0>,\n",
       " <tensorflow.python.ops.variables.Variable at 0x7fc0fc0eeed0>,\n",
       " <tensorflow.python.ops.variables.Variable at 0x7fc0fc0eee50>,\n",
       " <tensorflow.python.ops.variables.Variable at 0x7fc0fc0ecb90>,\n",
       " <tensorflow.python.ops.variables.Variable at 0x7fc0fc0fac10>,\n",
       " <tensorflow.python.ops.variables.Variable at 0x7fc0fc0eef90>,\n",
       " <tensorflow.python.ops.variables.Variable at 0x7fc0fc055e10>,\n",
       " <tensorflow.python.ops.variables.Variable at 0x7fc0f65eb690>,\n",
       " <tensorflow.python.ops.variables.Variable at 0x7fc0ff811090>,\n",
       " <tensorflow.python.ops.variables.Variable at 0x7fc0fc109ed0>,\n",
       " <tensorflow.python.ops.variables.Variable at 0x7fc0f65ffe10>,\n",
       " <tensorflow.python.ops.variables.Variable at 0x7fc0f65ffd10>,\n",
       " <tensorflow.python.ops.variables.Variable at 0x7fc0f65429d0>,\n",
       " <tensorflow.python.ops.variables.Variable at 0x7fc0fc1763d0>,\n",
       " <tensorflow.python.ops.variables.Variable at 0x7fc14c24dd10>,\n",
       " <tensorflow.python.ops.variables.Variable at 0x7fc0fc26a650>,\n",
       " <tensorflow.python.ops.variables.Variable at 0x7fc14c1de2d0>,\n",
       " <tensorflow.python.ops.variables.Variable at 0x7fc0f62f2190>,\n",
       " <tensorflow.python.ops.variables.Variable at 0x7fc0fc16b050>,\n",
       " <tensorflow.python.ops.variables.Variable at 0x7fc0f6586910>,\n",
       " <tensorflow.python.ops.variables.Variable at 0x7fc0f623f350>,\n",
       " <tensorflow.python.ops.variables.Variable at 0x7fc0f672d8d0>,\n",
       " <tensorflow.python.ops.variables.Variable at 0x7fc0f662c8d0>,\n",
       " <tensorflow.python.ops.variables.Variable at 0x7fc0f62a5210>,\n",
       " <tensorflow.python.ops.variables.Variable at 0x7fc0f65bee10>,\n",
       " <tensorflow.python.ops.variables.Variable at 0x7fc0f64ff4d0>,\n",
       " <tensorflow.python.ops.variables.Variable at 0x7fc0f66f3590>,\n",
       " <tensorflow.python.ops.variables.Variable at 0x7fc0f1359250>,\n",
       " <tensorflow.python.ops.variables.Variable at 0x7fc0f1367fd0>,\n",
       " <tensorflow.python.ops.variables.Variable at 0x7fc0f1367b10>,\n",
       " <tensorflow.python.ops.variables.Variable at 0x7fc0f0e62850>,\n",
       " <tensorflow.python.ops.variables.Variable at 0x7fc0f11b8450>,\n",
       " <tensorflow.python.ops.variables.Variable at 0x7fc0f65e1f10>,\n",
       " <tensorflow.python.ops.variables.Variable at 0x7fc0f65e1110>,\n",
       " <tensorflow.python.ops.variables.Variable at 0x7fc0f0e62810>,\n",
       " <tensorflow.python.ops.variables.Variable at 0x7fc0f11d8950>,\n",
       " <tensorflow.python.ops.variables.Variable at 0x7fc0f0b7f950>,\n",
       " <tensorflow.python.ops.variables.Variable at 0x7fc0f0fefed0>,\n",
       " <tensorflow.python.ops.variables.Variable at 0x7fc0f65fbdd0>,\n",
       " <tensorflow.python.ops.variables.Variable at 0x7fc0f10cee10>,\n",
       " <tensorflow.python.ops.variables.Variable at 0x7fc0f0875c50>,\n",
       " <tensorflow.python.ops.variables.Variable at 0x7fc0f0fb3c50>,\n",
       " <tensorflow.python.ops.variables.Variable at 0x7fc0f0896cd0>,\n",
       " <tensorflow.python.ops.variables.Variable at 0x7fc0f0ecf650>,\n",
       " <tensorflow.python.ops.variables.Variable at 0x7fc0f0db4c90>,\n",
       " <tensorflow.python.ops.variables.Variable at 0x7fc0f0eec190>,\n",
       " <tensorflow.python.ops.variables.Variable at 0x7fc0f0dc7510>,\n",
       " <tensorflow.python.ops.variables.Variable at 0x7fc0f0dd7850>,\n",
       " <tensorflow.python.ops.variables.Variable at 0x7fc0f05cca10>]"
      ]
     },
     "execution_count": 25,
     "metadata": {},
     "output_type": "execute_result"
    }
   ],
   "source": [
    "n_epochs = 10\n",
    "steps_per_epoch = mnist_data.train.num_examples // batch_size\n",
    "input = tf.placeholder(tf.float32, shape=[None, input_dim], name='input')\n",
    "labels = tf.placeholder(tf.float32, shape=[None, output_dim], name='output')\n",
    "\n",
    "\n",
    "output = mlp(input, hidden1_dim, hidden2_dim)\n",
    "loss = get_loss(output, labels)\n",
    "accu = get_eval(output, labels)\n",
    "train_op = get_train_op(loss)\n",
    "\n",
    "\n",
    "sess = tf.Session()\n",
    "sess.run(tf.global_variables_initializer())\n",
    "\n",
    "'''\n",
    "loss_list, accu_list = train_model(sess, input, labels, train_op, loss, accu)\n",
    "\n",
    "plt.figure()\n",
    "plt.subplot(211)\n",
    "plt.scatter(range(len(loss_list)), loss_list, label='loss')\n",
    "plt.legend()\n",
    "plt.subplot(212)\n",
    "plt.scatter(range(len(accu_list)), accu_list, label='accu')\n",
    "plt.legend()\n",
    "plt.show()\n",
    "'''\n",
    "tf.global_variables()"
   ]
  },
  {
   "cell_type": "code",
   "execution_count": 14,
   "metadata": {
    "collapsed": false
   },
   "outputs": [
    {
     "data": {
      "text/plain": [
       "[<tensorflow.python.ops.variables.Variable at 0x7fc0ff508d90>,\n",
       " <tensorflow.python.ops.variables.Variable at 0x7fc0ff508e10>,\n",
       " <tensorflow.python.ops.variables.Variable at 0x7fc0ff508e50>,\n",
       " <tensorflow.python.ops.variables.Variable at 0x7fc125472f10>,\n",
       " <tensorflow.python.ops.variables.Variable at 0x7fc0ff508ed0>,\n",
       " <tensorflow.python.ops.variables.Variable at 0x7fc0ff4947d0>,\n",
       " <tensorflow.python.ops.variables.Variable at 0x7fc0fc0eeed0>,\n",
       " <tensorflow.python.ops.variables.Variable at 0x7fc0fc0eee50>,\n",
       " <tensorflow.python.ops.variables.Variable at 0x7fc0fc0ecb90>,\n",
       " <tensorflow.python.ops.variables.Variable at 0x7fc0fc0fac10>,\n",
       " <tensorflow.python.ops.variables.Variable at 0x7fc0fc0eef90>,\n",
       " <tensorflow.python.ops.variables.Variable at 0x7fc0fc055e10>]"
      ]
     },
     "execution_count": 14,
     "metadata": {},
     "output_type": "execute_result"
    }
   ],
   "source": [
    "tf.global_variables()"
   ]
  },
  {
   "cell_type": "code",
   "execution_count": null,
   "metadata": {
    "collapsed": true
   },
   "outputs": [],
   "source": []
  }
 ],
 "metadata": {
  "anaconda-cloud": {},
  "kernelspec": {
   "display_name": "Python [conda root]",
   "language": "python",
   "name": "conda-root-py"
  },
  "language_info": {
   "codemirror_mode": {
    "name": "ipython",
    "version": 2
   },
   "file_extension": ".py",
   "mimetype": "text/x-python",
   "name": "python",
   "nbconvert_exporter": "python",
   "pygments_lexer": "ipython2",
   "version": "2.7.12"
  }
 },
 "nbformat": 4,
 "nbformat_minor": 1
}
