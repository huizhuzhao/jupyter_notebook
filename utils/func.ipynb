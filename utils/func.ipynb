{
 "cells": [
  {
   "cell_type": "code",
   "execution_count": 1,
   "metadata": {
    "collapsed": true
   },
   "outputs": [],
   "source": [
    "import numpy as np"
   ]
  },
  {
   "cell_type": "markdown",
   "metadata": {},
   "source": [
    "## softmax\n",
    "\n",
    "Now, we have vector $x = [x_1, x_2, .., x_n]$, which is the output of one classification model; however values $x_i$ are unnormalized, i.e. $\\sum_{k=1}^n x_k != 1$.\n",
    "\n",
    "We will use **softmax** function to normalize $x$, and the formular is\n",
    "\n",
    "$\n",
    "\\begin{array}{ll}\n",
    "x^{normal} & = \\left [e^{-x_1}, e^{-x_2}, ..., e^{-x_n}\\right ]/\\sum_{k=1}^n e^{-x_k} \\\\ \\\\\n",
    "&  = \\left [ g_1, g_2, ..., g_n \\right ]  \\\\ \\end{array}\n",
    "$\n",
    "\n",
    "where $g_i =  1 / \\sum_{k=1}^n e^{-(x_k - x_i)} \\\\ $\n",
    "\n",
    "\n",
    "In case, X is a 2D tensor, i.e\n",
    "\n",
    "\n",
    "$\n",
    "\\begin{align}\n",
    "X = \\left( \\begin{array}{ccc}\n",
    "x_{11} & x_{12} & ... & x_{1n} \\\\\n",
    "x_{21} & x_{22} & ... & x_{2n} \\\\\n",
    "... \\\\\n",
    "x_{m1} & x_{m2} & ... & x_{mn} \\end{array} \\right)\n",
    "\\end{align}\n",
    "$\n",
    "\n",
    "after normalization, we have\n",
    "\n",
    "$\n",
    "X^{normal} = \\left( \\begin{array}{ccc}\n",
    "g_{11} & g_{12} & .. & g_{1n} \\\\\n",
    "g_{21} & g_{22} & .. & g_{2n} \\\\\n",
    "... \\\\\n",
    "g_{m1} & g_{m2} & .. & g_{mn} \\end{array} \\right)\n",
    "$\n",
    "\n",
    "where $g_{ij} =  1 / \\sum_{k=1}^n e^{-(x_{ik} - x_{ij})}$"
   ]
  },
  {
   "cell_type": "code",
   "execution_count": 5,
   "metadata": {
    "collapsed": false
   },
   "outputs": [
    {
     "name": "stdout",
     "output_type": "stream",
     "text": [
      "[[ 0.13674939  0.06958251  0.45072809  0.34294   ]\n",
      " [ 0.30497229  0.25565502  0.31585526  0.12351744]\n",
      " [ 0.39067909  0.2473492   0.07670641  0.28526533]]\n",
      "[ 1.  1.  1.]\n"
     ]
    }
   ],
   "source": [
    "def softmax(x):\n",
    "    assert len(x.shape) == 2\n",
    "    x = np.asarray(x, dtype='float32')\n",
    "    dim = x.shape[1]\n",
    "    x_tile = x[:, :, np.newaxis] # expand the last dim\n",
    "    x_tile = np.tile(x_tile, (1, 1, dim)) # repeat the last dim\n",
    "    \n",
    "    x_sub = x[:, np.newaxis, :] # expand the second dim\n",
    "    x_out = x_tile - x_sub\n",
    "    \n",
    "    g = 1. / np.sum(np.exp(-x_out), axis=1)\n",
    "    return g\n",
    "\n",
    "\n",
    "a = softmax(np.random.randn(3, 4))\n",
    "print(a)\n",
    "print(np.sum(a, axis=1))"
   ]
  },
  {
   "cell_type": "markdown",
   "metadata": {
    "collapsed": false
   },
   "source": [
    "## compute mean and std\n",
    "1. 计算序列均值/方差公式为:\n",
    "\n",
    " $\\bar{x}_{n} = \\frac{1}{n}\\sum_{i=1}^n x_i$\n",
    " \n",
    " $x^{var}_n = \\sum_{i=1}^n (x_i - \\bar{x}_{n})^2$\n",
    " \n",
    "\n",
    "2. 当我们不确定序列长度 n 的值时，对上面公式进行变换有：\n",
    "\n",
    "　$\n",
    "　\\begin{align}\n",
    "　\\bar{x}_{n+1} & = \\frac{1}{n+1}\\sum_{i=1}^{n+1} x_i \\\\\n",
    "　& = \\bar{x}_{n} + \\frac{x_{n+1}-\\bar{x}_{n}}{n+1} \\\\\n",
    " x^{var}_{n+1} & = \\sum_{i=1}^{n+1} (x_i - \\bar{x}_{n+1})^2 \\\\\n",
    "    & = x^{var}_{n} + (x_{n+1} - \\bar{x}_{n}) * (x_{n+1} - \\bar{x}_{n+1})\n",
    "　\\end{align}\n",
    "  $\n",
    "  \n",
    "\n",
    "　即通过迭代的方式有：\n",
    "  x_mean += dx / n\n",
    "  ```\n",
    "  n = 0\n",
    "  x_mean = 0\n",
    "  x_var = 0\n",
    "  for x in x_iter:\n",
    "      n += 1\n",
    "      dx = x - x_mean\n",
    "      x_mean += dx / n\n",
    "      x_var += dx * (x - x_mean)\n",
    "  \n",
    "  x_std = sqrt(x_var / n)\n",
    "  ```"
   ]
  },
  {
   "cell_type": "code",
   "execution_count": 1,
   "metadata": {
    "collapsed": false
   },
   "outputs": [
    {
     "name": "stdout",
     "output_type": "stream",
     "text": [
      "(-0.020244256770264896, 0.96084964575929277)\n"
     ]
    }
   ],
   "source": [
    "import numpy as np\n",
    "\n",
    "def mean_std(x_list):\n",
    "    x_mean = 0.\n",
    "    x_square = 0.\n",
    "    n = 0\n",
    "    for x in x_list:\n",
    "        n += 1\n",
    "        dx = x - x_mean\n",
    "        x_mean += dx / n\n",
    "        x_square += dx * (x - x_mean)\n",
    "    \n",
    "    return x_mean, np.sqrt(x_square / n)\n",
    "\n",
    "x = np.random.randn(1000)\n",
    "x_mean_1 = np.mean(x)\n",
    "x_std_2 = np.std(x)\n",
    "x_mean_2, x_std_2 = mean_std(x)\n",
    "print(x_mean_1, x_std_1)"
   ]
  },
  {
   "cell_type": "code",
   "execution_count": 3,
   "metadata": {
    "collapsed": false
   },
   "outputs": [
    {
     "name": "stdout",
     "output_type": "stream",
     "text": [
      "(-0.020244256770264868, 0.96084964575929255)\n"
     ]
    }
   ],
   "source": [
    "\n",
    "\n",
    "\n",
    "print(x_mean_2, x_std_2)"
   ]
  },
  {
   "cell_type": "code",
   "execution_count": null,
   "metadata": {
    "collapsed": true
   },
   "outputs": [],
   "source": []
  }
 ],
 "metadata": {
  "anaconda-cloud": {},
  "kernelspec": {
   "display_name": "Python [conda root]",
   "language": "python",
   "name": "conda-root-py"
  },
  "language_info": {
   "codemirror_mode": {
    "name": "ipython",
    "version": 2
   },
   "file_extension": ".py",
   "mimetype": "text/x-python",
   "name": "python",
   "nbconvert_exporter": "python",
   "pygments_lexer": "ipython2",
   "version": "2.7.12"
  }
 },
 "nbformat": 4,
 "nbformat_minor": 1
}
