{
 "cells": [
  {
   "cell_type": "code",
   "execution_count": 2,
   "metadata": {
    "collapsed": true
   },
   "outputs": [],
   "source": [
    "import numpy as np\n",
    "from Teemo.algorithm.utils import evaluations"
   ]
  },
  {
   "cell_type": "code",
   "execution_count": 6,
   "metadata": {
    "collapsed": false
   },
   "outputs": [
    {
     "name": "stdout",
     "output_type": "stream",
     "text": [
      "0.831582501575\n"
     ]
    }
   ],
   "source": [
    "def gen_data():\n",
    "    x = np.random.randn(3, 4)\n",
    "    y = np.random.randn(3, 4)\n",
    "    y[:2] = x[:2]\n",
    "    corr = evaluations.correlation_pearson(x, y)\n",
    "    print corr\n",
    "\n",
    "gen_data()"
   ]
  },
  {
   "cell_type": "code",
   "execution_count": 7,
   "metadata": {
    "collapsed": true
   },
   "outputs": [],
   "source": [
    "import theano\n",
    "import theano.tensor as T"
   ]
  },
  {
   "cell_type": "code",
   "execution_count": 13,
   "metadata": {
    "collapsed": false
   },
   "outputs": [
    {
     "name": "stdout",
     "output_type": "stream",
     "text": [
      "[ 1.27817353  0.92184448 -1.02643298]\n",
      "[ 1.63372757  0.84979724  1.05356466]\n"
     ]
    }
   ],
   "source": [
    "x = T.vector('x')\n",
    "y = T.vector('y')\n",
    "sq = T.square(x - y)\n",
    "fn = theano.function([x, y], sq)\n",
    "x_val = np.random.randn(3,).astype(theano.config.floatX)\n",
    "y_val = np.random.randn(3,).astype(theano.config.floatX)\n",
    "print x_val - y_val\n",
    "print fn(x_val, y_val)"
   ]
  },
  {
   "cell_type": "code",
   "execution_count": null,
   "metadata": {
    "collapsed": true
   },
   "outputs": [],
   "source": []
  }
 ],
 "metadata": {
  "anaconda-cloud": {},
  "kernelspec": {
   "display_name": "Python [conda root]",
   "language": "python",
   "name": "conda-root-py"
  },
  "language_info": {
   "codemirror_mode": {
    "name": "ipython",
    "version": 2
   },
   "file_extension": ".py",
   "mimetype": "text/x-python",
   "name": "python",
   "nbconvert_exporter": "python",
   "pygments_lexer": "ipython2",
   "version": "2.7.12"
  }
 },
 "nbformat": 4,
 "nbformat_minor": 1
}
