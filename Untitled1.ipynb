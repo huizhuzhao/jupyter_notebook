{
 "cells": [
  {
   "cell_type": "code",
   "execution_count": 1,
   "metadata": {
    "collapsed": true
   },
   "outputs": [],
   "source": [
    "from Teemo.utils import rdkit_utils, obabel_utils"
   ]
  },
  {
   "cell_type": "code",
   "execution_count": 2,
   "metadata": {
    "collapsed": false
   },
   "outputs": [],
   "source": [
    "sm = 'c1ccccc1O'\n",
    "rd_mol = rdkit_utils.load_mol(sm, addHs=True)\n",
    "ob_mol = obabel_utils.load_mol(sm)"
   ]
  },
  {
   "cell_type": "code",
   "execution_count": 3,
   "metadata": {
    "collapsed": true
   },
   "outputs": [],
   "source": [
    "rd_atoms = list(rdkit_utils.atomIter(rd_mol))\n",
    "ob_atoms = list(obabel_utils.atomIter(ob_mol))"
   ]
  },
  {
   "cell_type": "code",
   "execution_count": 4,
   "metadata": {
    "collapsed": false
   },
   "outputs": [
    {
     "name": "stdout",
     "output_type": "stream",
     "text": [
      "(13, 7)\n"
     ]
    }
   ],
   "source": [
    "print(len(rd_atoms), len(ob_atoms))"
   ]
  },
  {
   "cell_type": "code",
   "execution_count": 6,
   "metadata": {
    "collapsed": false
   },
   "outputs": [
    {
     "name": "stdout",
     "output_type": "stream",
     "text": [
      "2\n",
      "<Swig Object of type 'OpenBabel::OBBondIterator *' at 0x7f7136ef36c0>\n",
      "2\n"
     ]
    }
   ],
   "source": [
    "def foo(mol_utils, pointer):\n",
    "    mol = mol_utils.load_mol(pointer)\n",
    "    atoms = list(mol_utils.atomIter(mol))\n",
    "    Atom = mol_utils.Atom()\n",
    "    \n",
    "    print(atoms[0].HighestBondOrder())\n",
    "    print(atoms[0].EndBonds())\n",
    "    p = Atom.GetNumRingBonds(atoms[0])\n",
    "    print(p)\n",
    "    \n",
    "foo(obabel_utils, sm)"
   ]
  },
  {
   "cell_type": "code",
   "execution_count": 7,
   "metadata": {
    "collapsed": false
   },
   "outputs": [
    {
     "name": "stdout",
     "output_type": "stream",
     "text": [
      "(7, 13)\n"
     ]
    }
   ],
   "source": [
    "atoms_1 = list(obabel_utils.atomIter(ob_mol))\n",
    "atoms_2 = list(obabel_utils.atomIter(obabel_utils.addHydrogens(ob_mol)))\n",
    "print(len(atoms_1), len(atoms_2))"
   ]
  },
  {
   "cell_type": "code",
   "execution_count": 9,
   "metadata": {
    "collapsed": false
   },
   "outputs": [
    {
     "data": {
      "text/plain": [
       "([6, 6, 6, 6, 6, 6, 8], [6, 6, 6, 6, 6, 6, 8, 1, 1, 1, 1, 1, 1])"
      ]
     },
     "execution_count": 9,
     "metadata": {},
     "output_type": "execute_result"
    }
   ],
   "source": [
    "[atom.GetAtomicNum() for atom in atoms_1], [atom.GetAtomicNum() for atom in atoms_2]"
   ]
  },
  {
   "cell_type": "code",
   "execution_count": 18,
   "metadata": {
    "collapsed": false
   },
   "outputs": [
    {
     "name": "stdout",
     "output_type": "stream",
     "text": [
      "('Car', [0, 2, 1])\n",
      "('Car', [0, 2, 1])\n",
      "('Car', [0, 2, 1])\n",
      "('Car', [0, 2, 1])\n",
      "('Car', [0, 2, 1])\n",
      "('Car', [0, 2, 1])\n",
      "('O3', [0, 2])\n"
     ]
    }
   ],
   "source": [
    "for atom in atoms_1:\n",
    "    print(atom.GetType(), [atom.CountBondsOfOrder(ii) for ii in range(atom.HighestBondOrder() + 1)])"
   ]
  },
  {
   "cell_type": "code",
   "execution_count": 19,
   "metadata": {
    "collapsed": false
   },
   "outputs": [
    {
     "name": "stdout",
     "output_type": "stream",
     "text": [
      "('Car', [0, 2, 1])\n",
      "('Car', [0, 2, 1])\n",
      "('Car', [0, 2, 1])\n",
      "('Car', [0, 2, 1])\n",
      "('Car', [0, 2, 1])\n",
      "('Car', [0, 2, 1])\n",
      "('O3', [0, 2])\n",
      "('H', [0, 1])\n",
      "('H', [0, 1])\n",
      "('H', [0, 1])\n",
      "('H', [0, 1])\n",
      "('H', [0, 1])\n",
      "('HO', [0, 1])\n"
     ]
    }
   ],
   "source": [
    "for atom in atoms_2:\n",
    "    print(atom.GetType(), [atom.CountBondsOfOrder(ii) for ii in range(atom.HighestBondOrder() + 1)])"
   ]
  },
  {
   "cell_type": "code",
   "execution_count": 21,
   "metadata": {
    "collapsed": false
   },
   "outputs": [
    {
     "name": "stdout",
     "output_type": "stream",
     "text": [
      "(6, 3, 3)\n",
      "(6, 3, 3)\n",
      "(6, 3, 3)\n",
      "(6, 3, 3)\n",
      "(6, 3, 3)\n",
      "(6, 3, 3)\n",
      "(8, 2, 2)\n",
      "(1, 1, 1)\n",
      "(1, 1, 1)\n",
      "(1, 1, 1)\n",
      "(1, 1, 1)\n",
      "(1, 1, 1)\n",
      "(1, 1, 1)\n"
     ]
    }
   ],
   "source": [
    "for atom in rdkit_utils.atomIter(rd_mol):\n",
    "    print(atom.GetAtomicNum(), atom.GetDegree(), atom.GetTotalDegree())"
   ]
  },
  {
   "cell_type": "code",
   "execution_count": 22,
   "metadata": {
    "collapsed": true
   },
   "outputs": [],
   "source": [
    "mol2_file = '/home/huizhu/bitbucket/mol_data/pdbbind/4mu7/4mu7_ligand.mol2'\n",
    "sdf_file = '/home/huizhu/bitbucket/mol_data/pdbbind/4mu7/4mu7_ligand.sdf'"
   ]
  },
  {
   "cell_type": "code",
   "execution_count": 34,
   "metadata": {
    "collapsed": false
   },
   "outputs": [
    {
     "name": "stdout",
     "output_type": "stream",
     "text": [
      "(6, 3) (6, 3)\n",
      "(6, 2) (6, 2)\n",
      "(6, 1) (6, 1)\n",
      "(7, 2) (7, 2)\n",
      "(6, 3) (6, 3)\n",
      "(6, 0) (6, 0)\n",
      "(8, 0) (8, 0)\n",
      "(7, 1) (7, 1)\n",
      "(6, 1) (6, 1)\n",
      "(6, 1) (6, 1)\n",
      "(6, 2) (6, 2)\n",
      "(6, 2) (6, 2)\n",
      "(6, 2) (6, 2)\n",
      "(6, 2) (6, 2)\n",
      "(6, 2) (6, 2)\n",
      "(6, 0) (6, 0)\n",
      "(8, 0) (8, 0)\n",
      "(7, 0) (7, 0)\n",
      "(6, 2) (6, 2)\n",
      "(6, 1) (6, 1)\n",
      "(6, 2) (6, 2)\n",
      "(6, 0) (6, 0)\n",
      "(6, 1) (6, 1)\n",
      "(6, 1) (6, 1)\n",
      "(6, 1) (6, 1)\n",
      "(6, 1) (6, 1)\n",
      "(6, 0) (6, 0)\n",
      "(7, 0) (7, 0)\n",
      "(6, 2) (6, 2)\n",
      "(6, 1) (6, 1)\n",
      "(6, 0) (6, 0)\n",
      "(8, 0) (8, 0)\n",
      "(7, 1) (7, 1)\n",
      "(6, 1) (6, 1)\n",
      "(6, 2) (6, 2)\n",
      "(6, 2) (6, 2)\n",
      "(8, 0) (8, 0)\n",
      "(6, 0) (6, 0)\n",
      "(6, 1) (6, 1)\n",
      "(6, 1) (6, 1)\n",
      "(6, 1) (6, 1)\n",
      "(6, 1) (6, 1)\n",
      "(6, 0) (6, 0)\n"
     ]
    }
   ],
   "source": [
    "rd_sdf_mol = rdkit_utils.load_mol(sdf_file)\n",
    "ob_sdf_mol = obabel_utils.load_mol(sdf_file)\n",
    "rd_sdf_atoms = list(rdkit_utils.atomIter(rd_sdf_mol))\n",
    "ob_sdf_atoms = list(obabel_utils.atomIter(ob_sdf_mol))\n",
    "for a1, a2 in zip(rd_sdf_atoms, ob_sdf_atoms):\n",
    "    print(a1.GetAtomicNum(), a1.GetTotalNumHs()),\n",
    "    print(a2.GetAtomicNum(), a2.ExplicitHydrogenCount() + a2.ImplicitHydrogenCount())"
   ]
  },
  {
   "cell_type": "code",
   "execution_count": 31,
   "metadata": {
    "collapsed": false
   },
   "outputs": [
    {
     "data": {
      "text/plain": [
       "'Car'"
      ]
     },
     "execution_count": 31,
     "metadata": {},
     "output_type": "execute_result"
    }
   ],
   "source": [
    "a2.GetType()"
   ]
  },
  {
   "cell_type": "code",
   "execution_count": 32,
   "metadata": {
    "collapsed": false
   },
   "outputs": [
    {
     "ename": "AttributeError",
     "evalue": "'OBAtom' object has no attribute 'GetSymbol'",
     "output_type": "error",
     "traceback": [
      "\u001b[0;31m---------------------------------------------------------------------------\u001b[0m",
      "\u001b[0;31mAttributeError\u001b[0m                            Traceback (most recent call last)",
      "\u001b[0;32m<ipython-input-32-6d43f1364682>\u001b[0m in \u001b[0;36m<module>\u001b[0;34m()\u001b[0m\n\u001b[0;32m----> 1\u001b[0;31m \u001b[0ma2\u001b[0m\u001b[0;34m.\u001b[0m\u001b[0mGetSymbol\u001b[0m\u001b[0;34m(\u001b[0m\u001b[0;34m)\u001b[0m\u001b[0;34m\u001b[0m\u001b[0m\n\u001b[0m",
      "\u001b[0;31mAttributeError\u001b[0m: 'OBAtom' object has no attribute 'GetSymbol'"
     ]
    }
   ],
   "source": [
    "a2.GetSymbol()"
   ]
  },
  {
   "cell_type": "code",
   "execution_count": null,
   "metadata": {
    "collapsed": true
   },
   "outputs": [],
   "source": []
  }
 ],
 "metadata": {
  "kernelspec": {
   "display_name": "Python [conda root]",
   "language": "python",
   "name": "conda-root-py"
  },
  "language_info": {
   "codemirror_mode": {
    "name": "ipython",
    "version": 2
   },
   "file_extension": ".py",
   "mimetype": "text/x-python",
   "name": "python",
   "nbconvert_exporter": "python",
   "pygments_lexer": "ipython2",
   "version": "2.7.12"
  }
 },
 "nbformat": 4,
 "nbformat_minor": 1
}
