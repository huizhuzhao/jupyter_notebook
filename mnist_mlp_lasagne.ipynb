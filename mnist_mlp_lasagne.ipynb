{
 "cells": [
  {
   "cell_type": "code",
   "execution_count": 56,
   "metadata": {
    "collapsed": false
   },
   "outputs": [],
   "source": [
    "import theano\n",
    "import theano.tensor as T\n",
    "import lasagne\n",
    "from lasagne.layers import InputLayer, DropoutLayer, DenseLayer\n",
    "from lasagne.layers import Conv2DLayer, MaxPool2DLayer, Pool2DLayer\n",
    "from lasagne.objectives import categorical_crossentropy, squared_error\n",
    "from lasagne.updates import sgd, rmsprop\n",
    "\n",
    "from lasagne.nonlinearities import rectify, softmax, tanh, sigmoid, linear\n",
    "from lasagne.init import GlorotUniform\n",
    "\n",
    "import numpy as np\n",
    "import matplotlib.pyplot as plt"
   ]
  },
  {
   "cell_type": "markdown",
   "metadata": {},
   "source": [
    "## build model"
   ]
  },
  {
   "cell_type": "code",
   "execution_count": 93,
   "metadata": {
    "collapsed": false
   },
   "outputs": [],
   "source": [
    "def build_mlp(input_var=None):\n",
    "    l_in = InputLayer(shape=(None, 1, 28, 28), input_var=input_var)\n",
    "    l_hid1 = DenseLayer(l_in, num_units=100, nonlinearity=rectify, W=GlorotUniform())\n",
    "    l_hid2 = DenseLayer(l_hid1, num_units=10, nonlinearity=softmax, W=GlorotUniform())\n",
    "    return l_hid2\n",
    "    \n",
    "\n",
    "def build_cnn(input_var=None):\n",
    "    l_in = InputLayer(shape=(None, 1, 28, 28), input_var=input_var)\n",
    "    \n",
    "    l_conv1 = Conv2DLayer(l_in, num_filters=32, filter_size=(5, 5), nonlinearity=rectify, W=GlorotUniform(), pad='same')\n",
    "    l_pool1 = Pool2DLayer(l_conv1, pool_size=(2, 2), mode='max')\n",
    "    \n",
    "    l_output = DenseLayer(l_pool1, num_units=10, nonlinearity=softmax, W=GlorotUniform())\n",
    "    return l_output"
   ]
  },
  {
   "cell_type": "markdown",
   "metadata": {},
   "source": [
    "## prepared data"
   ]
  },
  {
   "cell_type": "code",
   "execution_count": 94,
   "metadata": {
    "collapsed": false
   },
   "outputs": [
    {
     "name": "stdout",
     "output_type": "stream",
     "text": [
      "(60000, 1, 28, 28) (60000, 10)\n"
     ]
    }
   ],
   "source": [
    "from Teemo.examples.mnist import load_data\n",
    "trn_X, trn_y, valid_X, valid_y = load_data.mnist(dim_ordering='th', one_hot=True)\n",
    "trn_X /= 255.\n",
    "valid_X /= 255.\n",
    "\n",
    "print trn_X.shape, trn_y.shape"
   ]
  },
  {
   "cell_type": "markdown",
   "metadata": {},
   "source": [
    "## train model"
   ]
  },
  {
   "cell_type": "code",
   "execution_count": 132,
   "metadata": {
    "collapsed": false
   },
   "outputs": [],
   "source": [
    "from Teemo.algorithm.utils import matrixops\n",
    "def train_model(model, input_var, target_var, trn_X, trn_y, valid_X, valid_y, nb_epoch=10, mini_batch=32):\n",
    "    \n",
    "    pred = lasagne.layers.get_output(model)\n",
    "    loss = categorical_crossentropy(pred, target_var).mean()\n",
    "    params = lasagne.layers.get_all_params(model, trainable=True)\n",
    "    updates = sgd(loss, params, learning_rate=0.01)\n",
    "    train_fn = theano.function([input_var, target_var], loss, updates=updates)\n",
    "    evaluate_fn = evaluate_model(model, input_var, target_var)\n",
    "    trn_loss_list = []\n",
    "    valid_metrics_list = []\n",
    "    for ii in range(nb_epoch):\n",
    "        tmp_loss_list = []\n",
    "        for mb_x, mb_y in matrixops.iterate_minibatches(mini_batch, trn_X, trn_y, shuffle=True):\n",
    "            tmp_loss = train_fn(mb_x, mb_y)\n",
    "            tmp_loss_list.append(tmp_loss)\n",
    "        trn_loss = np.mean(tmp_loss_list)\n",
    "        trn_loss_list.append(trn_loss)\n",
    "        valid_metrics = evaluate_fn(valid_X, valid_y)\n",
    "        valid_metrics_list.append(valid_metrics)\n",
    "        print 'Training epoch: {0}, valid_metrics: {1}'.format(ii, valid_metrics)\n",
    "    return valid_metrics_list\n",
    "\n",
    "\n",
    "def gen_metric_fn(model, input_var, target_var):\n",
    "    valid_pred = lasagne.layers.get_output(model, deterministic=True) ## deterministic will disable dropout layer\n",
    "    valid_loss = categorical_crossentropy(valid_pred, target_var).mean()\n",
    "    valid_acc = T.mean(T.eq(T.argmax(valid_pred, axis=1), T.argmax(target_var, axis=1)), dtype=theano.config.floatX)\n",
    "\n",
    "    metric_fn = theano.function([input_var, target_var], [valid_loss, valid_acc])\n",
    "    return metric_fn"
   ]
  },
  {
   "cell_type": "code",
   "execution_count": 133,
   "metadata": {
    "collapsed": false
   },
   "outputs": [
    {
     "name": "stdout",
     "output_type": "stream",
     "text": [
      "Training epoch: 0, valid_metrics: [array(0.3637428405258666), array(0.9018)]\n",
      "Training epoch: 1, valid_metrics: [array(0.29830362755188106), array(0.9172)]\n",
      "Training epoch: 2, valid_metrics: [array(0.2628807630675223), array(0.9276)]\n",
      "Training epoch: 3, valid_metrics: [array(0.24310485410873317), array(0.9325)]\n",
      "Training epoch: 4, valid_metrics: [array(0.2279015581149729), array(0.9361)]\n",
      "Training epoch: 5, valid_metrics: [array(0.21278974040677148), array(0.9398)]\n",
      "Training epoch: 6, valid_metrics: [array(0.20039607601546916), array(0.9426)]\n",
      "Training epoch: 7, valid_metrics: [array(0.18985401023405082), array(0.9461)]\n",
      "Training epoch: 8, valid_metrics: [array(0.17872544669128035), array(0.9484)]\n",
      "Training epoch: 9, valid_metrics: [array(0.17043268103265813), array(0.9499)]\n"
     ]
    }
   ],
   "source": [
    "input_var = T.tensor4('inputs')\n",
    "target_var = T.matrix('targets')\n",
    "model = build_mlp(input_var)\n",
    "valid_metrics_list = train_model(model, input_var, target_var, trn_X, trn_y, valid_X, valid_y)"
   ]
  },
  {
   "cell_type": "markdown",
   "metadata": {},
   "source": [
    "## visualization"
   ]
  },
  {
   "cell_type": "code",
   "execution_count": 137,
   "metadata": {
    "collapsed": false
   },
   "outputs": [
    {
     "data": {
      "image/png": "[encoded data removed]",
      "text/plain": [
       "<matplotlib.figure.Figure at 0x7f0e6f0bf590>"
      ]
     },
     "metadata": {},
     "output_type": "display_data"
    }
   ],
   "source": [
    "plt.figure()\n",
    "plt.subplot(211)\n",
    "plt.plot(range(len(valid_metrics_list)), [x[0] for x in valid_metrics_list], label='loss')\n",
    "plt.legend()\n",
    "plt.subplot(212)\n",
    "plt.plot(range(len(valid_metrics_list)), [x[1] for x in valid_metrics_list], label='accu')\n",
    "plt.legend()\n",
    "plt.show()"
   ]
  },
  {
   "cell_type": "code",
   "execution_count": null,
   "metadata": {
    "collapsed": true
   },
   "outputs": [],
   "source": []
  }
 ],
 "metadata": {
  "anaconda-cloud": {},
  "kernelspec": {
   "display_name": "Python [conda root]",
   "language": "python",
   "name": "conda-root-py"
  },
  "language_info": {
   "codemirror_mode": {
    "name": "ipython",
    "version": 2
   },
   "file_extension": ".py",
   "mimetype": "text/x-python",
   "name": "python",
   "nbconvert_exporter": "python",
   "pygments_lexer": "ipython2",
   "version": "2.7.12"
  }
 },
 "nbformat": 4,
 "nbformat_minor": 1
}
