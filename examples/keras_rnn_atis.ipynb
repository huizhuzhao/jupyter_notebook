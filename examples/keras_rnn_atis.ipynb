{
 "cells": [
  {
   "cell_type": "markdown",
   "metadata": {},
   "source": [
    "### RNN model (atis data), train_on_batch\n",
    "refer to: https://github.com/chsasank/ATIS.keras"
   ]
  },
  {
   "cell_type": "markdown",
   "metadata": {},
   "source": [
    "### prepare data"
   ]
  },
  {
   "cell_type": "code",
   "execution_count": 1,
   "metadata": {
    "collapsed": true
   },
   "outputs": [],
   "source": [
    "import numpy as np\n",
    "from Teemo.examples.atis import load_data"
   ]
  },
  {
   "cell_type": "code",
   "execution_count": 3,
   "metadata": {
    "collapsed": false
   },
   "outputs": [
    {
     "name": "stdout",
     "output_type": "stream",
     "text": [
      "(572, 127)\n",
      "(18, 18)\n"
     ]
    }
   ],
   "source": [
    "train_set, valid_set, dicts = load_data.atis()\n",
    "w2idx, labels2idx = dicts['words2idx'], dicts['labels2idx']\n",
    "train_x, _, train_y = train_set\n",
    "valid_x, _, valid_y = valid_set\n",
    "\n",
    "idx2w = {w2idx[k]:k for k in w2idx}\n",
    "idx2labels = {labels2idx[k]:k for k in labels2idx}\n",
    "print (len(idx2w), len(idx2labels))\n",
    "print (len(train_x[0]), len(train_y[0]))"
   ]
  },
  {
   "cell_type": "code",
   "execution_count": 4,
   "metadata": {
    "collapsed": false
   },
   "outputs": [],
   "source": [
    "train_words = [list(map(lambda x: idx2w[x], w)) for w in train_x]\n",
    "train_labels = [list(map(lambda x: idx2labels[x], w)) for w in train_y]\n",
    "valid_words = [list(map(lambda x: idx2w[x], w)) for w in valid_x]\n",
    "valid_labels = [list(map(lambda x: idx2labels[x], w)) for w in valid_y]"
   ]
  },
  {
   "cell_type": "markdown",
   "metadata": {},
   "source": [
    "### build model"
   ]
  },
  {
   "cell_type": "code",
   "execution_count": 5,
   "metadata": {
    "collapsed": false
   },
   "outputs": [],
   "source": [
    "voca_size = len(idx2w)\n",
    "n_classes = len(idx2labels)\n",
    "word_vec_dim = 100\n",
    "hidden_dim = 200"
   ]
  },
  {
   "cell_type": "code",
   "execution_count": 6,
   "metadata": {
    "collapsed": false
   },
   "outputs": [
    {
     "name": "stderr",
     "output_type": "stream",
     "text": [
      "Using Theano backend.\n"
     ]
    }
   ],
   "source": [
    "from keras.models import Sequential\n",
    "from keras.layers.embeddings import Embedding\n",
    "from keras.layers.recurrent import SimpleRNN, LSTM\n",
    "from keras.layers.core import Dense, Dropout\n",
    "from keras.layers.wrappers import TimeDistributed\n",
    "from keras.layers import Convolution1D"
   ]
  },
  {
   "cell_type": "code",
   "execution_count": 20,
   "metadata": {
    "collapsed": false
   },
   "outputs": [],
   "source": [
    "def build_model(voca_size, word_vec_dim, hidden_dim, n_classes):\n",
    "    model = Sequential()\n",
    "    model.add(Embedding(output_dim=word_vec_dim, input_dim=voca_size))\n",
    "    model.add(Dropout(0.25))\n",
    "    model.add(SimpleRNN(output_dim=hidden_dim, return_sequences=True))\n",
    "    model.add(TimeDistributed(Dense(output_dim=n_classes, activation='softmax')))\n",
    "    model.compile(loss='categorical_crossentropy', optimizer='rmsprop', metrics=['accuracy'])\n",
    "    print ('model input_shape (nb_samples, seq_length): {0}'.format(model.input_shape))\n",
    "    print ('model output_shape (nb_samples, seq_length, output_dim): {0}'.format(model.output_shape))\n",
    "    return model"
   ]
  },
  {
   "cell_type": "markdown",
   "metadata": {},
   "source": [
    "### train model"
   ]
  },
  {
   "cell_type": "code",
   "execution_count": 21,
   "metadata": {
    "collapsed": false
   },
   "outputs": [],
   "source": [
    "import progressbar\n",
    "def train_on_batch(model, train_x, train_y, n_classes):\n",
    "    n_epochs = 10\n",
    "    for ii in range(n_epochs):\n",
    "        print ('Training epoch {0}'.format(ii))\n",
    "        bar = progressbar.ProgressBar(max_value=len(train_x))\n",
    "        for seq_x, seq_y in bar(zip(train_x, train_y)):\n",
    "        #for n_batch, sent in bar(enumerate(train_x)):\n",
    "            seq_x = seq_x[np.newaxis, :]\n",
    "            seq_y = np.eye(n_classes)[seq_y][np.newaxis, :]\n",
    "            if seq_x.shape[1] > 1:\n",
    "                model.train_on_batch(seq_x, seq_y)\n",
    "                \n",
    "def evaluate_on_batch(model, valid_x, valid_y):\n",
    "    pred_values_list = []\n",
    "    for seq in valid_x:\n",
    "        seq = seq[np.newaxis, :]\n",
    "        pred = model.predict_on_batch(seq)[0]\n",
    "        pred = np.argmax(pred, axis=1)\n",
    "        pred_values_list.append(pred)\n",
    "    return pred_values_list"
   ]
  },
  {
   "cell_type": "code",
   "execution_count": 22,
   "metadata": {
    "collapsed": false
   },
   "outputs": [
    {
     "name": "stdout",
     "output_type": "stream",
     "text": [
      "model input_shape (nb_samples, seq_length): (None, None)\n",
      "model output_shape (nb_samples, seq_length, output_dim): (None, None, 127)\n"
     ]
    }
   ],
   "source": [
    "model = build_model(voca_size, word_vec_dim, hidden_dim, n_classes)\n"
   ]
  },
  {
   "cell_type": "code",
   "execution_count": 60,
   "metadata": {
    "collapsed": false
   },
   "outputs": [
    {
     "name": "stdout",
     "output_type": "stream",
     "text": [
      "Precision=90.38, Recall = 91.83, F1 = 91.1\n"
     ]
    }
   ],
   "source": [
    "train_on_batch(model, train_x, train_y, n_classes)\n",
    "\n",
    "pred_values_list = evaluate_on_batch(model, valid_x, valid_y)    \n",
    "pred_labels_list = [list(map(lambda x: idx2label[x], seq)) for seq in pred_values_list]\n",
    "true_labels_list = valid_labels\n",
    "from metrics.accuracy import conlleval\n",
    "con_dict = conlleval(pred_labels_list, true_labels_list, words_valid, 'measure.txt')\n",
    "print ('Precision={}, Recall = {}, F1 = {}'.format(con_dict['r'], con_dict['p'], con_dict['f1']))"
   ]
  }
 ],
 "metadata": {
  "anaconda-cloud": {},
  "kernelspec": {
   "display_name": "Python [conda root]",
   "language": "python",
   "name": "conda-root-py"
  },
  "language_info": {
   "codemirror_mode": {
    "name": "ipython",
    "version": 2
   },
   "file_extension": ".py",
   "mimetype": "text/x-python",
   "name": "python",
   "nbconvert_exporter": "python",
   "pygments_lexer": "ipython2",
   "version": "2.7.12"
  }
 },
 "nbformat": 4,
 "nbformat_minor": 1
}
