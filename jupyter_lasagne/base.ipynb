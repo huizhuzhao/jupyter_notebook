{
 "cells": [
  {
   "cell_type": "code",
   "execution_count": 15,
   "metadata": {
    "collapsed": false
   },
   "outputs": [],
   "source": [
    "from lasagne.layers import InputLayer, DenseLayer, MergeLayer"
   ]
  },
  {
   "cell_type": "markdown",
   "metadata": {},
   "source": [
    "## DenseLayer\n",
    "layer.input_shape, layer.output_shape"
   ]
  },
  {
   "cell_type": "code",
   "execution_count": 16,
   "metadata": {
    "collapsed": false
   },
   "outputs": [
    {
     "name": "stdout",
     "output_type": "stream",
     "text": [
      "(100, 20, 20, 3)\n",
      "(100, 20, 50) (100, 20, 20, 3)\n"
     ]
    }
   ],
   "source": [
    "l_in = InputLayer(shape=(100, 20, 20, 3))\n",
    "l_hidden = DenseLayer(l_in, num_units=50, num_leading_axes=2)\n",
    "print l_in.output_shape\n",
    "print l_hidden.output_shape, l_hidden.input_shape"
   ]
  },
  {
   "cell_type": "markdown",
   "metadata": {},
   "source": [
    "## MergeLayer\n",
    "**layer.input_shapes**, layer.output_shape"
   ]
  },
  {
   "cell_type": "code",
   "execution_count": 21,
   "metadata": {
    "collapsed": false
   },
   "outputs": [
    {
     "name": "stdout",
     "output_type": "stream",
     "text": [
      "(100, 50) (120, 60)\n"
     ]
    }
   ],
   "source": [
    "max_atom_len = 100\n",
    "max_bond_len = 120\n",
    "atom_feat_dim = 50\n",
    "bond_feat_dim = 60\n",
    "l_in_atom = InputLayer(shape=(max_atom_len, atom_feat_dim))\n",
    "l_in_bond = InputLayer(shape=(max_bond_len, bond_feat_dim))\n",
    "print l_in_atom.output_shape, l_in_bond.output_shape"
   ]
  },
  {
   "cell_type": "code",
   "execution_count": 22,
   "metadata": {
    "collapsed": false
   },
   "outputs": [
    {
     "name": "stdout",
     "output_type": "stream",
     "text": [
      "[(100, 50), (120, 60)]\n",
      "[<lasagne.layers.input.InputLayer object at 0x7f3ccc989690>, <lasagne.layers.input.InputLayer object at 0x7f3ccc9896d0>]\n"
     ]
    }
   ],
   "source": [
    "merge_layer = MergeLayer([l_in_atom, l_in_bond])\n",
    "print merge_layer.input_shapes\n",
    "print merge_layer.input_layers"
   ]
  },
  {
   "cell_type": "code",
   "execution_count": 14,
   "metadata": {
    "collapsed": false
   },
   "outputs": [],
   "source": [
    "from lasagne.layers import MergeLayer\n",
    "class HiddenLayer(MergeLayer):\n",
    "    def __init__(incoming):\n",
    "        pass"
   ]
  },
  {
   "cell_type": "code",
   "execution_count": null,
   "metadata": {
    "collapsed": true
   },
   "outputs": [],
   "source": []
  }
 ],
 "metadata": {
  "anaconda-cloud": {},
  "kernelspec": {
   "display_name": "Python [conda root]",
   "language": "python",
   "name": "conda-root-py"
  },
  "language_info": {
   "codemirror_mode": {
    "name": "ipython",
    "version": 2
   },
   "file_extension": ".py",
   "mimetype": "text/x-python",
   "name": "python",
   "nbconvert_exporter": "python",
   "pygments_lexer": "ipython2",
   "version": "2.7.12"
  }
 },
 "nbformat": 4,
 "nbformat_minor": 1
}
