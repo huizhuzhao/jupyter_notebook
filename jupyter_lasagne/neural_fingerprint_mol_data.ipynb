{
 "cells": [
  {
   "cell_type": "markdown",
   "metadata": {},
   "source": [
    "## 对开源项目neural-fingerprint-theano中生成的分子图数据进行整理，\n",
    "了解`atom_features` `bond_features`矩阵中所代表的意思\n",
    "\n",
    "https://github.com/debbiemarkslab/neural-fingerprint-theano\n"
   ]
  },
  {
   "cell_type": "code",
   "execution_count": 4,
   "metadata": {
    "collapsed": true
   },
   "outputs": [],
   "source": [
    "import getpass\n",
    "from neural_fingerprint_theano.code.rdkit_preprocessing import neuralFingerprintUtils\n",
    "from neural_fingerprint_theano.code.rdkit_preprocessing import genConvMolFeatures\n",
    "from neural_fingerprint_theano.code.prediction import seqHelper\n",
    "from rdkit import Chem\n",
    "import numpy as np"
   ]
  },
  {
   "cell_type": "code",
   "execution_count": 4,
   "metadata": {
    "collapsed": true
   },
   "outputs": [],
   "source": [
    "def prepare_data():\n",
    "    data_dir = '/home/'+getpass.getuser()+'/git_test/neural_fingerprint_theano/data'\n",
    "    expr_filename = data_dir+'/csv_files/logSolubilityTest.csv'\n",
    "    fingerprint_filename = data_dir + '/temp/logSolubilityInput_withRDKITidx.pkl'\n",
    "\n",
    "    smiles_to_measurement,smiles_to_atom_info,smiles_to_bond_info,\\\n",
    "        smiles_to_atom_neighbors,smiles_to_bond_neighbors,smiles_to_atom_mask,\\\n",
    "        smiles_to_rdkit_list,max_atom_len,max_bond_len,num_atom_features,num_bond_features\\\n",
    "        = seqHelper.read_in_data(expr_filename, fingerprint_filename)\n",
    "\n",
    "    smiles_list = smiles_to_measurement.keys()\n",
    "    sm = smiles_list[0]\n",
    "    atom_info = smiles_to_atom_info[sm]\n",
    "    bond_info = smiles_to_bond_info[sm]\n",
    "    atom_neighbors = smiles_to_atom_neighbors[sm]\n",
    "    bond_neighbors = smiles_to_bond_neighbors[sm]\n",
    "    atom_mask = smiles_to_atom_mask[sm]\n",
    "    rdkit_list = smiles_to_rdkit_list[sm]\n",
    "\n",
    "    print type(atom_info), atom_info.shape\n",
    "    print type(bond_info), bond_info.shape\n",
    "    print type(atom_neighbors), atom_neighbors.shape\n",
    "    print type(bond_neighbors), bond_neighbors.shape"
   ]
  },
  {
   "cell_type": "code",
   "execution_count": 5,
   "metadata": {
    "collapsed": false
   },
   "outputs": [
    {
     "name": "stdout",
     "output_type": "stream",
     "text": [
      "<type 'numpy.ndarray'> (56, 68)\n",
      "<type 'numpy.ndarray'> (63, 6)\n",
      "<type 'numpy.ndarray'> (56, 6)\n",
      "<type 'numpy.ndarray'> (56, 6)\n"
     ]
    }
   ],
   "source": [
    "prepare_data()"
   ]
  },
  {
   "cell_type": "code",
   "execution_count": 56,
   "metadata": {
    "collapsed": false
   },
   "outputs": [
    {
     "name": "stdout",
     "output_type": "stream",
     "text": [
      "C4_C5 [False False False  True  True  True]\n",
      "C1_C2 [False False False  True  True  True]\n",
      "C3_C4 [False False False  True  True  True]\n",
      "C0_C1 [False False False  True  True  True]\n",
      "C2_C3 [False False False  True  True  True]\n",
      "C5_C0 [False False False  True  True  True]\n",
      "C5_O6 [ True False False False  True False]\n"
     ]
    }
   ],
   "source": [
    "def mol_features():\n",
    "    \"\"\"\n",
    "    atom_features:\n",
    "        ['C', 'N', 'O', 'S', 'F', 'Si', 'P', 'Cl', 'Br', 'Mg', 'Na',\n",
    "         'Ca', 'Fe', 'As', 'Al', 'I', 'B', 'V', 'K', 'Tl', 'Yb',\n",
    "         'Sb', 'Sn', 'Ag', 'Pd', 'Co', 'Se', 'Ti', 'Zn', 'H',    # H?\n",
    "         'Li', 'Ge', 'Cu', 'Au', 'Ni', 'Cd', 'In', 'Mn', 'Zr',\n",
    "         'Cr', 'Pt', 'Hg', 'Pb', 'Unknown']  ## 44\n",
    "         [0, 1, 2, 3, 4, 5] # atom degree\n",
    "         [0, 1, 2, 3, 4]    # total num Hs\n",
    "         [0, 1, 2, 3, 4, 5] # implicit valence\n",
    "         [isAromatic]\n",
    "         [-2,-1,0,1,2,'Unknown'] # formal charge\n",
    "    \n",
    "    bond_features:\n",
    "        ['SINGLE', 'DOUBLE', 'TRIPLE', 'AROMATIC', 'IsConjugated', 'IsInRing']\n",
    "\n",
    "    \"\"\"\n",
    "    sm = 'c1ccccc1O'\n",
    "    mol = Chem.MolFromSmiles(sm)\n",
    "    atom_feat_dic = {}\n",
    "    for atom in mol.GetAtoms():\n",
    "        feat = neuralFingerprintUtils.atom_features(atom)\n",
    "        symb = atom.GetSymbol()\n",
    "        id = atom.GetIdx()\n",
    "        atom_feat_dic[symb+str(id)] = feat\n",
    "    \n",
    "    bond_feat_dic = {}\n",
    "    for bond in mol.GetBonds():\n",
    "        atom1 = bond.GetBeginAtom()\n",
    "        atom2 = bond.GetEndAtom()\n",
    "        bond_name = atom1.GetSymbol()+str(atom1.GetIdx())+'_'+atom2.GetSymbol()+str(atom2.GetIdx())\n",
    "        feat = neuralFingerprintUtils.bond_features(bond)\n",
    "        bond_feat_dic[bond_name] = feat\n",
    "    \n",
    "    return atom_feat_dic, bond_feat_dic\n",
    "\n",
    "atom_feat_dic, bond_feat_dic = mol_features()\n",
    "for k, v in bond_feat_dic.items():\n",
    "    print k, v"
   ]
  },
  {
   "cell_type": "code",
   "execution_count": 44,
   "metadata": {
    "collapsed": false
   },
   "outputs": [
    {
     "name": "stdout",
     "output_type": "stream",
     "text": [
      "O6 atom_degree [False  True False False False False] num Hs [False  True False False False]\n",
      "  implicit valence [False  True False False False False] isAromatic [False]\n",
      "  formalcharge [False False  True False False False]\n",
      "\n",
      "C3 atom_degree [False False  True False False False] num Hs [False  True False False False]\n",
      "  implicit valence [False  True False False False False] isAromatic [ True]\n",
      "  formalcharge [False False  True False False False]\n",
      "\n",
      "C2 atom_degree [False False  True False False False] num Hs [False  True False False False]\n",
      "  implicit valence [False  True False False False False] isAromatic [ True]\n",
      "  formalcharge [False False  True False False False]\n",
      "\n",
      "C1 atom_degree [False False  True False False False] num Hs [False  True False False False]\n",
      "  implicit valence [False  True False False False False] isAromatic [ True]\n",
      "  formalcharge [False False  True False False False]\n",
      "\n",
      "C0 atom_degree [False False  True False False False] num Hs [False  True False False False]\n",
      "  implicit valence [False  True False False False False] isAromatic [ True]\n",
      "  formalcharge [False False  True False False False]\n",
      "\n",
      "C5 atom_degree [False False False  True False False] num Hs [ True False False False False]\n",
      "  implicit valence [ True False False False False False] isAromatic [ True]\n",
      "  formalcharge [False False  True False False False]\n",
      "\n",
      "C4 atom_degree [False False  True False False False] num Hs [False  True False False False]\n",
      "  implicit valence [False  True False False False False] isAromatic [ True]\n",
      "  formalcharge [False False  True False False False]\n",
      "\n"
     ]
    }
   ],
   "source": [
    "for k, v in feat_dic.items():\n",
    "    print k, 'atom_degree', v[44:50], 'num Hs', v[50:55]\n",
    "    print '  implicit valence', v[55:61], 'isAromatic', v[61:62]\n",
    "    print '  formalcharge', v[62:68]\n",
    "    print"
   ]
  },
  {
   "cell_type": "markdown",
   "metadata": {},
   "source": [
    "### `arrayrep`中`atom_features`矩阵中行的顺序是按照`atom degree`来排列的\n",
    "\n",
    "### `bond_features`矩阵中行的顺序是按照最初生成`bond`的顺序排列的"
   ]
  },
  {
   "cell_type": "code",
   "execution_count": 54,
   "metadata": {
    "collapsed": false
   },
   "outputs": [
    {
     "name": "stdout",
     "output_type": "stream",
     "text": [
      "7\n",
      "7\n",
      "[('bond_neighbors', 1), 'bond_features', 'atom_list', ('bond_neighbors', 2), ('atom_neighbors', 5), ('bond_neighbors', 3), 'atom_features', ('atom_neighbors', 4), ('bond_neighbors', 5), 'rdkit_ix', ('atom_neighbors', 0), ('atom_neighbors', 1), ('atom_neighbors', 2), ('bond_neighbors', 4), ('bond_neighbors', 0), ('atom_neighbors', 3)]\n",
      "[[False False False  True  True  True]\n",
      " [False False False  True  True  True]\n",
      " [False False False  True  True  True]\n",
      " [False False False  True  True  True]\n",
      " [False False False  True  True  True]\n",
      " [ True False False False  True False]\n",
      " [False False False  True  True  True]]\n",
      "atom features, sorted by atom degree\n",
      "[[False  True False False False False]\n",
      " [False False  True False False False]\n",
      " [False False  True False False False]\n",
      " [False False  True False False False]\n",
      " [False False  True False False False]\n",
      " [False False  True False False False]\n",
      " [False False False  True False False]]\n"
     ]
    }
   ],
   "source": [
    "sm = 'c1ccccc1O'\n",
    "molgraph = genConvMolFeatures.graph_from_smiles(sm)\n",
    "molgraph.sort_nodes_by_degree('atom')\n",
    "arrayrep = genConvMolFeatures.array_rep_from_smiles(molgraph)\n",
    "print len(molgraph.nodes['atom'])\n",
    "print len(molgraph.nodes['bond'])\n",
    "print arrayrep.keys()\n",
    "print arrayrep['bond_features']\n",
    "print 'atom features, sorted by atom degree'\n",
    "print arrayrep['atom_features'][:, 44:50]"
   ]
  },
  {
   "cell_type": "code",
   "execution_count": 5,
   "metadata": {
    "collapsed": false
   },
   "outputs": [
    {
     "name": "stdout",
     "output_type": "stream",
     "text": [
      "[6 0 1 2 3 4 5 7]\n",
      "{'c1ccccc1O': 1.0}\n",
      "[[5 7 7 7 7 7]\n",
      " [1 5 7 7 7 7]\n",
      " [0 2 7 7 7 7]\n",
      " [1 3 7 7 7 7]\n",
      " [2 4 7 7 7 7]\n",
      " [3 5 7 7 7 7]\n",
      " [4 6 0 7 7 7]\n",
      " [7 7 7 7 7 7]]\n",
      "[[None 7 7 7 7 7]\n",
      " [None None 7 7 7 7]\n",
      " [None None 7 7 7 7]\n",
      " [None None 7 7 7 7]\n",
      " [None None 7 7 7 7]\n",
      " [None None 7 7 7 7]\n",
      " [None None None 7 7 7]\n",
      " [7 7 7 7 7 7]]\n",
      "[ 1.  1.  1.  1.  1.  1.  1.  0.]\n"
     ]
    },
    {
     "name": "stderr",
     "output_type": "stream",
     "text": [
      "Using TensorFlow backend.\n"
     ]
    },
    {
     "data": {
      "image/png": "[encoded data removed]",
      "text/plain": [
       "<matplotlib.figure.Figure at 0x7f23113c9dd0>"
      ]
     },
     "metadata": {},
     "output_type": "display_data"
    }
   ],
   "source": [
    "def test_c1ccccc1O():\n",
    "    sm = 'c1ccccc1O'\n",
    "    data_dir = '/home/'+getpass.getuser()+'/git_test/neural_fingerprint_theano/data'\n",
    "    expr_filename = data_dir+'/huizhu/logP_c1ccccc1O.dat'\n",
    "    fingerprint_filename = data_dir + '/huizhu/c1ccccc1O.pkl'\n",
    "\n",
    "    smiles_to_measurement,smiles_to_atom_info,smiles_to_bond_info,\\\n",
    "        smiles_to_atom_neighbors,smiles_to_bond_neighbors,smiles_to_atom_mask,\\\n",
    "        smiles_to_rdkit_list,max_atom_len,max_bond_len,num_atom_features,num_bond_features\\\n",
    "        = seqHelper.read_in_data(expr_filename, fingerprint_filename)\n",
    "    \n",
    "    molgraph = genConvMolFeatures.graph_from_smiles(sm)\n",
    "    molgraph.sort_nodes_by_degree('atom')\n",
    "    \n",
    "    atom_neighbors = smiles_to_atom_neighbors[sm].astype(int) # atom index in molgraph.nodes['atom']\n",
    "    atom_rdkit_idx = [a.rdkit_ix for a in molgraph.nodes['atom']]\n",
    "    atom_rdkit_idx.append(len(atom_rdkit_idx))\n",
    "    atom_rdkit_idx = np.asarray(atom_rdkit_idx) \n",
    "    \n",
    "    bond_neighbors = smiles_to_bond_neighbors[sm].astype(int)\n",
    "    bond_rdkit_idx = [a.rdkit_ix for a in molgraph.nodes['bond']]\n",
    "    bond_rdkit_idx.append(len(bond_rdkit_idx))\n",
    "    bond_rdkit_idx = np.asarray(bond_rdkit_idx)\n",
    "    \n",
    "    print atom_rdkit_idx\n",
    "    print smiles_to_measurement\n",
    "    print atom_rdkit_idx[atom_neighbors]  ## true atom rdkit index\n",
    "    print bond_rdkit_idx[bond_neighbors]\n",
    "    \n",
    "    mask = smiles_to_atom_mask[sm]\n",
    "    print mask\n",
    "    \n",
    "    from Teemo.algorithm.preprocessing import image\n",
    "    import matplotlib.pyplot as plt\n",
    "    img = image.load_img(data_dir + '/huizhu/c1ccccc1O.jpg')\n",
    "    plt.imshow(img)\n",
    "    plt.axis('off')\n",
    "    plt.show()\n",
    "    \n",
    "    \n",
    "\n",
    "test_c1ccccc1O()"
   ]
  },
  {
   "cell_type": "code",
   "execution_count": null,
   "metadata": {
    "collapsed": true
   },
   "outputs": [],
   "source": []
  }
 ],
 "metadata": {
  "anaconda-cloud": {},
  "kernelspec": {
   "display_name": "Python [conda root]",
   "language": "python",
   "name": "conda-root-py"
  },
  "language_info": {
   "codemirror_mode": {
    "name": "ipython",
    "version": 2
   },
   "file_extension": ".py",
   "mimetype": "text/x-python",
   "name": "python",
   "nbconvert_exporter": "python",
   "pygments_lexer": "ipython2",
   "version": "2.7.12"
  }
 },
 "nbformat": 4,
 "nbformat_minor": 1
}
