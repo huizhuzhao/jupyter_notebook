{
 "cells": [
  {
   "cell_type": "markdown",
   "metadata": {},
   "source": [
    "### 以下内容是重复了下面的开源项目\n",
    "https://github.com/debbiemarkslab/neural-fingerprint-theano"
   ]
  },
  {
   "cell_type": "code",
   "execution_count": 1,
   "metadata": {
    "collapsed": false
   },
   "outputs": [
    {
     "name": "stderr",
     "output_type": "stream",
     "text": [
      "/home/xtalpi/anaconda2/lib/python2.7/site-packages/theano/tensor/signal/downsample.py:6: UserWarning: downsample module has been moved to the theano.tensor.signal.pool module.\n",
      "  \"downsample module has been moved to the theano.tensor.signal.pool module.\")\n"
     ]
    }
   ],
   "source": [
    "import getpass\n",
    "import numpy as np\n",
    "\n",
    "from neural_fingerprint_theano.code.prediction import seqHelper\n",
    "import theano\n",
    "import theano.tensor as T\n",
    "#from theano.tensor import *\n",
    "from theano.sandbox.rng_mrg import MRG_RandomStreams as RandomStreams\n",
    "import lasagne\n",
    "from lasagne.layers import InputLayer, MergeLayer\n",
    "from lasagne import nonlinearities\n",
    "from lasagne.random import get_rng"
   ]
  },
  {
   "cell_type": "code",
   "execution_count": 34,
   "metadata": {
    "collapsed": false
   },
   "outputs": [
    {
     "name": "stdout",
     "output_type": "stream",
     "text": [
      "max_atom_len:  56 max_bond_len:  63\n",
      "1122 <type 'dict'>\n",
      "-5.613\n",
      "(56, 68)\n",
      "(63, 6)\n",
      "(56, 6)\n",
      "(56, 6)\n",
      "(56,)\n",
      "[ 0  7 11 15 17 19 22 24 26 28  2  5  9 12 13 20 27  1  3  4  6  8 10 18 25\n",
      " 14 16 21 23]\n",
      "[(56, 68), (56, 68), (56, 68), (56, 68), (56, 68), (56, 68), (56, 68), (56, 68), (56, 68), (56, 68)]\n"
     ]
    }
   ],
   "source": [
    "data_dir = '/home/'+getpass.getuser()+'/git_test/neural_fingerprint_theano/data'\n",
    "## logP, SMILES 数据\n",
    "expr_filename = data_dir+'/csv_files/logSolubilityTest.csv'\n",
    "## 生成的分子指纹数据，用于生成训练矩阵 X\n",
    "fingerprint_filename = data_dir + '/temp/logSolubilityInput_withRDKITidx.pkl'\n",
    "\n",
    "smiles_to_measurement,smiles_to_atom_info,smiles_to_bond_info,\\\n",
    "smiles_to_atom_neighbors,smiles_to_bond_neighbors,smiles_to_atom_mask,\\\n",
    "smiles_to_rdkit_list,max_atom_len,max_bond_len,num_atom_features,num_bond_features\\\n",
    "     = seqHelper.read_in_data(expr_filename,fingerprint_filename)\n",
    "\n",
    "print 'max_atom_len: ', max_atom_len, 'max_bond_len: ', max_bond_len\n",
    "print len(smiles_to_measurement), type(smiles_to_measurement)\n",
    "\n",
    "sm = smiles_to_measurement.keys()[0]\n",
    "print smiles_to_measurement[sm]\n",
    "print smiles_to_atom_info[sm].shape\n",
    "print smiles_to_bond_info[sm].shape\n",
    "print smiles_to_atom_neighbors[sm].shape\n",
    "print smiles_to_bond_neighbors[sm].shape\n",
    "print smiles_to_atom_mask[sm].shape\n",
    "print smiles_to_rdkit_list[sm]\n",
    "print [x.shape for x in smiles_to_atom_info.values()[:10]]"
   ]
  },
  {
   "cell_type": "markdown",
   "metadata": {},
   "source": [
    "### 定义符号变量"
   ]
  },
  {
   "cell_type": "code",
   "execution_count": 36,
   "metadata": {
    "collapsed": false
   },
   "outputs": [],
   "source": [
    "#define my theano variables\n",
    "input_atom       = T.ftensor3('input_atom')\n",
    "input_atom_index = T.itensor3('input_atom_index')\n",
    "input_bonds      = T.ftensor3('input_bonds')\n",
    "input_bond_index = T.itensor3('input_mask_attn')\n",
    "input_mask       = T.fmatrix('input_mask_attn')\n",
    "target_vals      = T.fvector('output_data')"
   ]
  },
  {
   "cell_type": "code",
   "execution_count": 39,
   "metadata": {
    "collapsed": false
   },
   "outputs": [],
   "source": [
    "def buildCNNFingerprint(input_atom, input_bonds, input_atom_index, input_bond_index, input_mask, \\\n",
    "    max_atom_len, max_bond_len, input_atom_dim, input_bond_dim, input_index_dim, fingerprint_dim):\n",
    "    dropout_prob = 0.0\n",
    "    network_vals = {}\n",
    "\n",
    "    #take in input layers for the atom and the bonds\n",
    "    l_in_atom = InputLayer(shape=(None,max_atom_len,input_atom_dim), \\\n",
    "        input_var=input_atom)\n",
    "    l_in_bond = InputLayer(shape=(None,max_bond_len,input_bond_dim), \\\n",
    "        input_var=input_bonds)\n",
    "    \n",
    "    #take in layers for the indexing into the atoms and bonds\n",
    "    l_index_atom = InputLayer(shape=(None,max_atom_len,input_index_dim), \\\n",
    "        input_var=input_atom_index)\n",
    "    l_index_bond = InputLayer(shape=(None,max_atom_len,input_index_dim), \\\n",
    "        input_var=input_bond_index)\n",
    "    #take in input for the mask\n",
    "    l_mask = InputLayer(shape=(None,max_atom_len), input_var=input_mask)\n",
    "    \n",
    "    #get the number of hidden units for the first layer\n",
    "    first_hidden_units_num = fingerprint_network_architecture[0]\n",
    "    print input_atom_dim, input_bond_dim\n",
    "    #get the embedding of the sequences we are encoding\n",
    "    #network_vals['hiddens_for_atoms'] = FingerprintHiddensLayer([l_index_atom,l_index_bond,\\\n",
    "    #    l_in_atom,l_in_bond,l_in_atom,l_mask], input_atom_dim, input_atom_dim,\n",
    "    #    input_bond_dim,first_hidden_units_num,max_atom_len)\n",
    "    \n",
    "    \n",
    "    print l_in_atom.output_shape, l_in_bond.output_shape\n",
    "    print l_index_atom.output_shape, l_index_bond.output_shape\n",
    "    print l_mask.output_shape\n",
    "    #print network_vals['hiddens_for_atoms'].input_shapes"
   ]
  },
  {
   "cell_type": "code",
   "execution_count": 40,
   "metadata": {
    "collapsed": false
   },
   "outputs": [
    {
     "name": "stdout",
     "output_type": "stream",
     "text": [
      "68 6\n",
      "(None, 56, 68) (None, 63, 6)\n",
      "(None, 56, 6) (None, 56, 6)\n",
      "(None, 56)\n"
     ]
    }
   ],
   "source": [
    "input_index_dim = 6\n",
    "output_dim = 1\n",
    "fingerprint_dim = 265\n",
    "batch_size = 100\n",
    "final_layer_type = lasagne.nonlinearities.linear\n",
    "fingerprint_network_architecture=[500]*5\n",
    "neural_net=[1000]\n",
    "\n",
    "buildCNNFingerprint(input_atom, input_bonds, \\\n",
    "    input_atom_index, input_bond_index, input_mask, max_atom_len, max_bond_len, num_atom_features, \\\n",
    "    num_bond_features, input_index_dim, fingerprint_dim)\n"
   ]
  },
  {
   "cell_type": "code",
   "execution_count": null,
   "metadata": {
    "collapsed": true
   },
   "outputs": [],
   "source": [
    "class FingerprintHiddensLayer(MergeLayer):\n",
    "    def __init__(self, incoming, input_feature_num, input_atom_num, input_bond_num,\n",
    "        hidden_units_num, max_atom_len, p_dropout=0.0,\\\n",
    "        W_neighbors=lasagne.init.GlorotUniform(),b_neighbors=lasagne.init.Constant(0.),\\\n",
    "        W_atoms=lasagne.init.GlorotUniform(),b_atoms=lasagne.init.Constant(0.),\\\n",
    "        nonlinearity=nonlinearities.rectify,batch_normalization=True, **kwargs):\n",
    "        super(FingerprintHiddensLayer, self).__init__(incoming, **kwargs)\n",
    "        self.nonlinearity = (lasagne.nonlinearities.identity if nonlinearity is None\n",
    "                             else nonlinearity)\n",
    "\n",
    "        #initlialize the values of the weight matrices I'm going to use to transform\n",
    "        self.W_neighbors = self.add_param(W_neighbors,(input_feature_num+input_bond_num,hidden_units_num),name=\"W_neighbors\")\n",
    "        self.b_neighbors = self.add_param(b_neighbors,(hidden_units_num,),name=\"b_neighbors\",regularizable=False)\n",
    "\n",
    "        self.W_atoms = self.add_param(W_atoms,(input_atom_num,hidden_units_num),name=\"W_atoms\")\n",
    "        self.b_atoms = self.add_param(b_atoms,(hidden_units_num,),name=\"b_atoms\",regularizable=False)\n",
    "\n",
    "        self.num_units = hidden_units_num\n",
    "        self.atom_num = input_atom_num\n",
    "        self.input_feature_num = input_feature_num\n",
    "\n",
    "        self.p_dropout = p_dropout\n",
    "        self._srng = RandomStreams(get_rng().randint(1, 2147462579))\n",
    "        self.length = max_atom_len"
   ]
  },
  {
   "cell_type": "code",
   "execution_count": 53,
   "metadata": {
    "collapsed": false
   },
   "outputs": [
    {
     "name": "stdout",
     "output_type": "stream",
     "text": [
      "(None, 56, 68) (None, 63, 6)\n",
      "(None, 56, 6) (None, 56, 6)\n",
      "(None, 56)\n",
      "[(None, 56, 6), (None, 56, 6), (None, 56, 68), (None, 63, 6), (None, 56, 68), (None, 56)]\n"
     ]
    },
    {
     "ename": "NotImplementedError",
     "evalue": "",
     "output_type": "error",
     "traceback": [
      "\u001b[0;31m---------------------------------------------------------------------------\u001b[0m",
      "\u001b[0;31mNotImplementedError\u001b[0m                       Traceback (most recent call last)",
      "\u001b[0;32m<ipython-input-53-02cfb49b60fc>\u001b[0m in \u001b[0;36m<module>\u001b[0;34m()\u001b[0m\n\u001b[1;32m     13\u001b[0m \u001b[0minput_mask\u001b[0m \u001b[0;34m=\u001b[0m \u001b[0mfmatrix\u001b[0m\u001b[0;34m(\u001b[0m\u001b[0;34m'input_mask_attn'\u001b[0m\u001b[0;34m)\u001b[0m\u001b[0;34m\u001b[0m\u001b[0m\n\u001b[1;32m     14\u001b[0m \u001b[0mtarget_vals\u001b[0m \u001b[0;34m=\u001b[0m \u001b[0mfvector\u001b[0m\u001b[0;34m(\u001b[0m\u001b[0;34m'output_data'\u001b[0m\u001b[0;34m)\u001b[0m\u001b[0;34m\u001b[0m\u001b[0m\n\u001b[0;32m---> 15\u001b[0;31m \u001b[0mcnn_model\u001b[0m \u001b[0;34m=\u001b[0m \u001b[0mbuildCNNFingerprint\u001b[0m\u001b[0;34m(\u001b[0m\u001b[0minput_atom\u001b[0m\u001b[0;34m,\u001b[0m \u001b[0minput_bonds\u001b[0m\u001b[0;34m,\u001b[0m     \u001b[0minput_atom_index\u001b[0m\u001b[0;34m,\u001b[0m \u001b[0minput_bond_index\u001b[0m\u001b[0;34m,\u001b[0m \u001b[0minput_mask\u001b[0m\u001b[0;34m,\u001b[0m \u001b[0mmax_atom_len\u001b[0m\u001b[0;34m,\u001b[0m \u001b[0mmax_bond_len\u001b[0m\u001b[0;34m,\u001b[0m \u001b[0mnum_atom_features\u001b[0m\u001b[0;34m,\u001b[0m     \u001b[0mnum_bond_features\u001b[0m\u001b[0;34m,\u001b[0m \u001b[0minput_index_dim\u001b[0m\u001b[0;34m,\u001b[0m \u001b[0mfingerprint_dim\u001b[0m\u001b[0;34m,\u001b[0m \u001b[0mbatch_size\u001b[0m\u001b[0;34m,\u001b[0m \u001b[0moutput_dim\u001b[0m\u001b[0;34m,\u001b[0m \u001b[0mfinal_layer_type\u001b[0m\u001b[0;34m,\u001b[0m     \u001b[0mfingerprint_network_architecture\u001b[0m\u001b[0;34m,\u001b[0m\u001b[0mneural_net\u001b[0m\u001b[0;34m)\u001b[0m\u001b[0;34m\u001b[0m\u001b[0m\n\u001b[0m",
      "\u001b[0;32m<ipython-input-52-5dd2229abf24>\u001b[0m in \u001b[0;36mbuildCNNFingerprint\u001b[0;34m(input_atom, input_bonds, input_atom_index, input_bond_index, input_mask, max_atom_len, max_bond_len, input_atom_dim, input_bond_dim, input_index_dim, fingerprint_dim, batch_size, output_dim, final_layer_type, fingerprint_network_architecture, neural_net)\u001b[0m\n\u001b[1;32m     26\u001b[0m     \u001b[0;32mprint\u001b[0m \u001b[0ml_mask\u001b[0m\u001b[0;34m.\u001b[0m\u001b[0moutput_shape\u001b[0m\u001b[0;34m\u001b[0m\u001b[0m\n\u001b[1;32m     27\u001b[0m     \u001b[0;32mprint\u001b[0m \u001b[0mnetwork_vals\u001b[0m\u001b[0;34m[\u001b[0m\u001b[0;34m'hiddens_for_atoms'\u001b[0m\u001b[0;34m]\u001b[0m\u001b[0;34m.\u001b[0m\u001b[0minput_shapes\u001b[0m\u001b[0;34m\u001b[0m\u001b[0m\n\u001b[0;32m---> 28\u001b[0;31m     \u001b[0;32mprint\u001b[0m \u001b[0mnetwork_vals\u001b[0m\u001b[0;34m[\u001b[0m\u001b[0;34m'hiddens_for_atoms'\u001b[0m\u001b[0;34m]\u001b[0m\u001b[0;34m.\u001b[0m\u001b[0moutput_shape\u001b[0m\u001b[0;34m\u001b[0m\u001b[0m\n\u001b[0m\u001b[1;32m     29\u001b[0m \u001b[0;34m\u001b[0m\u001b[0m\n\u001b[1;32m     30\u001b[0m \u001b[0;32mclass\u001b[0m \u001b[0mFingerprintHiddensLayer\u001b[0m\u001b[0;34m(\u001b[0m\u001b[0mMergeLayer\u001b[0m\u001b[0;34m)\u001b[0m\u001b[0;34m:\u001b[0m\u001b[0;34m\u001b[0m\u001b[0m\n",
      "\u001b[0;32m/home/huizhu/anaconda2/lib/python2.7/site-packages/lasagne/layers/base.pyc\u001b[0m in \u001b[0;36moutput_shape\u001b[0;34m(self)\u001b[0m\n\u001b[1;32m    248\u001b[0m     \u001b[0;34m@\u001b[0m\u001b[0mLayer\u001b[0m\u001b[0;34m.\u001b[0m\u001b[0moutput_shape\u001b[0m\u001b[0;34m.\u001b[0m\u001b[0mgetter\u001b[0m\u001b[0;34m\u001b[0m\u001b[0m\n\u001b[1;32m    249\u001b[0m     \u001b[0;32mdef\u001b[0m \u001b[0moutput_shape\u001b[0m\u001b[0;34m(\u001b[0m\u001b[0mself\u001b[0m\u001b[0;34m)\u001b[0m\u001b[0;34m:\u001b[0m\u001b[0;34m\u001b[0m\u001b[0m\n\u001b[0;32m--> 250\u001b[0;31m         \u001b[0;32mreturn\u001b[0m \u001b[0mself\u001b[0m\u001b[0;34m.\u001b[0m\u001b[0mget_output_shape_for\u001b[0m\u001b[0;34m(\u001b[0m\u001b[0mself\u001b[0m\u001b[0;34m.\u001b[0m\u001b[0minput_shapes\u001b[0m\u001b[0;34m)\u001b[0m\u001b[0;34m\u001b[0m\u001b[0m\n\u001b[0m\u001b[1;32m    251\u001b[0m \u001b[0;34m\u001b[0m\u001b[0m\n\u001b[1;32m    252\u001b[0m     \u001b[0;32mdef\u001b[0m \u001b[0mget_output_shape_for\u001b[0m\u001b[0;34m(\u001b[0m\u001b[0mself\u001b[0m\u001b[0;34m,\u001b[0m \u001b[0minput_shapes\u001b[0m\u001b[0;34m)\u001b[0m\u001b[0;34m:\u001b[0m\u001b[0;34m\u001b[0m\u001b[0m\n",
      "\u001b[0;32m/home/huizhu/anaconda2/lib/python2.7/site-packages/lasagne/layers/base.pyc\u001b[0m in \u001b[0;36mget_output_shape_for\u001b[0;34m(self, input_shapes)\u001b[0m\n\u001b[1;32m    275\u001b[0m         \u001b[0;34m`\u001b[0m\u001b[0mNotImplementedError\u001b[0m\u001b[0;34m`\u001b[0m\u001b[0;34m.\u001b[0m\u001b[0;34m\u001b[0m\u001b[0m\n\u001b[1;32m    276\u001b[0m         \"\"\"\n\u001b[0;32m--> 277\u001b[0;31m         \u001b[0;32mraise\u001b[0m \u001b[0mNotImplementedError\u001b[0m\u001b[0;34m\u001b[0m\u001b[0m\n\u001b[0m\u001b[1;32m    278\u001b[0m \u001b[0;34m\u001b[0m\u001b[0m\n\u001b[1;32m    279\u001b[0m     \u001b[0;32mdef\u001b[0m \u001b[0mget_output_for\u001b[0m\u001b[0;34m(\u001b[0m\u001b[0mself\u001b[0m\u001b[0;34m,\u001b[0m \u001b[0minputs\u001b[0m\u001b[0;34m,\u001b[0m \u001b[0;34m**\u001b[0m\u001b[0mkwargs\u001b[0m\u001b[0;34m)\u001b[0m\u001b[0;34m:\u001b[0m\u001b[0;34m\u001b[0m\u001b[0m\n",
      "\u001b[0;31mNotImplementedError\u001b[0m: "
     ]
    }
   ],
   "source": [
    "input_index_dim = 6\n",
    "output_dim = 1\n",
    "fingerprint_dim = 265\n",
    "batch_size = 100\n",
    "final_layer_type = lasagne.nonlinearities.linear\n",
    "fingerprint_network_architecture=[500]*5\n",
    "neural_net=[1000]\n",
    "\n",
    "input_atom = ftensor3('input_atom')\n",
    "input_atom_index = itensor3('input_atom_index')\n",
    "input_bonds = ftensor3('input_bonds')\n",
    "input_bond_index = itensor3('input_mask_attn')\n",
    "input_mask = fmatrix('input_mask_attn')\n",
    "target_vals = fvector('output_data')\n",
    "cnn_model = buildCNNFingerprint(input_atom, input_bonds, \\\n",
    "    input_atom_index, input_bond_index, input_mask, max_atom_len, max_bond_len, num_atom_features, \\\n",
    "    num_bond_features, input_index_dim, fingerprint_dim, batch_size, output_dim, final_layer_type, \\\n",
    "    fingerprint_network_architecture,neural_net)"
   ]
  },
  {
   "cell_type": "code",
   "execution_count": null,
   "metadata": {
    "collapsed": true
   },
   "outputs": [],
   "source": []
  },
  {
   "cell_type": "code",
   "execution_count": null,
   "metadata": {
    "collapsed": true
   },
   "outputs": [],
   "source": []
  }
 ],
 "metadata": {
  "anaconda-cloud": {},
  "kernelspec": {
   "display_name": "Python [conda root]",
   "language": "python",
   "name": "conda-root-py"
  },
  "language_info": {
   "codemirror_mode": {
    "name": "ipython",
    "version": 2
   },
   "file_extension": ".py",
   "mimetype": "text/x-python",
   "name": "python",
   "nbconvert_exporter": "python",
   "pygments_lexer": "ipython2",
   "version": "2.7.12"
  }
 },
 "nbformat": 4,
 "nbformat_minor": 1
}
