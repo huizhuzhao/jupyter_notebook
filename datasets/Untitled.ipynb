{
 "cells": [
  {
   "cell_type": "code",
   "execution_count": 2,
   "metadata": {
    "collapsed": true
   },
   "outputs": [],
   "source": [
    "import os\n",
    "import pandas as pd"
   ]
  },
  {
   "cell_type": "code",
   "execution_count": 3,
   "metadata": {
    "collapsed": true
   },
   "outputs": [],
   "source": [
    "hackthon_dir = '/home/xtalpi/bitbucket/test_data/hackthon/'\n",
    "file_path = os.path.join(hackthon_dir, 'challenge_2_train.csv')"
   ]
  },
  {
   "cell_type": "code",
   "execution_count": 4,
   "metadata": {
    "collapsed": false
   },
   "outputs": [
    {
     "data": {
      "text/html": [
       "<div>\n",
       "<table border=\"1\" class=\"dataframe\">\n",
       "  <thead>\n",
       "    <tr style=\"text-align: right;\">\n",
       "      <th></th>\n",
       "      <th>ProductId</th>\n",
       "      <th>ECPlateform</th>\n",
       "      <th>ShopName</th>\n",
       "      <th>Title</th>\n",
       "      <th>Detail_url</th>\n",
       "      <th>Pic_url</th>\n",
       "      <th>Price</th>\n",
       "      <th>ProductSpec</th>\n",
       "    </tr>\n",
       "  </thead>\n",
       "  <tbody>\n",
       "    <tr>\n",
       "      <th>0</th>\n",
       "      <td>924553.0</td>\n",
       "      <td>京东</td>\n",
       "      <td>ThinkPad京东官方旗舰店 京东自营</td>\n",
       "      <td>ThinkPad X1 Helix 36971C6 11.6英寸超极笔记本电脑（i5-333...</td>\n",
       "      <td>http://item.jd.com/924553.html</td>\n",
       "      <td>http://img13.360buyimg.com/n7/g14/M07/10/10/rB...</td>\n",
       "      <td>12999.0</td>\n",
       "      <td>商品名称：ThinkpadX1 Helix 3697-1C6  商品编号：924553  商...</td>\n",
       "    </tr>\n",
       "    <tr>\n",
       "      <th>1</th>\n",
       "      <td>1095605.0</td>\n",
       "      <td>京东</td>\n",
       "      <td>惠普官方旗舰店 京东自营</td>\n",
       "      <td>惠普（HP） CQ15-a102TX 15.6英寸笔记本电脑 (i5-4200M 4G 75...</td>\n",
       "      <td>http://item.jd.com/1095605.html#comment</td>\n",
       "      <td>http://img10.360buyimg.com/n7/jfs/t2356/136/87...</td>\n",
       "      <td>3299.0</td>\n",
       "      <td>型号: CQ15-a102TX  颜色: 黑色  平台: Intel  操作系统: DOS ...</td>\n",
       "    </tr>\n",
       "    <tr>\n",
       "      <th>2</th>\n",
       "      <td>1330931.0</td>\n",
       "      <td>京东</td>\n",
       "      <td>惠普官方旗舰店 京东自营</td>\n",
       "      <td>惠普（HP）1040 G2 L9S82PA 14英寸商务超极笔记本电脑 （i5-5200U ...</td>\n",
       "      <td>http://item.jd.com/1330931.html</td>\n",
       "      <td>http://img11.360buyimg.com/n7/jfs/t727/104/941...</td>\n",
       "      <td>8499.0</td>\n",
       "      <td>商品名称：惠普1040 G2 L9S82PA  商品编号：1330931  商品毛重：2.4...</td>\n",
       "    </tr>\n",
       "    <tr>\n",
       "      <th>3</th>\n",
       "      <td>1361037.0</td>\n",
       "      <td>京东</td>\n",
       "      <td>华硕笔记本京东官方旗舰店 京东自营</td>\n",
       "      <td>华硕（ASUS）碉堡K31AN 台式电脑（四核J2900 4G 500GB GT720 2G...</td>\n",
       "      <td>http://item.jd.com/1361037.html</td>\n",
       "      <td>http://img12.360buyimg.com/n7/jfs/t2095/205/16...</td>\n",
       "      <td>3199.0</td>\n",
       "      <td>商品名称：华硕K31AN  商品编号：1361037  商品毛重：7.68kg  商品产地：...</td>\n",
       "    </tr>\n",
       "    <tr>\n",
       "      <th>4</th>\n",
       "      <td>1372872.0</td>\n",
       "      <td>京东</td>\n",
       "      <td>华硕笔记本京东官方旗舰店 京东自营</td>\n",
       "      <td>华硕（ASUS）碉堡K31AN 台式电脑（四核J2900 4G 500GB GT720 2G...</td>\n",
       "      <td>http://item.jd.com/1372872.html</td>\n",
       "      <td>http://img12.360buyimg.com/n7/jfs/t892/184/899...</td>\n",
       "      <td>3299.0</td>\n",
       "      <td>商品名称：华硕K31AN  商品编号：1372872  商品毛重：7.65kg  商品产地：...</td>\n",
       "    </tr>\n",
       "  </tbody>\n",
       "</table>\n",
       "</div>"
      ],
      "text/plain": [
       "   ProductId ECPlateform              ShopName  \\\n",
       "0   924553.0          京东  ThinkPad京东官方旗舰店 京东自营   \n",
       "1  1095605.0          京东          惠普官方旗舰店 京东自营   \n",
       "2  1330931.0          京东          惠普官方旗舰店 京东自营   \n",
       "3  1361037.0          京东     华硕笔记本京东官方旗舰店 京东自营   \n",
       "4  1372872.0          京东     华硕笔记本京东官方旗舰店 京东自营   \n",
       "\n",
       "                                               Title  \\\n",
       "0  ThinkPad X1 Helix 36971C6 11.6英寸超极笔记本电脑（i5-333...   \n",
       "1  惠普（HP） CQ15-a102TX 15.6英寸笔记本电脑 (i5-4200M 4G 75...   \n",
       "2  惠普（HP）1040 G2 L9S82PA 14英寸商务超极笔记本电脑 （i5-5200U ...   \n",
       "3  华硕（ASUS）碉堡K31AN 台式电脑（四核J2900 4G 500GB GT720 2G...   \n",
       "4  华硕（ASUS）碉堡K31AN 台式电脑（四核J2900 4G 500GB GT720 2G...   \n",
       "\n",
       "                                Detail_url  \\\n",
       "0           http://item.jd.com/924553.html   \n",
       "1  http://item.jd.com/1095605.html#comment   \n",
       "2          http://item.jd.com/1330931.html   \n",
       "3          http://item.jd.com/1361037.html   \n",
       "4          http://item.jd.com/1372872.html   \n",
       "\n",
       "                                             Pic_url    Price  \\\n",
       "0  http://img13.360buyimg.com/n7/g14/M07/10/10/rB...  12999.0   \n",
       "1  http://img10.360buyimg.com/n7/jfs/t2356/136/87...   3299.0   \n",
       "2  http://img11.360buyimg.com/n7/jfs/t727/104/941...   8499.0   \n",
       "3  http://img12.360buyimg.com/n7/jfs/t2095/205/16...   3199.0   \n",
       "4  http://img12.360buyimg.com/n7/jfs/t892/184/899...   3299.0   \n",
       "\n",
       "                                         ProductSpec  \n",
       "0  商品名称：ThinkpadX1 Helix 3697-1C6  商品编号：924553  商...  \n",
       "1  型号: CQ15-a102TX  颜色: 黑色  平台: Intel  操作系统: DOS ...  \n",
       "2  商品名称：惠普1040 G2 L9S82PA  商品编号：1330931  商品毛重：2.4...  \n",
       "3  商品名称：华硕K31AN  商品编号：1361037  商品毛重：7.68kg  商品产地：...  \n",
       "4  商品名称：华硕K31AN  商品编号：1372872  商品毛重：7.65kg  商品产地：...  "
      ]
     },
     "execution_count": 4,
     "metadata": {},
     "output_type": "execute_result"
    }
   ],
   "source": [
    "df = pd.read_csv(file_path)\n",
    "df.head()"
   ]
  },
  {
   "cell_type": "code",
   "execution_count": null,
   "metadata": {
    "collapsed": true
   },
   "outputs": [],
   "source": []
  }
 ],
 "metadata": {
  "anaconda-cloud": {},
  "kernelspec": {
   "display_name": "Python [conda root]",
   "language": "python",
   "name": "conda-root-py"
  },
  "language_info": {
   "codemirror_mode": {
    "name": "ipython",
    "version": 2
   },
   "file_extension": ".py",
   "mimetype": "text/x-python",
   "name": "python",
   "nbconvert_exporter": "python",
   "pygments_lexer": "ipython2",
   "version": "2.7.12"
  }
 },
 "nbformat": 4,
 "nbformat_minor": 1
}
