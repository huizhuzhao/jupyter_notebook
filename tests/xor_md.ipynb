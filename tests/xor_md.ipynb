{
 "cells": [
  {
   "cell_type": "markdown",
   "metadata": {},
   "source": [
    "## xor data \n",
    "([code][https://github.com/huizhuzhao/Snow/blob/master/examples/xor.py])\n",
    "\n",
    "首先 xor 问题的数据如下，也就是输入为 X, 输出为 Y\n",
    "\n",
    "$\n",
    "X = \\begin{pmatrix}\n",
    "0 & 0 \\\\\n",
    "0 & 1 \\\\\n",
    "1 & 0 \\\\\n",
    "1 & 1 \\\\\n",
    "\\end{pmatrix}\n",
    "\\qquad Y = \\begin{pmatrix}\n",
    "1 \\\\\n",
    "0 \\\\\n",
    "0 \\\\\n",
    "1 \\\\\n",
    "\\end{pmatrix}\n",
    "$\n",
    "\n",
    "我们希望训练一个简单的多层感知器 (MLP) 模型 f 能够满足上面的要求，即将输入正确的映射到输出\n",
    "```\n",
    "Y = f(X)\n",
    "```\n",
    "\n",
    "模型的示意图如下:\n",
    "\n",
    "![](http://ojwkl64pe.bkt.clouddn.com/xor_mlp.png?imageView2/2/h/200)\n",
    "\n",
    "在大概明确了数据和模型以后，接下来我们使用 `python` 生成训练模型的数据， 代码如下：\n",
    "```\n",
    "X_test = np.asarray([[0., 0.], [0., 1.], [1., 0.], [1., 1.]], dtype=np.float32)\n",
    "Y_test = np.asarray([[1.], [0.], [0.], [1.]], dtype=np.float32)\n",
    "\n",
    "X_train = np.tile(X_test, (100, 1))\n",
    "Y_train = np.tile(Y_test, (100, 1))\n",
    "\n",
    ">>> X_test.shape, Y_test.shape\n",
    "(4, 2), (4, 1)\n",
    ">>> X_train.shape, Y_train.shape\n",
    "(400, 2), (400, 1)\n",
    "```\n",
    "\n",
    "我们使用 `keras` 来搭建 MLP 模型，实现的代码如下：\n",
    "\n",
    "```\n",
    "input_dim, output_dim = 2, 1\n",
    "hidden_dim = 10\n",
    "model = Sequential()\n",
    "model.add(Dense(hidden_dim, input_dim=input_dim, activation='tanh', name='hidden'))\n",
    "model.add(Dense(output_dim, activation='softmax'), name='output')\n",
    "xx\n",
    ">>> model.input_shape, model.output_shape\n",
    "(None, 2), (None, 1)\n",
    ">>> model.summary()\n",
    "_________________________________________________________________\n",
    "_________________________________________________________________\n",
    "Layer (type)                 Output Shape              Param #   \n",
    "=================================================================\n",
    "hidden (Dense)               (None, 10)                30        \n",
    "_________________________________________________________________\n",
    "output (Dense)               (None, 1)                 11        \n",
    "=================================================================\n",
    "Total params: 41.0\n",
    "Trainable params: 41\n",
    "Non-trainable params: 0.0\n",
    "```\n",
    "\n",
    "模型中我们将中间隐藏层的节点数目设置为 `hidden_dim=10`，两层网络中的参数数目如上面所示。\n",
    "\n",
    "接着我们对模型 `model` 进行编译：\n",
    "\n",
    "```\n",
    "model.compile(loss='binary_crossentropy', optimizer='adam', metrics=['accuracy'])\n",
    "```\n",
    "\n",
    "其中 `loss funtion` 选用 `binary_crossentropy`，该函数要求 `y_true.shape == y_pred.shape`，计算公式为：\n",
    "\n",
    "```\n",
    "loss = z * -log(sigmoid(x)) + (1 - z) * -log(1 - sigmoid(x))\n",
    " \n",
    "(z = y_true, x = y_pred)\n",
    "```\n",
    "\n",
    "优化函数选用 `adam`, 评价指标选用准确率。\n",
    "\n",
    "模型训练结果如下：\n",
    "\n",
    "![](http://ojwkl64pe.bkt.clouddn.com/xor_res.png?imageView2/2/h/400) 准确率(acc 紫色) 和 损失函数 (loss 蓝色) 与 epoch 之间的关系图，可以看出在 `epoch~50` 时，训练集上的准确率达到 `100%`，但损失函数的下降趋势扔在继续。"
   ]
  },
  {
   "cell_type": "code",
   "execution_count": 9,
   "metadata": {
    "collapsed": false
   },
   "outputs": [
    {
     "data": {
      "text/plain": [
       "((4, 2), (4, 1))"
      ]
     },
     "execution_count": 9,
     "metadata": {},
     "output_type": "execute_result"
    }
   ],
   "source": [
    "X_test = np.asarray([[0., 0.], [0., 1.], [1., 0.], [1., 1.]], dtype=np.float32)\n",
    "Y_test = np.asarray([[1.], [0.], [0.], [1.]], dtype=np.float32)\n",
    "X_test.shape, Y_test.shape"
   ]
  },
  {
   "cell_type": "code",
   "execution_count": 10,
   "metadata": {
    "collapsed": false
   },
   "outputs": [
    {
     "data": {
      "text/plain": [
       "((400, 2), (400, 1))"
      ]
     },
     "execution_count": 10,
     "metadata": {},
     "output_type": "execute_result"
    }
   ],
   "source": [
    "X_train = np.tile(X_test, (100, 1))\n",
    "Y_train = np.tile(Y_test, (100, 1))\n",
    "X_train.shape, Y_train.shape"
   ]
  },
  {
   "cell_type": "code",
   "execution_count": 19,
   "metadata": {
    "collapsed": false
   },
   "outputs": [
    {
     "data": {
      "text/plain": [
       "((None, 2), (None, 1))"
      ]
     },
     "execution_count": 19,
     "metadata": {},
     "output_type": "execute_result"
    }
   ],
   "source": [
    "from keras.models import Sequential\n",
    "from keras.layers import Dense\n",
    "input_dim, output_dim = 2, 1\n",
    "hidden_dim = 10\n",
    "model = Sequential()\n",
    "model.add(Dense(hidden_dim, input_dim=input_dim, activation='tanh', name='hidden'))\n",
    "model.add(Dense(output_dim, activation='softmax', name='output'))\n",
    "model.input_shape, model.output_shape"
   ]
  }
 ],
 "metadata": {
  "anaconda-cloud": {},
  "kernelspec": {
   "display_name": "Python [conda root]",
   "language": "python",
   "name": "conda-root-py"
  },
  "language_info": {
   "codemirror_mode": {
    "name": "ipython",
    "version": 2
   },
   "file_extension": ".py",
   "mimetype": "text/x-python",
   "name": "python",
   "nbconvert_exporter": "python",
   "pygments_lexer": "ipython2",
   "version": "2.7.12"
  }
 },
 "nbformat": 4,
 "nbformat_minor": 1
}
