{
 "cells": [
  {
   "cell_type": "code",
   "execution_count": 10,
   "metadata": {
    "collapsed": false
   },
   "outputs": [],
   "source": [
    "import numpy as np\n",
    "import pandas as pd\n",
    "import matplotlib.pyplot as plt\n",
    "import tensorflow as tf\n",
    "from Erwin.datasets.utils import iterators\n",
    "from Erwin.datasets import Dataset"
   ]
  },
  {
   "cell_type": "code",
   "execution_count": 11,
   "metadata": {
    "collapsed": true
   },
   "outputs": [],
   "source": [
    "y_pred = tf.placeholder(shape=(3,4), dtype=tf.float32)\n",
    "y_true = tf.placeholder(shape=(3,4), dtype=tf.float32)\n",
    "weights = tf.placeholder(shape=(3,4), dtype=tf.int32)\n",
    "acc, acc_update = tf.contrib.metrics.streaming_accuracy(y_true, y_pred, weights)"
   ]
  },
  {
   "cell_type": "code",
   "execution_count": 12,
   "metadata": {
    "collapsed": false
   },
   "outputs": [
    {
     "data": {
      "text/plain": [
       "((10, 3, 4), (10, 3, 4))"
      ]
     },
     "execution_count": 12,
     "metadata": {},
     "output_type": "execute_result"
    }
   ],
   "source": [
    "#y_pred_numpy = np.asarray([[0, 0, 1], [0, 1, 0]], dtype=np.float32)\n",
    "#y_true_numpy = np.asarray([[0, 0, 1], [1, 0, 1]], dtype=np.float32)\n",
    "#weights_numpy = np.asarray([[1, 1, 1], [1, 1, 0]], dtype=np.int32)\n",
    "y_pred_numpy = np.random.randint(0, 2, size=(10, 3, 4)).astype(np.float32)\n",
    "y_true_numpy = np.random.randint(0, 2, size=(10, 3, 4)).astype(np.float32)\n",
    "weights_numpy = np.random.binomial(2, p=0.1, size=(10, 3, 4))\n",
    "y_pred_numpy.shape, weights_numpy.shape"
   ]
  },
  {
   "cell_type": "code",
   "execution_count": 13,
   "metadata": {
    "collapsed": true
   },
   "outputs": [],
   "source": [
    "sess = tf.Session()\n",
    "sess.run(tf.global_variables_initializer())\n",
    "sess.run(tf.local_variables_initializer())"
   ]
  },
  {
   "cell_type": "code",
   "execution_count": 14,
   "metadata": {
    "collapsed": false
   },
   "outputs": [
    {
     "name": "stdout",
     "output_type": "stream",
     "text": [
      "[0.0]\n",
      "[0.0]\n",
      "[0.2]\n",
      "[0.33333334]\n",
      "[0.5]\n",
      "[0.45454547]\n",
      "[0.5]\n",
      "[0.53333336]\n",
      "[0.57894737]\n",
      "[0.60000002]\n"
     ]
    }
   ],
   "source": [
    "for y_p, y_t, w in zip(y_pred_numpy, y_true_numpy, weights_numpy[:, :, :]):\n",
    "    res = sess.run([acc_update], feed_dict={y_pred: y_p, y_true: y_t, weights: w})\n",
    "    print(res)"
   ]
  },
  {
   "cell_type": "code",
   "execution_count": 15,
   "metadata": {
    "collapsed": false
   },
   "outputs": [],
   "source": [
    "import os\n",
    "import json\n",
    "import numpy as np"
   ]
  },
  {
   "cell_type": "code",
   "execution_count": 17,
   "metadata": {
    "collapsed": false
   },
   "outputs": [
    {
     "data": {
      "text/plain": [
       "(2100, 10)"
      ]
     },
     "execution_count": 17,
     "metadata": {},
     "output_type": "execute_result"
    }
   ],
   "source": [
    "csv_file = '/home/huizhu/bitbucket/mol_data/dude/logs/model_mlp/logger_01.csv'\n",
    "df = pd.read_csv(csv_file)\n",
    "df.shape"
   ]
  },
  {
   "cell_type": "code",
   "execution_count": 19,
   "metadata": {
    "collapsed": false
   },
   "outputs": [],
   "source": [
    "train_df = df.loc[df.dataset=='train']\n",
    "valid_df = df.loc[df.dataset=='valid']"
   ]
  },
  {
   "cell_type": "code",
   "execution_count": 21,
   "metadata": {
    "collapsed": false
   },
   "outputs": [
    {
     "data": {
      "image/png": "[encoded data removed]",
      "text/plain": [
       "<matplotlib.figure.Figure at 0x7f00decd4e90>"
      ]
     },
     "metadata": {},
     "output_type": "display_data"
    }
   ],
   "source": [
    "plt.plot(valid_df.lr)\n",
    "plt.show()"
   ]
  },
  {
   "cell_type": "markdown",
   "metadata": {},
   "source": [
    "### unbiased variance\n",
    "* suppose we want to estimate the *mean* and *variance* of variable $x$ according to the observed samples $\\{x_1, x_2, ..., x_N\\}$. If we have enough samples, i.e $N \\rightarrow \\infty$, thus\n",
    "\n",
    "$$\n",
    "\\begin{array}{lll}\n",
    "\\mu &= & \\lim_{N \\rightarrow \\infty}\\frac{1}{N}\\sum_{i} x_i \\\\\n",
    "\\sigma^2 &= & \\lim_{N \\rightarrow \\infty}\\frac{1}{N}\\sum_{i}(x_i - \\mu)^2\n",
    "\\end{array}\n",
    "$$\n",
    "\n",
    "So, $\\hat{\\mu} =  \\frac{1}{N}\\sum_{i} x_i$ approxiates $\\mu$; but \n",
    "$$\\hat{\\sigma}^2 =  \\frac{1}{N}\\sum_{i}(x_i - \\hat{\\mu})^2$$ could be further reformulated as following\n",
    "\n",
    "$$\n",
    "\\begin{array}{lll}\n",
    "\\hat{\\sigma}^2 &= & \\frac{1}{N}\\sum_{i}(x_i - \\hat{\\mu})^2 \\\\\n",
    "& = & (\\frac{N-1}{N})^2 \\frac{1}{N} \\sum_{i} (x_i - \\hat{\\mu}_i)^2  \\\\\n",
    "& = & (\\frac{N-1}{N})^2 \\bar{\\sigma}^2\n",
    "\\end{array}\n",
    "$$\n",
    "where $\\hat{\\mu}_i \\equiv \\frac{1}{N-1}\\sum_{j\\neq i} x_j$\n",
    "\n",
    "In the above, we can see that $\\bar{\\sigma}^2$\n",
    "will be much closer to $\\sigma^2$ than $\\hat{\\sigma}^2$"
   ]
  },
  {
   "cell_type": "code",
   "execution_count": 11,
   "metadata": {
    "collapsed": false
   },
   "outputs": [],
   "source": [
    "import tensorflow as tf\n",
    "from keras.layers import Conv2D\n",
    "from keras.models import Sequential"
   ]
  },
  {
   "cell_type": "code",
   "execution_count": 12,
   "metadata": {
    "collapsed": false
   },
   "outputs": [
    {
     "data": {
      "text/plain": [
       "((None, 3, 128, 128), (None, 64, 124, 124))"
      ]
     },
     "execution_count": 12,
     "metadata": {},
     "output_type": "execute_result"
    }
   ],
   "source": [
    "model = Sequential()\n",
    "model.add(Conv2D(64, kernel_size=(5, 5), input_shape=(3, 128, 128), data_format='channels_first'))\n",
    "model.input_shape, model.output_shape"
   ]
  },
  {
   "cell_type": "code",
   "execution_count": 13,
   "metadata": {
    "collapsed": false
   },
   "outputs": [
    {
     "data": {
      "text/plain": [
       "[<tf.Variable 'conv2d_3/kernel:0' shape=(5, 5, 3, 64) dtype=float32_ref>,\n",
       " <tf.Variable 'conv2d_3/bias:0' shape=(64,) dtype=float32_ref>]"
      ]
     },
     "execution_count": 13,
     "metadata": {},
     "output_type": "execute_result"
    }
   ],
   "source": [
    "model.weights"
   ]
  },
  {
   "cell_type": "code",
   "execution_count": 14,
   "metadata": {
    "collapsed": false
   },
   "outputs": [
    {
     "data": {
      "text/plain": [
       "(5, 5)"
      ]
     },
     "execution_count": 14,
     "metadata": {},
     "output_type": "execute_result"
    }
   ],
   "source": [
    "model.layers[-1].kernel_size"
   ]
  },
  {
   "cell_type": "code",
   "execution_count": 3,
   "metadata": {
    "collapsed": false
   },
   "outputs": [
    {
     "data": {
      "text/plain": [
       "([0, 2, 3], [0, 1, 2])"
      ]
     },
     "execution_count": 3,
     "metadata": {},
     "output_type": "execute_result"
    }
   ],
   "source": [
    "axis = 1\n",
    "input_shape = model.input_shape[:]\n",
    "ndim = len(input_shape)\n",
    "reduction_axes = list(range(len(input_shape)))\n",
    "del reduction_axes[axis]\n",
    "broadcast_shape = [1] * len(input_shape)\n",
    "broadcast_shape[axis] = input_shape[axis]\n",
    "sorted(reduction_axes), list(range(ndim))[:-1]\n",
    "#needs_broadcasting = (sorted(reduction_axes) != list(range(ndim))[:-1])"
   ]
  },
  {
   "cell_type": "code",
   "execution_count": 5,
   "metadata": {
    "collapsed": false
   },
   "outputs": [
    {
     "data": {
      "text/plain": [
       "<tf.Tensor 'Reshape:0' shape=(1, 3, 1, 1) dtype=float32>"
      ]
     },
     "execution_count": 5,
     "metadata": {},
     "output_type": "execute_result"
    }
   ],
   "source": [
    "x = tf.placeholder(shape=(input_shape[axis],), dtype=tf.float32)\n",
    "tf.reshape(x, broadcast_shape)"
   ]
  },
  {
   "cell_type": "code",
   "execution_count": 6,
   "metadata": {
    "collapsed": false
   },
   "outputs": [
    {
     "name": "stdout",
     "output_type": "stream",
     "text": [
      "Help on function batch_normalization in module tensorflow.python.ops.nn_impl:\n",
      "\n",
      "batch_normalization(x, mean, variance, offset, scale, variance_epsilon, name=None)\n",
      "    Batch normalization.\n",
      "    \n",
      "    As described in http://arxiv.org/abs/1502.03167.\n",
      "    Normalizes a tensor by `mean` and `variance`, and applies (optionally) a\n",
      "    `scale` \\\\(\\gamma\\\\) to it, as well as an `offset` \\\\(\\beta\\\\):\n",
      "    \n",
      "    \\\\(\\frac{\\gamma(x-\\mu)}{\\sigma}+\\beta\\\\)\n",
      "    \n",
      "    `mean`, `variance`, `offset` and `scale` are all expected to be of one of two\n",
      "    shapes:\n",
      "    \n",
      "      * In all generality, they can have the same number of dimensions as the\n",
      "        input `x`, with identical sizes as `x` for the dimensions that are not\n",
      "        normalized over (the 'depth' dimension(s)), and dimension 1 for the\n",
      "        others which are being normalized over.\n",
      "        `mean` and `variance` in this case would typically be the outputs of\n",
      "        `tf.nn.moments(..., keep_dims=True)` during training, or running averages\n",
      "        thereof during inference.\n",
      "      * In the common case where the 'depth' dimension is the last dimension in\n",
      "        the input tensor `x`, they may be one dimensional tensors of the same\n",
      "        size as the 'depth' dimension.\n",
      "        This is the case for example for the common `[batch, depth]` layout of\n",
      "        fully-connected layers, and `[batch, height, width, depth]` for\n",
      "        convolutions.\n",
      "        `mean` and `variance` in this case would typically be the outputs of\n",
      "        `tf.nn.moments(..., keep_dims=False)` during training, or running averages\n",
      "        thereof during inference.\n",
      "    \n",
      "    Args:\n",
      "      x: Input `Tensor` of arbitrary dimensionality.\n",
      "      mean: A mean `Tensor`.\n",
      "      variance: A variance `Tensor`.\n",
      "      offset: An offset `Tensor`, often denoted \\\\(\\beta\\\\) in equations, or\n",
      "        None. If present, will be added to the normalized tensor.\n",
      "      scale: A scale `Tensor`, often denoted \\\\(\\gamma\\\\) in equations, or\n",
      "        `None`. If present, the scale is applied to the normalized tensor.\n",
      "      variance_epsilon: A small float number to avoid dividing by 0.\n",
      "      name: A name for this operation (optional).\n",
      "    \n",
      "    Returns:\n",
      "      the normalized, scaled, offset tensor.\n",
      "\n"
     ]
    }
   ],
   "source": [
    "help(tf.nn.batch_normalization)"
   ]
  },
  {
   "cell_type": "code",
   "execution_count": 7,
   "metadata": {
    "collapsed": false
   },
   "outputs": [
    {
     "name": "stdout",
     "output_type": "stream",
     "text": [
      "Help on function moments in module tensorflow.python.ops.nn_impl:\n",
      "\n",
      "moments(x, axes, shift=None, name=None, keep_dims=False)\n",
      "    Calculate the mean and variance of `x`.\n",
      "    \n",
      "    The mean and variance are calculated by aggregating the contents of `x`\n",
      "    across `axes`.  If `x` is 1-D and `axes = [0]` this is just the mean\n",
      "    and variance of a vector.\n",
      "    \n",
      "    Note: for numerical stability, when shift=None, the true mean\n",
      "    would be computed and used as shift.\n",
      "    \n",
      "    When using these moments for batch normalization (see\n",
      "    `tf.nn.batch_normalization`):\n",
      "    \n",
      "     * for so-called \"global normalization\", used with convolutional filters with\n",
      "       shape `[batch, height, width, depth]`, pass `axes=[0, 1, 2]`.\n",
      "     * for simple batch normalization pass `axes=[0]` (batch only).\n",
      "    \n",
      "    Args:\n",
      "      x: A `Tensor`.\n",
      "      axes: Array of ints.  Axes along which to compute mean and\n",
      "        variance.\n",
      "      shift: A `Tensor` containing the value by which to shift the data for\n",
      "        numerical stability, or `None` in which case the true mean of the data is\n",
      "        used as shift. A shift close to the true mean provides the most\n",
      "        numerically stable results.\n",
      "      name: Name used to scope the operations that compute the moments.\n",
      "      keep_dims: produce moments with the same dimensionality as the input.\n",
      "    \n",
      "    Returns:\n",
      "      Two `Tensor` objects: `mean` and `variance`.\n",
      "\n"
     ]
    }
   ],
   "source": [
    "help(tf.nn.moments)"
   ]
  },
  {
   "cell_type": "code",
   "execution_count": 17,
   "metadata": {
    "collapsed": false
   },
   "outputs": [
    {
     "name": "stdout",
     "output_type": "stream",
     "text": [
      "Help on function conv2d in module tensorflow.python.ops.gen_nn_ops:\n",
      "\n",
      "conv2d(input, filter, strides, padding, use_cudnn_on_gpu=None, data_format=None, name=None)\n",
      "    Computes a 2-D convolution given 4-D `input` and `filter` tensors.\n",
      "    \n",
      "    Given an input tensor of shape `[batch, in_height, in_width, in_channels]`\n",
      "    and a filter / kernel tensor of shape\n",
      "    `[filter_height, filter_width, in_channels, out_channels]`, this op\n",
      "    performs the following:\n",
      "    \n",
      "    1. Flattens the filter to a 2-D matrix with shape\n",
      "       `[filter_height * filter_width * in_channels, output_channels]`.\n",
      "    2. Extracts image patches from the input tensor to form a *virtual*\n",
      "       tensor of shape `[batch, out_height, out_width,\n",
      "       filter_height * filter_width * in_channels]`.\n",
      "    3. For each patch, right-multiplies the filter matrix and the image patch\n",
      "       vector.\n",
      "    \n",
      "    In detail, with the default NHWC format,\n",
      "    \n",
      "        output[b, i, j, k] =\n",
      "            sum_{di, dj, q} input[b, strides[1] * i + di, strides[2] * j + dj, q] *\n",
      "                            filter[di, dj, q, k]\n",
      "    \n",
      "    Must have `strides[0] = strides[3] = 1`.  For the most common case of the same\n",
      "    horizontal and vertices strides, `strides = [1, stride, stride, 1]`.\n",
      "    \n",
      "    Args:\n",
      "      input: A `Tensor`. Must be one of the following types: `half`, `float32`.\n",
      "        A 4-D tensor. The dimension order is interpreted according to the value\n",
      "        of `data_format`, see below for details.\n",
      "      filter: A `Tensor`. Must have the same type as `input`.\n",
      "        A 4-D tensor of shape\n",
      "        `[filter_height, filter_width, in_channels, out_channels]`\n",
      "      strides: A list of `ints`.\n",
      "        1-D tensor of length 4.  The stride of the sliding window for each\n",
      "        dimension of `input`. The dimension order is determined by the value of\n",
      "          `data_format`, see below for details.\n",
      "      padding: A `string` from: `\"SAME\", \"VALID\"`.\n",
      "        The type of padding algorithm to use.\n",
      "      use_cudnn_on_gpu: An optional `bool`. Defaults to `True`.\n",
      "      data_format: An optional `string` from: `\"NHWC\", \"NCHW\"`. Defaults to `\"NHWC\"`.\n",
      "        Specify the data format of the input and output data. With the\n",
      "        default format \"NHWC\", the data is stored in the order of:\n",
      "            [batch, height, width, channels].\n",
      "        Alternatively, the format could be \"NCHW\", the data storage order of:\n",
      "            [batch, channels, height, width].\n",
      "      name: A name for the operation (optional).\n",
      "    \n",
      "    Returns:\n",
      "      A `Tensor`. Has the same type as `input`.\n",
      "      A 4-D tensor. The dimension order is determined by the value of\n",
      "      `data_format`, see below for details.\n",
      "\n"
     ]
    }
   ],
   "source": [
    "help(tf.nn.conv2d)"
   ]
  },
  {
   "cell_type": "code",
   "execution_count": null,
   "metadata": {
    "collapsed": true
   },
   "outputs": [],
   "source": []
  }
 ],
 "metadata": {
  "anaconda-cloud": {},
  "kernelspec": {
   "display_name": "Python [conda root]",
   "language": "python",
   "name": "conda-root-py"
  },
  "language_info": {
   "codemirror_mode": {
    "name": "ipython",
    "version": 2
   },
   "file_extension": ".py",
   "mimetype": "text/x-python",
   "name": "python",
   "nbconvert_exporter": "python",
   "pygments_lexer": "ipython2",
   "version": "2.7.12"
  }
 },
 "nbformat": 4,
 "nbformat_minor": 1
}
