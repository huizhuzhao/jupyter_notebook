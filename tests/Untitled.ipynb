{
 "cells": [
  {
   "cell_type": "code",
   "execution_count": 11,
   "metadata": {
    "collapsed": true
   },
   "outputs": [],
   "source": [
    "import numpy as np\n",
    "import pandas as pd"
   ]
  },
  {
   "cell_type": "code",
   "execution_count": 16,
   "metadata": {
    "collapsed": false
   },
   "outputs": [
    {
     "data": {
      "text/plain": [
       "(439863, 130)"
      ]
     },
     "execution_count": 16,
     "metadata": {},
     "output_type": "execute_result"
    }
   ],
   "source": [
    "pcba_file = '/home/xtalpi/bitbucket/mol_data/pcba_deepchem/pcba.csv'\n",
    "df = pd.read_csv(pcba_file)\n",
    "df.shape"
   ]
  },
  {
   "cell_type": "code",
   "execution_count": 17,
   "metadata": {
    "collapsed": false
   },
   "outputs": [
    {
     "data": {
      "text/html": [
       "<div>\n",
       "<table border=\"1\" class=\"dataframe\">\n",
       "  <thead>\n",
       "    <tr style=\"text-align: right;\">\n",
       "      <th></th>\n",
       "      <th>PCBA-1030</th>\n",
       "      <th>PCBA-1379</th>\n",
       "      <th>PCBA-1452</th>\n",
       "      <th>PCBA-1454</th>\n",
       "      <th>PCBA-1457</th>\n",
       "      <th>PCBA-1458</th>\n",
       "      <th>PCBA-1460</th>\n",
       "      <th>PCBA-1461</th>\n",
       "      <th>PCBA-1468</th>\n",
       "      <th>PCBA-1469</th>\n",
       "      <th>...</th>\n",
       "      <th>PCBA-914</th>\n",
       "      <th>PCBA-915</th>\n",
       "      <th>PCBA-924</th>\n",
       "      <th>PCBA-925</th>\n",
       "      <th>PCBA-926</th>\n",
       "      <th>PCBA-927</th>\n",
       "      <th>PCBA-938</th>\n",
       "      <th>PCBA-995</th>\n",
       "      <th>mol_id</th>\n",
       "      <th>smiles</th>\n",
       "    </tr>\n",
       "  </thead>\n",
       "  <tbody>\n",
       "    <tr>\n",
       "      <th>0</th>\n",
       "      <td>0.0</td>\n",
       "      <td>0.0</td>\n",
       "      <td>NaN</td>\n",
       "      <td>0.0</td>\n",
       "      <td>0.0</td>\n",
       "      <td>0.0</td>\n",
       "      <td>0.0</td>\n",
       "      <td>0.0</td>\n",
       "      <td>0.0</td>\n",
       "      <td>0.0</td>\n",
       "      <td>...</td>\n",
       "      <td>NaN</td>\n",
       "      <td>NaN</td>\n",
       "      <td>NaN</td>\n",
       "      <td>NaN</td>\n",
       "      <td>NaN</td>\n",
       "      <td>NaN</td>\n",
       "      <td>NaN</td>\n",
       "      <td>NaN</td>\n",
       "      <td>CID1511280</td>\n",
       "      <td>CC(=O)N1CCC2(CC1)NC(=O)N(c1ccccc1)N2</td>\n",
       "    </tr>\n",
       "    <tr>\n",
       "      <th>1</th>\n",
       "      <td>0.0</td>\n",
       "      <td>0.0</td>\n",
       "      <td>NaN</td>\n",
       "      <td>0.0</td>\n",
       "      <td>0.0</td>\n",
       "      <td>NaN</td>\n",
       "      <td>0.0</td>\n",
       "      <td>0.0</td>\n",
       "      <td>0.0</td>\n",
       "      <td>0.0</td>\n",
       "      <td>...</td>\n",
       "      <td>NaN</td>\n",
       "      <td>NaN</td>\n",
       "      <td>NaN</td>\n",
       "      <td>NaN</td>\n",
       "      <td>NaN</td>\n",
       "      <td>NaN</td>\n",
       "      <td>NaN</td>\n",
       "      <td>NaN</td>\n",
       "      <td>CID332939</td>\n",
       "      <td>N#Cc1nnn(-c2ccc(Cl)cc2)c1N</td>\n",
       "    </tr>\n",
       "    <tr>\n",
       "      <th>2</th>\n",
       "      <td>NaN</td>\n",
       "      <td>0.0</td>\n",
       "      <td>NaN</td>\n",
       "      <td>0.0</td>\n",
       "      <td>0.0</td>\n",
       "      <td>0.0</td>\n",
       "      <td>0.0</td>\n",
       "      <td>0.0</td>\n",
       "      <td>0.0</td>\n",
       "      <td>0.0</td>\n",
       "      <td>...</td>\n",
       "      <td>NaN</td>\n",
       "      <td>NaN</td>\n",
       "      <td>NaN</td>\n",
       "      <td>NaN</td>\n",
       "      <td>NaN</td>\n",
       "      <td>NaN</td>\n",
       "      <td>NaN</td>\n",
       "      <td>NaN</td>\n",
       "      <td>CID3800322</td>\n",
       "      <td>COC(=O)c1ccc(NC(=O)c2ccccc2CC[N+](=O)[O-])cc1</td>\n",
       "    </tr>\n",
       "    <tr>\n",
       "      <th>3</th>\n",
       "      <td>NaN</td>\n",
       "      <td>NaN</td>\n",
       "      <td>NaN</td>\n",
       "      <td>NaN</td>\n",
       "      <td>NaN</td>\n",
       "      <td>NaN</td>\n",
       "      <td>NaN</td>\n",
       "      <td>NaN</td>\n",
       "      <td>NaN</td>\n",
       "      <td>NaN</td>\n",
       "      <td>...</td>\n",
       "      <td>NaN</td>\n",
       "      <td>NaN</td>\n",
       "      <td>NaN</td>\n",
       "      <td>NaN</td>\n",
       "      <td>NaN</td>\n",
       "      <td>NaN</td>\n",
       "      <td>NaN</td>\n",
       "      <td>NaN</td>\n",
       "      <td>CID46904422</td>\n",
       "      <td>CCC1NC(=O)c2cccnc2-n2c1nc1ccc(F)cc1c2=O</td>\n",
       "    </tr>\n",
       "    <tr>\n",
       "      <th>4</th>\n",
       "      <td>NaN</td>\n",
       "      <td>NaN</td>\n",
       "      <td>NaN</td>\n",
       "      <td>0.0</td>\n",
       "      <td>NaN</td>\n",
       "      <td>NaN</td>\n",
       "      <td>NaN</td>\n",
       "      <td>0.0</td>\n",
       "      <td>0.0</td>\n",
       "      <td>0.0</td>\n",
       "      <td>...</td>\n",
       "      <td>NaN</td>\n",
       "      <td>NaN</td>\n",
       "      <td>NaN</td>\n",
       "      <td>NaN</td>\n",
       "      <td>NaN</td>\n",
       "      <td>NaN</td>\n",
       "      <td>NaN</td>\n",
       "      <td>NaN</td>\n",
       "      <td>CID16445987</td>\n",
       "      <td>CC1=CC(=O)/C(=C2/C=C(C(=O)Nc3ccc(S(=O)(=O)Nc4o...</td>\n",
       "    </tr>\n",
       "  </tbody>\n",
       "</table>\n",
       "<p>5 rows × 130 columns</p>\n",
       "</div>"
      ],
      "text/plain": [
       "   PCBA-1030  PCBA-1379  PCBA-1452  PCBA-1454  PCBA-1457  PCBA-1458  \\\n",
       "0        0.0        0.0        NaN        0.0        0.0        0.0   \n",
       "1        0.0        0.0        NaN        0.0        0.0        NaN   \n",
       "2        NaN        0.0        NaN        0.0        0.0        0.0   \n",
       "3        NaN        NaN        NaN        NaN        NaN        NaN   \n",
       "4        NaN        NaN        NaN        0.0        NaN        NaN   \n",
       "\n",
       "   PCBA-1460  PCBA-1461  PCBA-1468  PCBA-1469  \\\n",
       "0        0.0        0.0        0.0        0.0   \n",
       "1        0.0        0.0        0.0        0.0   \n",
       "2        0.0        0.0        0.0        0.0   \n",
       "3        NaN        NaN        NaN        NaN   \n",
       "4        NaN        0.0        0.0        0.0   \n",
       "\n",
       "                         ...                          PCBA-914  PCBA-915  \\\n",
       "0                        ...                               NaN       NaN   \n",
       "1                        ...                               NaN       NaN   \n",
       "2                        ...                               NaN       NaN   \n",
       "3                        ...                               NaN       NaN   \n",
       "4                        ...                               NaN       NaN   \n",
       "\n",
       "   PCBA-924  PCBA-925  PCBA-926  PCBA-927  PCBA-938  PCBA-995       mol_id  \\\n",
       "0       NaN       NaN       NaN       NaN       NaN       NaN   CID1511280   \n",
       "1       NaN       NaN       NaN       NaN       NaN       NaN    CID332939   \n",
       "2       NaN       NaN       NaN       NaN       NaN       NaN   CID3800322   \n",
       "3       NaN       NaN       NaN       NaN       NaN       NaN  CID46904422   \n",
       "4       NaN       NaN       NaN       NaN       NaN       NaN  CID16445987   \n",
       "\n",
       "                                              smiles  \n",
       "0               CC(=O)N1CCC2(CC1)NC(=O)N(c1ccccc1)N2  \n",
       "1                         N#Cc1nnn(-c2ccc(Cl)cc2)c1N  \n",
       "2      COC(=O)c1ccc(NC(=O)c2ccccc2CC[N+](=O)[O-])cc1  \n",
       "3            CCC1NC(=O)c2cccnc2-n2c1nc1ccc(F)cc1c2=O  \n",
       "4  CC1=CC(=O)/C(=C2/C=C(C(=O)Nc3ccc(S(=O)(=O)Nc4o...  \n",
       "\n",
       "[5 rows x 130 columns]"
      ]
     },
     "execution_count": 17,
     "metadata": {},
     "output_type": "execute_result"
    }
   ],
   "source": [
    "df.head()"
   ]
  },
  {
   "cell_type": "code",
   "execution_count": 20,
   "metadata": {
    "collapsed": false
   },
   "outputs": [],
   "source": [
    "deepchem_pcba_file = '/home/xtalpi/bitbucket/mol_data/pcba_deepchem/pcba_temp.csv'\n",
    "df_sub = df.loc[:2000]\n",
    "df_sub.to_csv(deepchem_pcba_file)"
   ]
  },
  {
   "cell_type": "code",
   "execution_count": 15,
   "metadata": {
    "collapsed": false
   },
   "outputs": [
    {
     "data": {
      "text/html": [
       "<div>\n",
       "<table border=\"1\" class=\"dataframe\">\n",
       "  <thead>\n",
       "    <tr style=\"text-align: right;\">\n",
       "      <th></th>\n",
       "      <th>PCBA-1030</th>\n",
       "      <th>PCBA-1379</th>\n",
       "      <th>PCBA-1452</th>\n",
       "      <th>PCBA-1454</th>\n",
       "      <th>PCBA-1457</th>\n",
       "      <th>PCBA-1458</th>\n",
       "      <th>PCBA-1460</th>\n",
       "      <th>PCBA-1461</th>\n",
       "      <th>PCBA-1468</th>\n",
       "      <th>PCBA-1469</th>\n",
       "      <th>...</th>\n",
       "      <th>PCBA-914</th>\n",
       "      <th>PCBA-915</th>\n",
       "      <th>PCBA-924</th>\n",
       "      <th>PCBA-925</th>\n",
       "      <th>PCBA-926</th>\n",
       "      <th>PCBA-927</th>\n",
       "      <th>PCBA-938</th>\n",
       "      <th>PCBA-995</th>\n",
       "      <th>mol_id</th>\n",
       "      <th>smiles</th>\n",
       "    </tr>\n",
       "  </thead>\n",
       "  <tbody>\n",
       "    <tr>\n",
       "      <th>0</th>\n",
       "      <td>0.0</td>\n",
       "      <td>0.0</td>\n",
       "      <td>NaN</td>\n",
       "      <td>0.0</td>\n",
       "      <td>0.0</td>\n",
       "      <td>0.0</td>\n",
       "      <td>0.0</td>\n",
       "      <td>0.0</td>\n",
       "      <td>0.0</td>\n",
       "      <td>0.0</td>\n",
       "      <td>...</td>\n",
       "      <td>NaN</td>\n",
       "      <td>NaN</td>\n",
       "      <td>NaN</td>\n",
       "      <td>NaN</td>\n",
       "      <td>NaN</td>\n",
       "      <td>NaN</td>\n",
       "      <td>NaN</td>\n",
       "      <td>NaN</td>\n",
       "      <td>CID1511280</td>\n",
       "      <td>CC(=O)N1CCC2(CC1)NC(=O)N(c1ccccc1)N2</td>\n",
       "    </tr>\n",
       "    <tr>\n",
       "      <th>1</th>\n",
       "      <td>0.0</td>\n",
       "      <td>0.0</td>\n",
       "      <td>NaN</td>\n",
       "      <td>0.0</td>\n",
       "      <td>0.0</td>\n",
       "      <td>NaN</td>\n",
       "      <td>0.0</td>\n",
       "      <td>0.0</td>\n",
       "      <td>0.0</td>\n",
       "      <td>0.0</td>\n",
       "      <td>...</td>\n",
       "      <td>NaN</td>\n",
       "      <td>NaN</td>\n",
       "      <td>NaN</td>\n",
       "      <td>NaN</td>\n",
       "      <td>NaN</td>\n",
       "      <td>NaN</td>\n",
       "      <td>NaN</td>\n",
       "      <td>NaN</td>\n",
       "      <td>CID332939</td>\n",
       "      <td>N#Cc1nnn(-c2ccc(Cl)cc2)c1N</td>\n",
       "    </tr>\n",
       "    <tr>\n",
       "      <th>2</th>\n",
       "      <td>NaN</td>\n",
       "      <td>0.0</td>\n",
       "      <td>NaN</td>\n",
       "      <td>0.0</td>\n",
       "      <td>0.0</td>\n",
       "      <td>0.0</td>\n",
       "      <td>0.0</td>\n",
       "      <td>0.0</td>\n",
       "      <td>0.0</td>\n",
       "      <td>0.0</td>\n",
       "      <td>...</td>\n",
       "      <td>NaN</td>\n",
       "      <td>NaN</td>\n",
       "      <td>NaN</td>\n",
       "      <td>NaN</td>\n",
       "      <td>NaN</td>\n",
       "      <td>NaN</td>\n",
       "      <td>NaN</td>\n",
       "      <td>NaN</td>\n",
       "      <td>CID3800322</td>\n",
       "      <td>COC(=O)c1ccc(NC(=O)c2ccccc2CC[N+](=O)[O-])cc1</td>\n",
       "    </tr>\n",
       "    <tr>\n",
       "      <th>3</th>\n",
       "      <td>NaN</td>\n",
       "      <td>NaN</td>\n",
       "      <td>NaN</td>\n",
       "      <td>NaN</td>\n",
       "      <td>NaN</td>\n",
       "      <td>NaN</td>\n",
       "      <td>NaN</td>\n",
       "      <td>NaN</td>\n",
       "      <td>NaN</td>\n",
       "      <td>NaN</td>\n",
       "      <td>...</td>\n",
       "      <td>NaN</td>\n",
       "      <td>NaN</td>\n",
       "      <td>NaN</td>\n",
       "      <td>NaN</td>\n",
       "      <td>NaN</td>\n",
       "      <td>NaN</td>\n",
       "      <td>NaN</td>\n",
       "      <td>NaN</td>\n",
       "      <td>CID46904422</td>\n",
       "      <td>CCC1NC(=O)c2cccnc2-n2c1nc1ccc(F)cc1c2=O</td>\n",
       "    </tr>\n",
       "    <tr>\n",
       "      <th>4</th>\n",
       "      <td>NaN</td>\n",
       "      <td>NaN</td>\n",
       "      <td>NaN</td>\n",
       "      <td>0.0</td>\n",
       "      <td>NaN</td>\n",
       "      <td>NaN</td>\n",
       "      <td>NaN</td>\n",
       "      <td>0.0</td>\n",
       "      <td>0.0</td>\n",
       "      <td>0.0</td>\n",
       "      <td>...</td>\n",
       "      <td>NaN</td>\n",
       "      <td>NaN</td>\n",
       "      <td>NaN</td>\n",
       "      <td>NaN</td>\n",
       "      <td>NaN</td>\n",
       "      <td>NaN</td>\n",
       "      <td>NaN</td>\n",
       "      <td>NaN</td>\n",
       "      <td>CID16445987</td>\n",
       "      <td>CC1=CC(=O)/C(=C2/C=C(C(=O)Nc3ccc(S(=O)(=O)Nc4o...</td>\n",
       "    </tr>\n",
       "  </tbody>\n",
       "</table>\n",
       "<p>5 rows × 130 columns</p>\n",
       "</div>"
      ],
      "text/plain": [
       "   PCBA-1030  PCBA-1379  PCBA-1452  PCBA-1454  PCBA-1457  PCBA-1458  \\\n",
       "0        0.0        0.0        NaN        0.0        0.0        0.0   \n",
       "1        0.0        0.0        NaN        0.0        0.0        NaN   \n",
       "2        NaN        0.0        NaN        0.0        0.0        0.0   \n",
       "3        NaN        NaN        NaN        NaN        NaN        NaN   \n",
       "4        NaN        NaN        NaN        0.0        NaN        NaN   \n",
       "\n",
       "   PCBA-1460  PCBA-1461  PCBA-1468  PCBA-1469  \\\n",
       "0        0.0        0.0        0.0        0.0   \n",
       "1        0.0        0.0        0.0        0.0   \n",
       "2        0.0        0.0        0.0        0.0   \n",
       "3        NaN        NaN        NaN        NaN   \n",
       "4        NaN        0.0        0.0        0.0   \n",
       "\n",
       "                         ...                          PCBA-914  PCBA-915  \\\n",
       "0                        ...                               NaN       NaN   \n",
       "1                        ...                               NaN       NaN   \n",
       "2                        ...                               NaN       NaN   \n",
       "3                        ...                               NaN       NaN   \n",
       "4                        ...                               NaN       NaN   \n",
       "\n",
       "   PCBA-924  PCBA-925  PCBA-926  PCBA-927  PCBA-938  PCBA-995       mol_id  \\\n",
       "0       NaN       NaN       NaN       NaN       NaN       NaN   CID1511280   \n",
       "1       NaN       NaN       NaN       NaN       NaN       NaN    CID332939   \n",
       "2       NaN       NaN       NaN       NaN       NaN       NaN   CID3800322   \n",
       "3       NaN       NaN       NaN       NaN       NaN       NaN  CID46904422   \n",
       "4       NaN       NaN       NaN       NaN       NaN       NaN  CID16445987   \n",
       "\n",
       "                                              smiles  \n",
       "0               CC(=O)N1CCC2(CC1)NC(=O)N(c1ccccc1)N2  \n",
       "1                         N#Cc1nnn(-c2ccc(Cl)cc2)c1N  \n",
       "2      COC(=O)c1ccc(NC(=O)c2ccccc2CC[N+](=O)[O-])cc1  \n",
       "3            CCC1NC(=O)c2cccnc2-n2c1nc1ccc(F)cc1c2=O  \n",
       "4  CC1=CC(=O)/C(=C2/C=C(C(=O)Nc3ccc(S(=O)(=O)Nc4o...  \n",
       "\n",
       "[5 rows x 130 columns]"
      ]
     },
     "execution_count": 15,
     "metadata": {},
     "output_type": "execute_result"
    }
   ],
   "source": [
    "deepchem_df.head()"
   ]
  },
  {
   "cell_type": "code",
   "execution_count": null,
   "metadata": {
    "collapsed": true
   },
   "outputs": [],
   "source": [
    "https://pubchem.ncbi.nlm.nih.gov/pcajax/pcget.cgi?query=download&record_type=datatable&actvty=all&response_type=save&aid=1030"
   ]
  },
  {
   "cell_type": "code",
   "execution_count": 3,
   "metadata": {
    "collapsed": false
   },
   "outputs": [],
   "source": [
    "import os\n",
    "import sys\n",
    "import numpy as np\n",
    "import tensorflow as tf\n",
    "from Erwin.models.tf_utils import tf_core\n",
    "from Erwin.models.tf_utils import models\n",
    "from Erwin.models.mlp.mlp import MLP"
   ]
  },
  {
   "cell_type": "code",
   "execution_count": 5,
   "metadata": {
    "collapsed": false
   },
   "outputs": [],
   "source": [
    "model = MLP()\n",
    "model.build(**{'input_dim': 784,\n",
    "            'hidden_dim': 100,\n",
    "            'hidden_acti': 'relu',\n",
    "            'output_dim': 10,\n",
    "            'output_acti': 'softmax'})"
   ]
  },
  {
   "cell_type": "code",
   "execution_count": 6,
   "metadata": {
    "collapsed": false
   },
   "outputs": [
    {
     "data": {
      "text/plain": [
       "<tf.Tensor 'Softmax:0' shape=(?, 10) dtype=float32>"
      ]
     },
     "execution_count": 6,
     "metadata": {},
     "output_type": "execute_result"
    }
   ],
   "source": [
    "model.output_tensor"
   ]
  },
  {
   "cell_type": "code",
   "execution_count": 9,
   "metadata": {
    "collapsed": false
   },
   "outputs": [],
   "source": [
    "loss = model._compile_loss('categorical_cross_entropy', model.output_tensor, model.labels_tensor, model.weights_tensor)"
   ]
  },
  {
   "cell_type": "code",
   "execution_count": 12,
   "metadata": {
    "collapsed": false
   },
   "outputs": [],
   "source": [
    "weights = tf.trainable_variables()\n",
    "grad = tf.gradients(loss, weights)"
   ]
  },
  {
   "cell_type": "code",
   "execution_count": 13,
   "metadata": {
    "collapsed": false
   },
   "outputs": [
    {
     "name": "stdout",
     "output_type": "stream",
     "text": [
      "[(784, 100), (100,), (100, 10), (10,)]\n",
      "[(784, 100), (100,), (100, 10), (10,)]\n"
     ]
    }
   ],
   "source": [
    "print([tf_core.int_shape(w) for w in weights])\n",
    "print([tf_core.int_shape(g) for g in grad])"
   ]
  },
  {
   "cell_type": "code",
   "execution_count": 15,
   "metadata": {
    "collapsed": false
   },
   "outputs": [],
   "source": [
    "adam = tf.train.AdamOptimizer(learning_rate=0.01)\n",
    "grads_and_vars = adam.compute_gradients(loss, weights)"
   ]
  },
  {
   "cell_type": "code",
   "execution_count": 16,
   "metadata": {
    "collapsed": false
   },
   "outputs": [
    {
     "data": {
      "text/plain": [
       "(<tf.Tensor 'gradients_2/MatMul_grad/tuple/control_dependency_1:0' shape=(784, 100) dtype=float32>,\n",
       " <tensorflow.python.ops.variables.Variable at 0x7f0d1b4ed7d0>)"
      ]
     },
     "execution_count": 16,
     "metadata": {},
     "output_type": "execute_result"
    }
   ],
   "source": [
    "grads_and_vars[0]"
   ]
  },
  {
   "cell_type": "code",
   "execution_count": 17,
   "metadata": {
    "collapsed": false
   },
   "outputs": [
    {
     "data": {
      "text/plain": [
       "[[(784, 100), (784, 100)],\n",
       " [(100,), (100,)],\n",
       " [(100, 10), (100, 10)],\n",
       " [(10,), (10,)]]"
      ]
     },
     "execution_count": 17,
     "metadata": {},
     "output_type": "execute_result"
    }
   ],
   "source": [
    "[[tf_core.int_shape(x) for x in w] for w in grads_and_vars]"
   ]
  },
  {
   "cell_type": "code",
   "execution_count": 27,
   "metadata": {
    "collapsed": true
   },
   "outputs": [],
   "source": [
    "x = np.array([0, 1, 2, 3, 4])\n",
    "y = np.array([1, -1, 2, 1])\n"
   ]
  },
  {
   "cell_type": "code",
   "execution_count": 30,
   "metadata": {
    "collapsed": false
   },
   "outputs": [
    {
     "name": "stdout",
     "output_type": "stream",
     "text": [
      "[1 1 3 6 4]\n",
      "[3 6]\n"
     ]
    }
   ],
   "source": [
    "print(np.convolve(x, y, mode='same'))\n",
    "print(np.convolve(x, y, mode='valid'))"
   ]
  },
  {
   "cell_type": "code",
   "execution_count": 31,
   "metadata": {
    "collapsed": false
   },
   "outputs": [
    {
     "data": {
      "text/plain": [
       "array([[ 0,  1,  2,  3],\n",
       "       [ 4,  5,  6,  7],\n",
       "       [ 8,  9, 10, 11]])"
      ]
     },
     "execution_count": 31,
     "metadata": {},
     "output_type": "execute_result"
    }
   ],
   "source": [
    "x = np.arange(12).reshape(3, 4)\n",
    "x"
   ]
  },
  {
   "cell_type": "code",
   "execution_count": 33,
   "metadata": {
    "collapsed": false
   },
   "outputs": [
    {
     "data": {
      "text/plain": [
       "array([[ 0,  0,  0,  0,  0,  0],\n",
       "       [ 0,  0,  1,  2,  3,  0],\n",
       "       [ 0,  4,  5,  6,  7,  0],\n",
       "       [ 0,  8,  9, 10, 11,  0],\n",
       "       [ 0,  0,  0,  0,  0,  0]])"
      ]
     },
     "execution_count": 33,
     "metadata": {},
     "output_type": "execute_result"
    }
   ],
   "source": [
    "np.pad(x, ((1, 1), (1, 1)), 'constant')"
   ]
  },
  {
   "cell_type": "code",
   "execution_count": 44,
   "metadata": {
    "collapsed": false
   },
   "outputs": [],
   "source": [
    "from keras.layers import Dense, BatchNormalization, Activation\n",
    "from keras.models import Sequential"
   ]
  },
  {
   "cell_type": "code",
   "execution_count": 45,
   "metadata": {
    "collapsed": true
   },
   "outputs": [],
   "source": [
    "model = Sequential()\n",
    "model.add(Dense(100, input_dim=784, activation='relu'))\n",
    "model.add(Dense(10, activation='softmax'))"
   ]
  },
  {
   "cell_type": "code",
   "execution_count": 46,
   "metadata": {
    "collapsed": false
   },
   "outputs": [
    {
     "name": "stdout",
     "output_type": "stream",
     "text": [
      "_________________________________________________________________\n",
      "Layer (type)                 Output Shape              Param #   \n",
      "=================================================================\n",
      "dense_5 (Dense)              (None, 100)               78500     \n",
      "_________________________________________________________________\n",
      "dense_6 (Dense)              (None, 10)                1010      \n",
      "=================================================================\n",
      "Total params: 79,510.0\n",
      "Trainable params: 79,510\n",
      "Non-trainable params: 0.0\n",
      "_________________________________________________________________\n"
     ]
    }
   ],
   "source": [
    "model.summary()"
   ]
  },
  {
   "cell_type": "code",
   "execution_count": 47,
   "metadata": {
    "collapsed": true
   },
   "outputs": [],
   "source": [
    "model2 = Sequential()\n",
    "model2.add(Dense(100, input_dim=784))\n",
    "model2.add(BatchNormalization())\n",
    "model2.add(Activation('relu'))\n",
    "model2.add(Dense(10, activation='softmax'))"
   ]
  },
  {
   "cell_type": "code",
   "execution_count": 48,
   "metadata": {
    "collapsed": false
   },
   "outputs": [
    {
     "name": "stdout",
     "output_type": "stream",
     "text": [
      "_________________________________________________________________\n",
      "Layer (type)                 Output Shape              Param #   \n",
      "=================================================================\n",
      "dense_7 (Dense)              (None, 100)               78500     \n",
      "_________________________________________________________________\n",
      "batch_normalization_2 (Batch (None, 100)               400       \n",
      "_________________________________________________________________\n",
      "activation_1 (Activation)    (None, 100)               0         \n",
      "_________________________________________________________________\n",
      "dense_8 (Dense)              (None, 10)                1010      \n",
      "=================================================================\n",
      "Total params: 79,910.0\n",
      "Trainable params: 79,710.0\n",
      "Non-trainable params: 200.0\n",
      "_________________________________________________________________\n"
     ]
    }
   ],
   "source": [
    "model2.summary()"
   ]
  },
  {
   "cell_type": "code",
   "execution_count": 42,
   "metadata": {
    "collapsed": false
   },
   "outputs": [
    {
     "data": {
      "text/plain": [
       "[[784, 100], [100], [100], [100], [100, 10], [10]]"
      ]
     },
     "execution_count": 42,
     "metadata": {},
     "output_type": "execute_result"
    }
   ],
   "source": [
    "[w.get_shape().as_list() for w in model2.trainable_weights]"
   ]
  },
  {
   "cell_type": "code",
   "execution_count": null,
   "metadata": {
    "collapsed": true
   },
   "outputs": [],
   "source": []
  }
 ],
 "metadata": {
  "anaconda-cloud": {},
  "kernelspec": {
   "display_name": "Python [conda root]",
   "language": "python",
   "name": "conda-root-py"
  },
  "language_info": {
   "codemirror_mode": {
    "name": "ipython",
    "version": 2
   },
   "file_extension": ".py",
   "mimetype": "text/x-python",
   "name": "python",
   "nbconvert_exporter": "python",
   "pygments_lexer": "ipython2",
   "version": "2.7.12"
  }
 },
 "nbformat": 4,
 "nbformat_minor": 1
}
