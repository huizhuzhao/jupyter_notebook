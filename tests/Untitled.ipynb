{
 "cells": [
  {
   "cell_type": "markdown",
   "metadata": {},
   "source": [
    "### 在 DUDE 数据集上训练多任务模型 (multitask)\n",
    "\n",
    "* DUDE dataset\n",
    "\n",
    "|Dataset   | Targets   | ligands   |max_atom_len/bond  | aver num ligands per target  |aver num targets per ligand |\n",
    "|----------|:---------:|----------:|-------------:|-----------------------------:|---------------------------:|\n",
    "|DUD-E     | 102       |1,200,966  | 61           |223/13,835 (active/inactive)|1.2|\n",
    "\n",
    "![png](dude_files/num_atoms_bonds.png)数据集中分子的原子/化学键数目统计\n",
    "\n",
    "* 数据集的存储\n",
    "\n",
    " 所有数据存储在 labels_all.csv 文件中，如下图\n",
    "![](dude_files/dude_labels.png)\n",
    "我们接下来将分子 SMILES 进行矢量化，以 1000 为单位将所有矢量化后的分子数据 (features) 及对应的标签数据 (labels) 进行分组，因此会得到 1201 组文件数据(features_xxxx.joblib, labels_xxxx.joblib)。训练模型的过程中我们会批量的读取这些文件数据。\n",
    "\n",
    "```\n",
    "smiles_list = [sm1, sm2, ...]\n",
    "labels_list = [lb1, lb2, ...]\n",
    "dataset = Dataset(data=[smiles_list], labels=labels_list, batch_size=1000, learing_phase=0)\n",
    "for ii in range(dataset.num_batches_per_epoch):\n",
    "    batch_x, batch_y, batch_w = dataset.next()\n",
    "    batch_smiles = batch_x[0][:dataset.current_batch_size]\n",
    "    batch_labels = batch_y[0][:dataset.current_batch_szie]\n",
    "    \n",
    "```"
   ]
  },
  {
   "cell_type": "code",
   "execution_count": null,
   "metadata": {
    "collapsed": true
   },
   "outputs": [],
   "source": []
  }
 ],
 "metadata": {
  "anaconda-cloud": {},
  "kernelspec": {
   "display_name": "Python [conda root]",
   "language": "python",
   "name": "conda-root-py"
  },
  "language_info": {
   "codemirror_mode": {
    "name": "ipython",
    "version": 2
   },
   "file_extension": ".py",
   "mimetype": "text/x-python",
   "name": "python",
   "nbconvert_exporter": "python",
   "pygments_lexer": "ipython2",
   "version": "2.7.12"
  }
 },
 "nbformat": 4,
 "nbformat_minor": 1
}
