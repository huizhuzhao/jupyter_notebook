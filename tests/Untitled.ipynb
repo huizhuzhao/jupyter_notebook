{
 "cells": [
  {
   "cell_type": "code",
   "execution_count": 19,
   "metadata": {
    "collapsed": false
   },
   "outputs": [],
   "source": [
    "import numpy as np\n",
    "import pandas as pd\n",
    "import matplotlib.pyplot as plt\n",
    "import tensorflow as tf\n",
    "from Erwin.datasets.utils import iterators\n",
    "from Erwin.datasets import Dataset"
   ]
  },
  {
   "cell_type": "code",
   "execution_count": 79,
   "metadata": {
    "collapsed": true
   },
   "outputs": [],
   "source": [
    "y_pred = tf.placeholder(shape=(3,4), dtype=tf.float32)\n",
    "y_true = tf.placeholder(shape=(3,4), dtype=tf.float32)\n",
    "weights = tf.placeholder(shape=(3,4), dtype=tf.int32)\n",
    "acc, acc_update = tf.contrib.metrics.streaming_accuracy(y_true, y_pred, weights)"
   ]
  },
  {
   "cell_type": "code",
   "execution_count": 80,
   "metadata": {
    "collapsed": false
   },
   "outputs": [
    {
     "data": {
      "text/plain": [
       "((10, 3, 4), (10, 3, 4))"
      ]
     },
     "execution_count": 80,
     "metadata": {},
     "output_type": "execute_result"
    }
   ],
   "source": [
    "#y_pred_numpy = np.asarray([[0, 0, 1], [0, 1, 0]], dtype=np.float32)\n",
    "#y_true_numpy = np.asarray([[0, 0, 1], [1, 0, 1]], dtype=np.float32)\n",
    "#weights_numpy = np.asarray([[1, 1, 1], [1, 1, 0]], dtype=np.int32)\n",
    "y_pred_numpy = np.random.randint(0, 2, size=(10, 3, 4)).astype(np.float32)\n",
    "y_true_numpy = np.random.randint(0, 2, size=(10, 3, 4)).astype(np.float32)\n",
    "weights_numpy = np.random.binomial(2, p=0.1, size=(10, 3, 4))\n",
    "y_pred_numpy.shape, weights_numpy.shape"
   ]
  },
  {
   "cell_type": "code",
   "execution_count": 81,
   "metadata": {
    "collapsed": true
   },
   "outputs": [],
   "source": [
    "sess = tf.Session()\n",
    "sess.run(tf.global_variables_initializer())\n",
    "sess.run(tf.local_variables_initializer())"
   ]
  },
  {
   "cell_type": "code",
   "execution_count": 82,
   "metadata": {
    "collapsed": false
   },
   "outputs": [
    {
     "name": "stdout",
     "output_type": "stream",
     "text": [
      "[0.66666669]\n",
      "[0.33333334]\n",
      "[0.375]\n",
      "[0.5]\n",
      "[0.5]\n",
      "[0.53846157]\n",
      "[0.625]\n",
      "[0.55000001]\n",
      "[0.54545456]\n",
      "[0.52173913]\n"
     ]
    }
   ],
   "source": [
    "for y_p, y_t, w in zip(y_pred_numpy, y_true_numpy, weights_numpy[:, :, :]):\n",
    "    res = sess.run([acc_update], feed_dict={y_pred: y_p, y_true: y_t, weights: w})\n",
    "    print(res)"
   ]
  },
  {
   "cell_type": "code",
   "execution_count": 84,
   "metadata": {
    "collapsed": false
   },
   "outputs": [
    {
     "ename": "ValueError",
     "evalue": "`values` must have known statically known rank",
     "output_type": "error",
     "traceback": [
      "\u001b[0;31m---------------------------------------------------------------------------\u001b[0m",
      "\u001b[0;31mValueError\u001b[0m                                Traceback (most recent call last)",
      "\u001b[0;32m<ipython-input-84-0927f3d30cf7>\u001b[0m in \u001b[0;36m<module>\u001b[0;34m()\u001b[0m\n\u001b[1;32m      1\u001b[0m \u001b[0mloss\u001b[0m \u001b[0;34m=\u001b[0m \u001b[0mtf\u001b[0m\u001b[0;34m.\u001b[0m\u001b[0mplaceholder\u001b[0m\u001b[0;34m(\u001b[0m\u001b[0mdtype\u001b[0m\u001b[0;34m=\u001b[0m\u001b[0mtf\u001b[0m\u001b[0;34m.\u001b[0m\u001b[0mfloat32\u001b[0m\u001b[0;34m)\u001b[0m\u001b[0;34m\u001b[0m\u001b[0m\n\u001b[0;32m----> 2\u001b[0;31m \u001b[0mst_loss\u001b[0m\u001b[0;34m,\u001b[0m \u001b[0mloss_update\u001b[0m \u001b[0;34m=\u001b[0m \u001b[0mtf\u001b[0m\u001b[0;34m.\u001b[0m\u001b[0mcontrib\u001b[0m\u001b[0;34m.\u001b[0m\u001b[0mmetrics\u001b[0m\u001b[0;34m.\u001b[0m\u001b[0mstreaming_concat\u001b[0m\u001b[0;34m(\u001b[0m\u001b[0mloss\u001b[0m\u001b[0;34m)\u001b[0m\u001b[0;34m\u001b[0m\u001b[0m\n\u001b[0m",
      "\u001b[0;32m/home/huizhu/anaconda2/lib/python2.7/site-packages/tensorflow/contrib/metrics/python/ops/metric_ops.pyc\u001b[0m in \u001b[0;36mstreaming_concat\u001b[0;34m(values, axis, max_size, metrics_collections, updates_collections, name)\u001b[0m\n\u001b[1;32m   2204\u001b[0m     \u001b[0mvalues_shape\u001b[0m \u001b[0;34m=\u001b[0m \u001b[0mvalues\u001b[0m\u001b[0;34m.\u001b[0m\u001b[0mget_shape\u001b[0m\u001b[0;34m(\u001b[0m\u001b[0;34m)\u001b[0m\u001b[0;34m\u001b[0m\u001b[0m\n\u001b[1;32m   2205\u001b[0m     \u001b[0;32mif\u001b[0m \u001b[0mvalues_shape\u001b[0m\u001b[0;34m.\u001b[0m\u001b[0mdims\u001b[0m \u001b[0;32mis\u001b[0m \u001b[0mNone\u001b[0m\u001b[0;34m:\u001b[0m\u001b[0;34m\u001b[0m\u001b[0m\n\u001b[0;32m-> 2206\u001b[0;31m       \u001b[0;32mraise\u001b[0m \u001b[0mValueError\u001b[0m\u001b[0;34m(\u001b[0m\u001b[0;34m'`values` must have known statically known rank'\u001b[0m\u001b[0;34m)\u001b[0m\u001b[0;34m\u001b[0m\u001b[0m\n\u001b[0m\u001b[1;32m   2207\u001b[0m \u001b[0;34m\u001b[0m\u001b[0m\n\u001b[1;32m   2208\u001b[0m     \u001b[0mndim\u001b[0m \u001b[0;34m=\u001b[0m \u001b[0mlen\u001b[0m\u001b[0;34m(\u001b[0m\u001b[0mvalues_shape\u001b[0m\u001b[0;34m)\u001b[0m\u001b[0;34m\u001b[0m\u001b[0m\n",
      "\u001b[0;31mValueError\u001b[0m: `values` must have known statically known rank"
     ]
    }
   ],
   "source": [
    "loss = tf.placeholder(dtype=tf.float32)\n",
    "st_loss, loss_update = tf.contrib.metrics.streaming_concat(loss)"
   ]
  },
  {
   "cell_type": "code",
   "execution_count": null,
   "metadata": {
    "collapsed": true
   },
   "outputs": [],
   "source": []
  }
 ],
 "metadata": {
  "anaconda-cloud": {},
  "kernelspec": {
   "display_name": "Python [conda root]",
   "language": "python",
   "name": "conda-root-py"
  },
  "language_info": {
   "codemirror_mode": {
    "name": "ipython",
    "version": 2
   },
   "file_extension": ".py",
   "mimetype": "text/x-python",
   "name": "python",
   "nbconvert_exporter": "python",
   "pygments_lexer": "ipython2",
   "version": "2.7.12"
  }
 },
 "nbformat": 4,
 "nbformat_minor": 1
}
