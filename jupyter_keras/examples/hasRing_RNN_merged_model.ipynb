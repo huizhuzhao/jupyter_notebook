{
 "cells": [
  {
   "cell_type": "markdown",
   "metadata": {},
   "source": [
    "# image_classification (hasRing problem) with RNN model"
   ]
  },
  {
   "cell_type": "code",
   "execution_count": 30,
   "metadata": {
    "collapsed": false
   },
   "outputs": [],
   "source": [
    "from keras.models import Sequential\n",
    "from keras.layers import Dense, Activation, Embedding, LSTM\n",
    "from keras.layers import Merge, Dropout\n",
    "from keras.optimizers import SGD\n",
    "from collections import Counter\n",
    "import numpy as np"
   ]
  },
  {
   "cell_type": "markdown",
   "metadata": {},
   "source": [
    "### prepare data"
   ]
  },
  {
   "cell_type": "code",
   "execution_count": 31,
   "metadata": {
    "collapsed": false
   },
   "outputs": [
    {
     "name": "stdout",
     "output_type": "stream",
     "text": [
      "hasRing_data count: Counter({1: 53, 0: 47})\n",
      "max_atoms_count: 18, max_seq_length: 30\n",
      "bond_sequences.shape: (747, 100),\n",
      "atom_sequences.shape: (747, 100),\n",
      "target_sequences.shape: (747, 1),\n",
      "sample_atom_count: (747,)\n",
      "target_seq count: Counter({1: 449, 0: 298})\n"
     ]
    }
   ],
   "source": [
    "import getpass\n",
    "import os\n",
    "from Teemo.utils import fileops\n",
    "from Teemo.examples.mol_rnn.load_data import gen_bond_atom_target_sequences\n",
    "from Teemo.algorithm.utils import matrixops\n",
    "\n",
    "max_seq_length = 100\n",
    "data_dir = '/home/'+getpass.getuser()+'/git_test/test_data/examples/has_ring/alogps/'\n",
    "smiles_file = data_dir + 'alogps.smi'\n",
    "hasRing_file = data_dir + 'alogps.hasring'\n",
    "assert os.path.exists(smiles_file), os.path.exists(hasRing_file)\n",
    "\n",
    "num_mols = 100\n",
    "smiles_data = [x[0] for x in fileops.read_file(smiles_file)][:num_mols]\n",
    "hasRing_data = [int(x[0]) for x in fileops.read_file(hasRing_file)][:num_mols]\n",
    "print ('hasRing_data count: {0}'.format(Counter(hasRing_data)))\n",
    "\n",
    "bond_seq, atom_seq, target_seq, sample_atom_count = gen_bond_atom_target_sequences(smiles_data, hasRing_data, max_seq_length)\n",
    "target_seq = matrixops.one_hot_transformer(target_seq, 2)\n",
    "print ('target_seq count: {0}'.format(Counter(np.argmax(target_seq, axis=1))))"
   ]
  },
  {
   "cell_type": "markdown",
   "metadata": {},
   "source": [
    "### build model 1"
   ]
  },
  {
   "cell_type": "code",
   "execution_count": 32,
   "metadata": {
    "collapsed": false
   },
   "outputs": [
    {
     "name": "stdout",
     "output_type": "stream",
     "text": [
      "([(None, None), (None, None)], (None, 2))\n"
     ]
    }
   ],
   "source": [
    "atom_vec_dim = 150\n",
    "bond_vec_dim = 150\n",
    "atom_type_size = 100\n",
    "bond_type_size = 24\n",
    "lstm_hidden_dim = 100\n",
    "output_dim = 2\n",
    "\n",
    "branch_1 = Sequential()\n",
    "branch_1.add(Embedding(output_dim=bond_vec_dim, input_dim=bond_type_size, mask_zero=True))\n",
    "branch_2 = Sequential()\n",
    "branch_2.add(Embedding(output_dim=atom_vec_dim, input_dim=atom_type_size, mask_zero=True))\n",
    "merged = Merge([branch_1, branch_2], mode='concat')\n",
    "model = Sequential()\n",
    "model.add(merged)\n",
    "model.add(LSTM(output_dim = lstm_hidden_dim))\n",
    "model.add(Dropout(0.5))\n",
    "model.add(Dense(output_dim = output_dim, activation='softmax'))\n",
    "print (model.input_shape, model.output_shape)"
   ]
  },
  {
   "cell_type": "code",
   "execution_count": 33,
   "metadata": {
    "collapsed": false
   },
   "outputs": [
    {
     "name": "stdout",
     "output_type": "stream",
     "text": [
      "Epoch 1/10\n",
      "747/747 [==============================] - 2s - loss: 0.0935 - acc: 0.4511     \n",
      "Epoch 2/10\n",
      "747/747 [==============================] - 2s - loss: 0.0934 - acc: 0.4726     \n",
      "Epoch 3/10\n",
      "747/747 [==============================] - 2s - loss: 0.0927 - acc: 0.5154     \n",
      "Epoch 4/10\n",
      "747/747 [==============================] - 2s - loss: 0.0931 - acc: 0.5382     \n",
      "Epoch 5/10\n",
      "747/747 [==============================] - 2s - loss: 0.0926 - acc: 0.5341     \n",
      "Epoch 6/10\n",
      "747/747 [==============================] - 2s - loss: 0.0927 - acc: 0.5395     \n",
      "Epoch 7/10\n",
      "747/747 [==============================] - 2s - loss: 0.0929 - acc: 0.5529     \n",
      "Epoch 8/10\n",
      "747/747 [==============================] - 2s - loss: 0.0928 - acc: 0.5529     \n",
      "Epoch 9/10\n",
      "747/747 [==============================] - 2s - loss: 0.0929 - acc: 0.5529     \n",
      "Epoch 10/10\n",
      "747/747 [==============================] - 2s - loss: 0.0930 - acc: 0.5569     \n"
     ]
    },
    {
     "data": {
      "text/plain": [
       "<keras.callbacks.History at 0x7f9c92d06190>"
      ]
     },
     "execution_count": 33,
     "metadata": {},
     "output_type": "execute_result"
    }
   ],
   "source": [
    "model.compile(loss='categorical_crossentropy', optimizer=SGD(lr=0.01, momentum=0.0), metrics=['accuracy'])\n",
    "model.fit([bond_seq, atom_seq], target_seq, nb_epoch=10, sample_weight=1./(sample_atom_count))"
   ]
  },
  {
   "cell_type": "code",
   "execution_count": 34,
   "metadata": {
    "collapsed": false
   },
   "outputs": [
    {
     "name": "stdout",
     "output_type": "stream",
     "text": [
      "            precision   recall      f_measure   support     \n",
      "class 0     0.0         0.0         0.0         298         \n",
      "class 1     0.6011      1.0         0.7508      449         \n",
      "avg/total   0.3613      0.6011      0.4513      747         \n",
      "matrix\n",
      "            Pred        \n",
      "True        class 0     class 1     \n",
      "class 0     0           298         \n",
      "class 1     0           449         \n",
      "\n"
     ]
    }
   ],
   "source": [
    "from Teemo.algorithm.utils.evaluations import classification_evaluate\n",
    "from Teemo.algorithm.utils.report_funcs import classification_report\n",
    "y_pred = model.predict([bond_seq, atom_seq])\n",
    "res = classification_evaluate(y_pred, target_seq)\n",
    "res = classification_report(res)\n",
    "print (res)"
   ]
  },
  {
   "cell_type": "markdown",
   "metadata": {},
   "source": [
    "### build model 2"
   ]
  },
  {
   "cell_type": "code",
   "execution_count": null,
   "metadata": {
    "collapsed": true
   },
   "outputs": [],
   "source": [
    "voca_size = 2300\n",
    "emb_dim = 200\n",
    "lstm_hidden_dim = 200\n",
    "output_dim = 2\n",
    "model = Sequential()\n",
    "## mask_zeros: refer to https://github.com/fchollet/keras/blob/master/keras/layers/embeddings.py\n",
    "model.add(Embedding(output_dim = emb_dim, input_dim = voca_size, mask_zero=True))\n",
    "model.add(LSTM(output_dim=lstm_hidden_dim, return_sequences=False))\n",
    "model.add(Dense(output_dim=output_dim))\n",
    "model.add(Activation('softmax'))\n",
    "model.compile(loss='categorical_crossentropy', optimizer=SGD(lr=0.002, momentum=0.0), metrics=['accuracy'])"
   ]
  }
 ],
 "metadata": {
  "anaconda-cloud": {},
  "kernelspec": {
   "display_name": "Python [conda root]",
   "language": "python",
   "name": "conda-root-py"
  },
  "language_info": {
   "codemirror_mode": {
    "name": "ipython",
    "version": 2
   },
   "file_extension": ".py",
   "mimetype": "text/x-python",
   "name": "python",
   "nbconvert_exporter": "python",
   "pygments_lexer": "ipython2",
   "version": "2.7.12"
  }
 },
 "nbformat": 4,
 "nbformat_minor": 1
}
