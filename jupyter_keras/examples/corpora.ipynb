{
 "cells": [
  {
   "cell_type": "code",
   "execution_count": 1,
   "metadata": {
    "collapsed": false
   },
   "outputs": [
    {
     "name": "stderr",
     "output_type": "stream",
     "text": [
      "Using Theano backend.\n"
     ]
    }
   ],
   "source": [
    "from Teemo.examples.reuters_keras.load_data import reuters_keras\n",
    "from keras.models import Sequential\n",
    "from keras.layers import Dense, Activation, LSTM, Embedding\n",
    "from keras.optimizers import SGD\n",
    "import numpy as np"
   ]
  },
  {
   "cell_type": "code",
   "execution_count": 2,
   "metadata": {
    "collapsed": false
   },
   "outputs": [
    {
     "name": "stdout",
     "output_type": "stream",
     "text": [
      "(8982, 8982)\n",
      "[  1   2   2   8  43  10 447   5  25 207]\n"
     ]
    }
   ],
   "source": [
    "train_x, train_y, valid_x, valid_y = reuters_keras(keras_type=True)\n",
    "train_x = [np.asarray(x) for x in train_x]\n",
    "train_y = [np.asarray(x) for x in train_y]\n",
    "valid_x = [np.asarray(x) for x in valid_x]\n",
    "valid_y = [np.asarray(x) for x in valid_y]\n",
    "print (len(train_x), len(train_y))\n",
    "print (train_x[0][:10])"
   ]
  },
  {
   "cell_type": "code",
   "execution_count": 3,
   "metadata": {
    "collapsed": false
   },
   "outputs": [],
   "source": [
    "max_id = np.max([np.max(x) for x in train_x])\n",
    "min_id = np.min([np.min(x) for x in train_x])\n",
    "max_y = np.max(train_y)\n",
    "voca_size = max_id + 1\n",
    "n_classes = max_y + 1\n",
    "word_vec_dim = 100\n",
    "hidden_dim = 200"
   ]
  },
  {
   "cell_type": "code",
   "execution_count": 4,
   "metadata": {
    "collapsed": false
   },
   "outputs": [],
   "source": [
    "model = Sequential()\n",
    "model.add(Embedding(output_dim=word_vec_dim, input_dim=voca_size))\n",
    "model.add(LSTM(output_dim=hidden_dim, return_sequences=False))\n",
    "model.add(Dense(output_dim=n_classes, activation='softmax'))\n",
    "model.compile(loss='categorical_crossentropy', optimizer=SGD(lr=0.001, momentum=0.), metrics=['accuracy'])"
   ]
  },
  {
   "cell_type": "code",
   "execution_count": null,
   "metadata": {
    "collapsed": false
   },
   "outputs": [],
   "source": [
    "def train_one_epoch(model, train_x, train_y):\n",
    "    for x, y in zip(train_x, train_y):\n",
    "        x = x[np.newaxis, :]\n",
    "        y = np.eye(n_classes)[y][np.newaxis, :]\n",
    "        model.train_on_batch(x, y)\n",
    "\n",
    "def evaluate(model, valid_x, valid_y):\n",
    "    loss_list = []\n",
    "    for x, y in zip(valid_x, valid_y):\n",
    "        x = x[np.newaxis, :]\n",
    "        y = np.eye(n_classes)[y][np.newaxis, :]\n",
    "        loss, metric = model.test_on_batch(x, y)\n",
    "        loss_list.append(loss)\n",
    "    return np.mean(loss_list)\n",
    "\n",
    "def train(model, train_x, train_y, valid_x, valid_y):\n",
    "    n_epoch = 10\n",
    "    loss_list = []\n",
    "    for ii in range(n_epoch):\n",
    "        train_one_epoch(model, train_x, train_y)\n",
    "        loss = evaluate(model, valid_x, valid_y)\n",
    "        print ('Epoch: {0}, loss: {1}'.format(ii, loss))\n",
    "        loss_list.append(loss)\n",
    "    \n",
    "train(model, train_x, train_y, valid_x, valid_y)"
   ]
  },
  {
   "cell_type": "code",
   "execution_count": null,
   "metadata": {
    "collapsed": false
   },
   "outputs": [],
   "source": [
    "dictionary = corpora.Dictionary(texts)\n",
    "print (dictionary)\n",
    "print (dictionary.token2id)"
   ]
  },
  {
   "cell_type": "code",
   "execution_count": 17,
   "metadata": {
    "collapsed": false
   },
   "outputs": [
    {
     "name": "stderr",
     "output_type": "stream",
     "text": [
      "2016-12-01 13:34:24,252 : INFO : adding document #0 to Dictionary(0 unique tokens: [])\n",
      "2016-12-01 13:34:24,252 : INFO : built Dictionary(4 unique tokens: [u'a', u'c', u'b', u'd']) from 2 documents (total 4 corpus positions)\n"
     ]
    },
    {
     "name": "stdout",
     "output_type": "stream",
     "text": [
      "Dictionary(4 unique tokens: [u'a', u'c', u'b', u'd'])\n",
      "{u'a': 0, u'c': 2, u'b': 1, u'd': 3}\n"
     ]
    }
   ],
   "source": [
    "dic = corpora.Dictionary([['a', 'b'], ['c', 'd']])\n",
    "print (dic)\n",
    "print (dic.token2id)"
   ]
  },
  {
   "cell_type": "code",
   "execution_count": 21,
   "metadata": {
    "collapsed": false
   },
   "outputs": [
    {
     "name": "stdout",
     "output_type": "stream",
     "text": [
      "[(1, 1), (2, 2)]\n"
     ]
    }
   ],
   "source": [
    "new_doc = 'Human computer interaction human'\n",
    "new_vec = dictionary.doc2bow(new_doc.lower().split())\n",
    "print (new_vec)"
   ]
  },
  {
   "cell_type": "code",
   "execution_count": 23,
   "metadata": {
    "collapsed": false
   },
   "outputs": [
    {
     "name": "stdout",
     "output_type": "stream",
     "text": [
      "[[(0, 1), (1, 1), (2, 1)],\n",
      " [(1, 1), (3, 1), (4, 1), (5, 1), (6, 1), (7, 1)],\n",
      " [(0, 1), (6, 1), (7, 1), (8, 1)],\n",
      " [(2, 1), (6, 2), (8, 1)],\n",
      " [(3, 1), (4, 1), (7, 1)],\n",
      " [(9, 1)],\n",
      " [(9, 1), (10, 1)],\n",
      " [(9, 1), (10, 1), (11, 1)],\n",
      " [(5, 1), (10, 1), (11, 1)]]\n"
     ]
    }
   ],
   "source": [
    "corpus = [dictionary.doc2bow(text) for text in texts]\n",
    "pprint (corpus)"
   ]
  },
  {
   "cell_type": "code",
   "execution_count": 24,
   "metadata": {
    "collapsed": false
   },
   "outputs": [
    {
     "name": "stdout",
     "output_type": "stream",
     "text": [
      "{0: 2, 1: 2, 2: 2, 3: 2, 4: 2, 5: 2, 6: 3, 7: 3, 8: 2, 9: 3, 10: 3, 11: 2}\n"
     ]
    }
   ],
   "source": [
    "print (dictionary.dfs)"
   ]
  },
  {
   "cell_type": "code",
   "execution_count": 34,
   "metadata": {
    "collapsed": false
   },
   "outputs": [
    {
     "name": "stdout",
     "output_type": "stream",
     "text": [
      "[[ 0.30528765  0.13012134  0.46654478]\n",
      " [ 0.65625257  0.46661058  0.13246266]\n",
      " [ 0.05575696  0.7109175   0.78536732]\n",
      " [ 0.5510513   0.30350838  0.07598952]]\n",
      "<gensim.matutils.Dense2Corpus object at 0x7f5c33375cd0>\n",
      "[(0, 0.30528765157085835), (1, 0.65625256814444077), (2, 0.055756961103615499), (3, 0.5510513002043429)]\n",
      "[(0, 0.13012134153175137), (1, 0.46661057708285414), (2, 0.7109174954843972), (3, 0.30350838466174057)]\n",
      "[(0, 0.46654478016935341), (1, 0.13246266009308361), (2, 0.78536731669087534), (3, 0.07598952416226834)]\n"
     ]
    }
   ],
   "source": [
    "import numpy as np\n",
    "import gensim\n",
    "mat = np.random.uniform(size=(4, 3))\n",
    "corpus = gensim.matutils.Dense2Corpus(mat)\n",
    "print (mat)\n",
    "print (corpus)\n",
    "for doc in corpus:\n",
    "    print (doc)"
   ]
  },
  {
   "cell_type": "code",
   "execution_count": null,
   "metadata": {
    "collapsed": true
   },
   "outputs": [],
   "source": []
  }
 ],
 "metadata": {
  "anaconda-cloud": {},
  "kernelspec": {
   "display_name": "Python [conda root]",
   "language": "python",
   "name": "conda-root-py"
  },
  "language_info": {
   "codemirror_mode": {
    "name": "ipython",
    "version": 2
   },
   "file_extension": ".py",
   "mimetype": "text/x-python",
   "name": "python",
   "nbconvert_exporter": "python",
   "pygments_lexer": "ipython2",
   "version": "2.7.12"
  }
 },
 "nbformat": 4,
 "nbformat_minor": 1
}
