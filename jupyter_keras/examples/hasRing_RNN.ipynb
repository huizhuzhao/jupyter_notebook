{
 "cells": [
  {
   "cell_type": "markdown",
   "metadata": {},
   "source": [
    "### mol_rnn model (hasRing data) -- keras"
   ]
  },
  {
   "cell_type": "code",
   "execution_count": 1,
   "metadata": {
    "collapsed": true
   },
   "outputs": [],
   "source": [
    "import numpy as np\n",
    "from Teemo.utils import fileops\n",
    "from Teemo.algorithm.utils import matrixops\n",
    "from collections import Counter\n",
    "from assertpy import assert_that\n",
    "import getpass\n",
    "import os\n",
    "from Teemo.examples.mol_rnn import one_smiles"
   ]
  },
  {
   "cell_type": "markdown",
   "metadata": {},
   "source": [
    "### prepare training data"
   ]
  },
  {
   "cell_type": "code",
   "execution_count": 3,
   "metadata": {
    "collapsed": false
   },
   "outputs": [
    {
     "name": "stdout",
     "output_type": "stream",
     "text": [
      "Counter({1: 53, 0: 47})\n",
      "(80, 88.137500000000003)\n",
      "prepare data already\n"
     ]
    }
   ],
   "source": [
    "def prepare_data(num_mols):\n",
    "    '''\n",
    "    return list of 1D numpy.ndarray\n",
    "    '''\n",
    "    data_dir = '/home/'+getpass.getuser()+'/git_test/test_data/examples/has_ring/alogps/'\n",
    "    smiles_file = data_dir + 'alogps.smi'\n",
    "    hasRing_file = data_dir + 'alogps.hasring'\n",
    "    assert os.path.exists(smiles_file), os.path.exists(hasRing_file)\n",
    "\n",
    "    smiles_data = [x[0] for x in fileops.read_file(smiles_file)][:num_mols]\n",
    "    hasRing_data = [int(x[0]) for x in fileops.read_file(hasRing_file)][:num_mols]\n",
    "    print (Counter(hasRing_data))\n",
    "\n",
    "    hasRing_data = np.eye(2)[np.asarray(hasRing_data)]\n",
    "\n",
    "    x_bond = []\n",
    "    x_atom = []\n",
    "    for sm in smiles_data:\n",
    "        mol_chain = one_smiles.convert_mol_graph_to_chain(sm)['mol_chain']\n",
    "        mol_seq = []\n",
    "        for item in mol_chain.values():\n",
    "            mol_seq.extend(item['chain_values'])\n",
    "        x_bond.append(np.asarray([x[0] for x in mol_seq]))\n",
    "        x_atom.append(np.asarray([x[1] for x in mol_seq]))\n",
    "\n",
    "    num_train = int(num_mols * 0.8)\n",
    "    num_valid = num_mols - num_train\n",
    "    all_idx = np.random.choice(np.arange(num_mols), num_mols, replace=False)\n",
    "    train_idx = all_idx[:num_train]\n",
    "    valid_idx = all_idx[num_train:]\n",
    "\n",
    "    train_x_bond = [x_bond[ii] for ii in train_idx]\n",
    "    train_x_atom = [x_atom[ii] for ii in train_idx]\n",
    "    train_y = [hasRing_data[ii] for ii in train_idx]\n",
    "\n",
    "    valid_x_bond = [x_bond[ii] for ii in valid_idx]\n",
    "    valid_x_atom = [x_atom[ii] for ii in valid_idx]\n",
    "    valid_y = [hasRing_data[ii] for ii in valid_idx]\n",
    "\n",
    "    return train_x_bond, train_x_atom, train_y, valid_x_bond, valid_x_atom, valid_y\n",
    "\n",
    "num_mols = 100\n",
    "train_x_bond, train_x_atom, train_y, valid_x_bond, valid_x_atom, valid_y = prepare_data(num_mols)\n",
    "print (len(train_x_bond), np.mean([len(x) for x in train_x_bond]))\n",
    "print ('prepare data already')"
   ]
  },
  {
   "cell_type": "markdown",
   "metadata": {},
   "source": [
    "### build model"
   ]
  },
  {
   "cell_type": "code",
   "execution_count": 3,
   "metadata": {
    "collapsed": false
   },
   "outputs": [
    {
     "name": "stderr",
     "output_type": "stream",
     "text": [
      "Using Theano backend.\n"
     ]
    },
    {
     "name": "stdout",
     "output_type": "stream",
     "text": [
      "model.input_shape: [(None, None), (None, None)], model.output_shape: (None, 2)\n"
     ]
    }
   ],
   "source": [
    "from keras.models import Sequential\n",
    "from keras.layers import Embedding, LSTM, Dense, Merge\n",
    "from keras.optimizers import SGD\n",
    "def build_model():\n",
    "    bond_voca_size, atom_voca_size = 23, 100 \n",
    "    bond_emb_dim, atom_emb_dim = 200, 200 \n",
    "    lstm_hidden_dim = 150\n",
    "    output_dim = 2\n",
    "    branch_1 = Sequential()\n",
    "    branch_1.add(Embedding(output_dim = bond_emb_dim, input_dim = bond_voca_size))\n",
    "    branch_2 = Sequential()\n",
    "    branch_2.add(Embedding(output_dim = atom_emb_dim, input_dim = atom_voca_size))\n",
    "    merge = Merge([branch_1, branch_2], mode='concat')\n",
    "\n",
    "    model = Sequential()\n",
    "    model.add(merge)\n",
    "    model.add(LSTM(output_dim=lstm_hidden_dim, return_sequences=True))\n",
    "    model.add(LSTM(output_dim=lstm_hidden_dim, return_sequences=True))\n",
    "    model.add(LSTM(output_dim=lstm_hidden_dim))\n",
    "    model.add(Dense(output_dim=output_dim, activation='softmax'))\n",
    "    model.compile(loss='categorical_crossentropy', optimizer=SGD(lr=0.001, momentum=0.5), metrics=['accuracy'])\n",
    "    print ('model.input_shape: {0}, model.output_shape: {1}'.format(model.input_shape, model.output_shape))\n",
    "    return model\n",
    "\n",
    "model = build_model()"
   ]
  },
  {
   "cell_type": "markdown",
   "metadata": {},
   "source": [
    "### train model"
   ]
  },
  {
   "cell_type": "code",
   "execution_count": 4,
   "metadata": {
    "collapsed": false
   },
   "outputs": [
    {
     "name": "stdout",
     "output_type": "stream",
     "text": [
      "Training epoch: 0\n"
     ]
    },
    {
     "name": "stderr",
     "output_type": "stream",
     "text": [
      "100% (80 of 80) |################################################| Elapsed Time: 0:00:39 Time: 0:00:39\n"
     ]
    },
    {
     "name": "stdout",
     "output_type": "stream",
     "text": [
      "loss: 0.724638998508\n",
      "Training epoch: 1\n"
     ]
    },
    {
     "name": "stderr",
     "output_type": "stream",
     "text": [
      "100% (80 of 80) |################################################| Elapsed Time: 0:00:05 Time: 0:00:05\n"
     ]
    },
    {
     "name": "stdout",
     "output_type": "stream",
     "text": [
      "loss: 0.606952548027\n",
      "Training epoch: 2\n"
     ]
    },
    {
     "name": "stderr",
     "output_type": "stream",
     "text": [
      "100% (80 of 80) |################################################| Elapsed Time: 0:00:05 Time: 0:00:05\n"
     ]
    },
    {
     "name": "stdout",
     "output_type": "stream",
     "text": [
      "loss: 0.538334965706\n",
      "Training epoch: 3\n"
     ]
    },
    {
     "name": "stderr",
     "output_type": "stream",
     "text": [
      "100% (80 of 80) |################################################| Elapsed Time: 0:00:05 Time: 0:00:05\n"
     ]
    },
    {
     "name": "stdout",
     "output_type": "stream",
     "text": [
      "loss: 0.509910702705\n",
      "Training epoch: 4\n"
     ]
    },
    {
     "name": "stderr",
     "output_type": "stream",
     "text": [
      "100% (80 of 80) |################################################| Elapsed Time: 0:00:05 Time: 0:00:05\n"
     ]
    },
    {
     "name": "stdout",
     "output_type": "stream",
     "text": [
      "loss: 0.49959897995\n",
      "Training epoch: 5\n"
     ]
    },
    {
     "name": "stderr",
     "output_type": "stream",
     "text": [
      "100% (80 of 80) |################################################| Elapsed Time: 0:00:05 Time: 0:00:05\n"
     ]
    },
    {
     "name": "stdout",
     "output_type": "stream",
     "text": [
      "loss: 0.485340893269\n",
      "Training epoch: 6\n"
     ]
    },
    {
     "name": "stderr",
     "output_type": "stream",
     "text": [
      "100% (80 of 80) |################################################| Elapsed Time: 0:00:05 Time: 0:00:05\n"
     ]
    },
    {
     "name": "stdout",
     "output_type": "stream",
     "text": [
      "loss: 0.474209159613\n",
      "Training epoch: 7\n"
     ]
    },
    {
     "name": "stderr",
     "output_type": "stream",
     "text": [
      "100% (80 of 80) |################################################| Elapsed Time: 0:00:05 Time: 0:00:05\n"
     ]
    },
    {
     "name": "stdout",
     "output_type": "stream",
     "text": [
      "loss: 0.469019949436\n",
      "Training epoch: 8\n"
     ]
    },
    {
     "name": "stderr",
     "output_type": "stream",
     "text": [
      "100% (80 of 80) |################################################| Elapsed Time: 0:00:05 Time: 0:00:05\n"
     ]
    },
    {
     "name": "stdout",
     "output_type": "stream",
     "text": [
      "loss: 0.469218194485\n",
      "Training epoch: 9\n"
     ]
    },
    {
     "name": "stderr",
     "output_type": "stream",
     "text": [
      "100% (80 of 80) |################################################| Elapsed Time: 0:00:05 Time: 0:00:05\n"
     ]
    },
    {
     "name": "stdout",
     "output_type": "stream",
     "text": [
      "loss: 0.475480228662\n"
     ]
    },
    {
     "data": {
      "image/png": "[encoded data removed]",
      "text/plain": [
       "<matplotlib.figure.Figure at 0x7f1936164050>"
      ]
     },
     "metadata": {},
     "output_type": "display_data"
    }
   ],
   "source": [
    "from progressbar import ProgressBar\n",
    "def train(model, train_x_bond, train_x_atom, train_y, valid_x_bond, valid_x_atom, valid_y):\n",
    "    n_epoch = 10\n",
    "    loss_list = []\n",
    "    for ii in range(n_epoch):\n",
    "        print ('Training epoch: {0}'.format(ii))\n",
    "        bar = ProgressBar(max_value=len(train_x_bond))\n",
    "        for x_bond, x_atom, y in bar(zip(train_x_bond, train_x_atom, train_y)):\n",
    "        #for x_bond, x_atom, y in zip(train_x_bond, train_x_atom, train_y):\n",
    "            x_bond = x_bond[np.newaxis, :]\n",
    "            x_atom = x_atom[np.newaxis, :]\n",
    "            y = y[np.newaxis, :]\n",
    "            model.train_on_batch([x_bond, x_atom], y)\n",
    "\n",
    "        tmp_loss_list = []\n",
    "        for x_bond, x_atom, y in zip(valid_x_bond, valid_x_atom, valid_y):\n",
    "            x_bond = x_bond[np.newaxis, :]\n",
    "            x_atom = x_atom[np.newaxis, :]\n",
    "            y = y[np.newaxis, :]\n",
    "            loss, metric = model.test_on_batch([x_bond, x_atom], y)\n",
    "            tmp_loss_list.append(loss)\n",
    "        loss = np.mean(tmp_loss_list)\n",
    "        print ('loss: {0}'.format(loss))\n",
    "        loss_list.append(loss)\n",
    "\n",
    "    return loss_list\n",
    "\n",
    "loss_list = train(model, train_x_bond, train_x_atom, train_y, valid_x_bond, valid_x_atom, valid_y)\n",
    "import matplotlib.pyplot as plt\n",
    "plt.plot(loss_list)\n",
    "plt.show()"
   ]
  },
  {
   "cell_type": "markdown",
   "metadata": {},
   "source": [
    "### evaluate model"
   ]
  },
  {
   "cell_type": "code",
   "execution_count": 6,
   "metadata": {
    "collapsed": false
   },
   "outputs": [
    {
     "name": "stdout",
     "output_type": "stream",
     "text": [
      "            precision   recall      f_measure   support     \n",
      "class 0     0.7857      0.7857      0.7857      14          \n",
      "class 1     0.5         0.5         0.5         6           \n",
      "avg/total   0.7         0.7         0.7         20          \n",
      "matrix\n",
      "            Pred        \n",
      "True        class 0     class 1     \n",
      "class 0     11          3           \n",
      "class 1     3           3           \n",
      "\n"
     ]
    }
   ],
   "source": [
    "def evaluate(model, valid_x_bond, valid_x_atom, valid_y):\n",
    "    pred_list = []\n",
    "    for x_bond, x_atom in zip(valid_x_bond, valid_x_atom):\n",
    "        x_bond = np.asarray(x_bond)[np.newaxis, :]\n",
    "        x_atom = np.asarray(x_atom)[np.newaxis, :]\n",
    "        pred = model.predict_on_batch([x_bond, x_atom])\n",
    "        pred_list.append(pred)\n",
    "\n",
    "    pred = np.asarray(pred_list)[:, 0, :]\n",
    "\n",
    "    from Teemo.algorithm.utils.evaluations import classification_evaluate\n",
    "    from Teemo.algorithm.utils.report_funcs import classification_report\n",
    "    res = classification_evaluate(pred, np.asarray(valid_y))\n",
    "    print (classification_report(res))\n",
    "\n",
    "\n",
    "evaluate(model, valid_x_bond, valid_x_atom, valid_y)"
   ]
  },
  {
   "cell_type": "code",
   "execution_count": 7,
   "metadata": {
    "collapsed": false
   },
   "outputs": [
    {
     "name": "stdout",
     "output_type": "stream",
     "text": [
      "____________________________________________________________________________________________________\n",
      "Layer (type)                     Output Shape          Param #     Connected to                     \n",
      "====================================================================================================\n",
      "embedding_1 (Embedding)          (None, None, 200)     4600                                         \n",
      "____________________________________________________________________________________________________\n",
      "embedding_2 (Embedding)          (None, None, 200)     20000                                        \n",
      "____________________________________________________________________________________________________\n",
      "lstm_1 (LSTM)                    (None, None, 150)     330600      merge_1[0][0]                    \n",
      "____________________________________________________________________________________________________\n",
      "lstm_2 (LSTM)                    (None, None, 150)     180600      lstm_1[0][0]                     \n",
      "____________________________________________________________________________________________________\n",
      "lstm_3 (LSTM)                    (None, 150)           180600      lstm_2[0][0]                     \n",
      "____________________________________________________________________________________________________\n",
      "dense_1 (Dense)                  (None, 2)             302         lstm_3[0][0]                     \n",
      "====================================================================================================\n",
      "Total params: 716702\n",
      "____________________________________________________________________________________________________\n",
      "            precision   recall      f_measure   support     \n",
      "class 0     0.7857      0.7857      0.7857      14          \n",
      "class 1     0.5         0.5         0.5         6           \n",
      "avg/total   0.7         0.7         0.7         20          \n",
      "matrix\n",
      "            Pred        \n",
      "True        class 0     class 1     \n",
      "class 0     11          3           \n",
      "class 1     3           3           \n",
      "\n"
     ]
    }
   ],
   "source": [
    "model.summary()\n",
    "evaluate(model, valid_x_bond, valid_x_atom, valid_y)"
   ]
  },
  {
   "cell_type": "markdown",
   "metadata": {},
   "source": [
    "### model.get_config(), model.to_json(), model.to_yaml()\n",
    "only the model's architecture is copied which can be used to reinstantiate a new model (who's weights/biases are reinitialized randomly)"
   ]
  },
  {
   "cell_type": "code",
   "execution_count": 8,
   "metadata": {
    "collapsed": false
   },
   "outputs": [
    {
     "name": "stdout",
     "output_type": "stream",
     "text": [
      "            precision   recall      f_measure   support     \n",
      "class 0     0.7143      0.7143      0.7143      14          \n",
      "class 1     0.3333      0.3333      0.3333      6           \n",
      "avg/total   0.6         0.6         0.6         20          \n",
      "matrix\n",
      "            Pred        \n",
      "True        class 0     class 1     \n",
      "class 0     10          4           \n",
      "class 1     4           2           \n",
      "\n"
     ]
    }
   ],
   "source": [
    "### only copy the configuration of the model, and do not contain the weights/biases\n",
    "config = model.get_config()\n",
    "model_2 = Sequential.from_config(config) # weights/biases of \"model_2\" are re-initialized\n",
    "evaluate(model_2, valid_x_bond, valid_x_atom, valid_y)"
   ]
  },
  {
   "cell_type": "code",
   "execution_count": 9,
   "metadata": {
    "collapsed": false
   },
   "outputs": [
    {
     "name": "stdout",
     "output_type": "stream",
     "text": [
      "            precision   recall      f_measure   support     \n",
      "class 0     0.6471      0.7857      0.7097      14          \n",
      "class 1     0.0         0.0         0.0         6           \n",
      "avg/total   0.4529      0.55        0.4968      20          \n",
      "matrix\n",
      "            Pred        \n",
      "True        class 0     class 1     \n",
      "class 0     11          3           \n",
      "class 1     6           0           \n",
      "\n"
     ]
    }
   ],
   "source": [
    "from keras.models import model_from_json\n",
    "### only copy the configuration of the model, and do not contain the weights/biases\n",
    "json_string = model.to_json()\n",
    "model_3 = model_from_json(json_string) # weights/biases of \"model_3\" are re-initialized\n",
    "evaluate(model_3, valid_x_bond, valid_x_atom, valid_y)"
   ]
  },
  {
   "cell_type": "code",
   "execution_count": 10,
   "metadata": {
    "collapsed": false
   },
   "outputs": [
    {
     "name": "stdout",
     "output_type": "stream",
     "text": [
      "            precision   recall      f_measure   support     \n",
      "class 0     0.75        0.4286      0.5455      14          \n",
      "class 1     0.3333      0.6667      0.4444      6           \n",
      "avg/total   0.625       0.5         0.5152      20          \n",
      "matrix\n",
      "            Pred        \n",
      "True        class 0     class 1     \n",
      "class 0     6           8           \n",
      "class 1     2           4           \n",
      "\n"
     ]
    }
   ],
   "source": [
    "from keras.models import model_from_yaml\n",
    "yaml_string = model.to_yaml()\n",
    "model_4 = model_from_yaml(yaml_string)\n",
    "evaluate(model_4, valid_x_bond, valid_x_atom, valid_y)"
   ]
  },
  {
   "cell_type": "code",
   "execution_count": 11,
   "metadata": {
    "collapsed": true
   },
   "outputs": [],
   "source": [
    "weights_file = './weights_file.dat'\n",
    "model.save_weights(weights_file)"
   ]
  },
  {
   "cell_type": "code",
   "execution_count": 12,
   "metadata": {
    "collapsed": false
   },
   "outputs": [],
   "source": [
    "model_4.load_weights(weights_file)"
   ]
  },
  {
   "cell_type": "code",
   "execution_count": 13,
   "metadata": {
    "collapsed": false
   },
   "outputs": [
    {
     "name": "stdout",
     "output_type": "stream",
     "text": [
      "            precision   recall      f_measure   support     \n",
      "class 0     0.7857      0.7857      0.7857      14          \n",
      "class 1     0.5         0.5         0.5         6           \n",
      "avg/total   0.7         0.7         0.7         20          \n",
      "matrix\n",
      "            Pred        \n",
      "True        class 0     class 1     \n",
      "class 0     11          3           \n",
      "class 1     3           3           \n",
      "\n"
     ]
    }
   ],
   "source": [
    "evaluate(model_4, valid_x_bond, valid_x_atom, valid_y)"
   ]
  },
  {
   "cell_type": "code",
   "execution_count": null,
   "metadata": {
    "collapsed": true
   },
   "outputs": [],
   "source": []
  }
 ],
 "metadata": {
  "anaconda-cloud": {},
  "kernelspec": {
   "display_name": "Python [conda root]",
   "language": "python",
   "name": "conda-root-py"
  },
  "language_info": {
   "codemirror_mode": {
    "name": "ipython",
    "version": 2
   },
   "file_extension": ".py",
   "mimetype": "text/x-python",
   "name": "python",
   "nbconvert_exporter": "python",
   "pygments_lexer": "ipython2",
   "version": "2.7.12"
  }
 },
 "nbformat": 4,
 "nbformat_minor": 1
}
