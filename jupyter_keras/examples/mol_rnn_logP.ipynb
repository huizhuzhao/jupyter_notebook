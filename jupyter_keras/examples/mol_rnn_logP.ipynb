{
 "cells": [
  {
   "cell_type": "markdown",
   "metadata": {},
   "source": [
    "## mol_rnn model (logP) -- keras"
   ]
  },
  {
   "cell_type": "code",
   "execution_count": 2,
   "metadata": {
    "collapsed": false
   },
   "outputs": [],
   "source": [
    "import numpy as np\n",
    "from Teemo.algorithm.cntk.examples.mol_rnn import mol2ctf\n",
    "from Teemo.utils import fileops"
   ]
  },
  {
   "cell_type": "code",
   "execution_count": 3,
   "metadata": {
    "collapsed": false
   },
   "outputs": [
    {
     "name": "stdout",
     "output_type": "stream",
     "text": [
      "max_atoms_count: 18\n",
      "{'C2': {'chain_values': [7, 18, 8, 24, 6, 18], 'chain_symbols': [['None_N3', 'N3'], ['C1_N3', 'C1'], ['None_O0', 'O0'], ['C1_O0', 'C1'], ['None_C1', 'C1'], ['C1_C2', 'C2']]}, 'C1': {'chain_values': [6, 18, 7, 18, 8, 24], 'chain_symbols': [['None_C2', 'C2'], ['C1_C2', 'C1'], ['None_N3', 'N3'], ['C1_N3', 'C1'], ['None_O0', 'O0'], ['C1_O0', 'C1']]}, 'N3': {'chain_values': [6, 18, 8, 24, 6, 21], 'chain_symbols': [['None_C2', 'C2'], ['C1_C2', 'C1'], ['None_O0', 'O0'], ['C1_O0', 'C1'], ['None_C1', 'C1'], ['C1_N3', 'N3']]}, 'O0': {'chain_values': [6, 18, 7, 18, 6, 32], 'chain_symbols': [['None_C2', 'C2'], ['C1_C2', 'C1'], ['None_N3', 'N3'], ['C1_N3', 'C1'], ['None_C1', 'C1'], ['C1_O0', 'O0']]}}\n",
      "sequences.shape: (747, 100), targets.shape: (747,)\n"
     ]
    }
   ],
   "source": [
    "import getpass\n",
    "import os\n",
    "data_dir = '/home/'+getpass.getuser()+'/git_test/test_data/examples/logP/alogps/'\n",
    "smiles_file = data_dir + 'alogps.smi'\n",
    "logP_file = data_dir + 'alogps.logP'\n",
    "assert os.path.exists(smiles_file), os.path.exists(logP_file)\n",
    "\n",
    "num_mols = 100\n",
    "smiles_data = [x[0] for x in fileops.read_file(smiles_file)][:num_mols]\n",
    "logP_data = [x[0] for x in fileops.read_file(logP_file)][:num_mols]\n",
    "def gen_mol_chain_data(smiles_data):\n",
    "    mol_chain_data = []\n",
    "    max_atoms_count = 0\n",
    "    for sm in smiles_data:\n",
    "        mol_chain = mol2ctf.one_smiles(sm)['mol_chain']\n",
    "        mol_chain_data.append(mol_chain)\n",
    "        atoms_count = len(mol_chain)\n",
    "        if max_atoms_count < atoms_count:\n",
    "            max_atoms_count = atoms_count\n",
    "    print ('max_atoms_count: {0}'.format(max_atoms_count))\n",
    "    return mol_chain_data\n",
    "\n",
    "def gen_mol_values_sparse(mol_chain_data, logP, max_seq_length=100):\n",
    "    assert len(mol_chain_data) == len(logP)\n",
    "    sequences = []\n",
    "    targets = []\n",
    "    for one_mol, tg in zip(mol_chain_data, logP):\n",
    "        for it in one_mol.values():\n",
    "            values = it['chain_values']\n",
    "            values += [0] * (max_seq_length - len(values))\n",
    "            sequences.append(values)\n",
    "            targets.append(tg)\n",
    "    sequences = [np.asarray(x) for x in sequences]\n",
    "    targets = [np.float(x) for x in targets]\n",
    "   \n",
    "    sequences = np.vstack(sequences)\n",
    "    targets = np.asarray(targets)\n",
    "    print ('sequences.shape: {0}, targets.shape: {1}'.format(sequences.shape, targets.shape))\n",
    "    return sequences, targets\n",
    "    \n",
    "    \n",
    "mol_chain_data = gen_mol_chain_data(smiles_data)\n",
    "print (mol_chain_data[0])\n",
    "sequences, targets = gen_mol_values_sparse(mol_chain_data, logP_data)"
   ]
  },
  {
   "cell_type": "markdown",
   "metadata": {},
   "source": [
    "### prepare model"
   ]
  },
  {
   "cell_type": "code",
   "execution_count": 6,
   "metadata": {
    "collapsed": false
   },
   "outputs": [
    {
     "name": "stderr",
     "output_type": "stream",
     "text": [
      "Using Theano backend.\n"
     ]
    }
   ],
   "source": [
    "from keras.models import Sequential\n",
    "from keras.layers import Dense, Activation, Embedding, LSTM"
   ]
  },
  {
   "cell_type": "code",
   "execution_count": 7,
   "metadata": {
    "collapsed": false
   },
   "outputs": [
    {
     "name": "stdout",
     "output_type": "stream",
     "text": [
      "Epoch 1/10\n",
      "747/747 [==============================] - 3s - loss: 1.5810 - mean_absolute_error: 1.0272     \n",
      "Epoch 2/10\n",
      "747/747 [==============================] - 3s - loss: 1.4450 - mean_absolute_error: 0.9924     \n",
      "Epoch 3/10\n",
      "747/747 [==============================] - 3s - loss: 1.3013 - mean_absolute_error: 0.9505     \n",
      "Epoch 4/10\n",
      "747/747 [==============================] - 3s - loss: 1.1663 - mean_absolute_error: 0.9071     \n",
      "Epoch 5/10\n",
      "747/747 [==============================] - 3s - loss: 1.0540 - mean_absolute_error: 0.8580     \n",
      "Epoch 6/10\n",
      "747/747 [==============================] - 3s - loss: 0.9348 - mean_absolute_error: 0.8067     \n",
      "Epoch 7/10\n",
      "747/747 [==============================] - 3s - loss: 0.8452 - mean_absolute_error: 0.7687     \n",
      "Epoch 8/10\n",
      "747/747 [==============================] - 3s - loss: 0.7486 - mean_absolute_error: 0.7081     \n",
      "Epoch 9/10\n",
      "747/747 [==============================] - 3s - loss: 0.7041 - mean_absolute_error: 0.6795     \n",
      "Epoch 10/10\n",
      "747/747 [==============================] - 3s - loss: 0.7420 - mean_absolute_error: 0.6842     \n",
      "correlation pearson: 0.787812159511\n"
     ]
    }
   ],
   "source": [
    "voca_size = 2300\n",
    "emb_dim = 200\n",
    "lstm_hidden_dim = 200\n",
    "output_dim = 1\n",
    "model = Sequential()\n",
    "## mask_zeros: refer to https://github.com/fchollet/keras/blob/master/keras/layers/embeddings.py\n",
    "model.add(Embedding(output_dim = emb_dim, input_dim = voca_size, mask_zero=True))\n",
    "model.add(LSTM(output_dim=lstm_hidden_dim, return_sequences=False))\n",
    "model.add(Dense(output_dim=1))\n",
    "model.compile(loss='mean_squared_error', optimizer='sgd', metrics=['mean_absolute_error'])\n",
    "\n",
    "model.fit(sequences, targets, nb_epoch=10, batch_size=32)\n",
    "\n",
    "from Teemo.algorithm.utils.evaluations import correlation_pearson\n",
    "output = model.predict(sequences)[:, 0]\n",
    "corr = correlation_pearson(output, targets)\n",
    "print ('correlation pearson: {0}'.format(corr))"
   ]
  },
  {
   "cell_type": "code",
   "execution_count": 10,
   "metadata": {
    "collapsed": false
   },
   "outputs": [
    {
     "name": "stdout",
     "output_type": "stream",
     "text": [
      "Epoch 1/10\n",
      "747/747 [==============================] - 3s - loss: 0.5983 - mean_absolute_error: 0.5946     \n",
      "Epoch 2/10\n",
      "747/747 [==============================] - 3s - loss: 0.5692 - mean_absolute_error: 0.5913     \n",
      "Epoch 3/10\n",
      "747/747 [==============================] - 3s - loss: 0.5680 - mean_absolute_error: 0.5828     \n",
      "Epoch 4/10\n",
      "747/747 [==============================] - 3s - loss: 0.5617 - mean_absolute_error: 0.5860     \n",
      "Epoch 5/10\n",
      "747/747 [==============================] - 3s - loss: 0.5506 - mean_absolute_error: 0.5702     \n",
      "Epoch 6/10\n",
      "747/747 [==============================] - 4s - loss: 0.5502 - mean_absolute_error: 0.5776     \n",
      "Epoch 7/10\n",
      "747/747 [==============================] - 3s - loss: 0.5422 - mean_absolute_error: 0.5710     \n",
      "Epoch 8/10\n",
      "747/747 [==============================] - 3s - loss: 0.5220 - mean_absolute_error: 0.5580     \n",
      "Epoch 9/10\n",
      "747/747 [==============================] - 3s - loss: 0.5191 - mean_absolute_error: 0.5543     \n",
      "Epoch 10/10\n",
      "747/747 [==============================] - 3s - loss: 0.5470 - mean_absolute_error: 0.5685     \n",
      "correlation pearson: 0.82278682958\n"
     ]
    }
   ],
   "source": [
    "model.fit(sequences, targets, nb_epoch=10, batch_size=32)\n",
    "output = model.predict(sequences)[:, 0]\n",
    "corr = correlation_pearson(output, targets)\n",
    "print ('correlation pearson: {0}'.format(corr))"
   ]
  },
  {
   "cell_type": "code",
   "execution_count": 30,
   "metadata": {
    "collapsed": false
   },
   "outputs": [
    {
     "data": {
      "image/png": "[encoded data removed]",
      "text/plain": [
       "<matplotlib.figure.Figure at 0x7f1f2d8d2290>"
      ]
     },
     "metadata": {},
     "output_type": "display_data"
    }
   ],
   "source": [
    "import matplotlib.pyplot as plt\n",
    "idx_targets = dict((idx, tg) for idx, tg in zip(range(len(targets)), targets))\n",
    "idx_outputs = dict((idx, tg) for idx, tg in zip(range(len(output)), output))\n",
    "targets_idx = dict((v, k) for k, v in idx_targets.items())\n",
    "\n",
    "sorted_targets = sorted(list(targets))\n",
    "sorted_idx = [targets_idx[tg] for tg in sorted_targets]\n",
    "sorted_outputs = [idx_outputs[idx] for idx in sorted_idx]\n",
    "plt.figure()\n",
    "plt.subplot(211)\n",
    "plt.scatter(range(len(sorted_targets)), sorted_targets)\n",
    "plt.scatter(range(len(sorted_outputs)), sorted_outputs, c='r')\n",
    "plt.show()"
   ]
  },
  {
   "cell_type": "code",
   "execution_count": null,
   "metadata": {
    "collapsed": true
   },
   "outputs": [],
   "source": []
  }
 ],
 "metadata": {
  "anaconda-cloud": {},
  "kernelspec": {
   "display_name": "Python [conda root]",
   "language": "python",
   "name": "conda-root-py"
  },
  "language_info": {
   "codemirror_mode": {
    "name": "ipython",
    "version": 2
   },
   "file_extension": ".py",
   "mimetype": "text/x-python",
   "name": "python",
   "nbconvert_exporter": "python",
   "pygments_lexer": "ipython2",
   "version": "2.7.12"
  }
 },
 "nbformat": 4,
 "nbformat_minor": 1
}
