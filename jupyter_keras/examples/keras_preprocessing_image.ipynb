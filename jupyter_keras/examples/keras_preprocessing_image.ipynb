{
 "cells": [
  {
   "cell_type": "code",
   "execution_count": 28,
   "metadata": {
    "collapsed": false
   },
   "outputs": [],
   "source": [
    "from __future__ import print_function\n",
    "import numpy as np\n",
    "from keras.preprocessing import image"
   ]
  },
  {
   "cell_type": "markdown",
   "metadata": {},
   "source": [
    "### `class Iterator()`　\n",
    "生成一个　`index_generator`，通过调用　`next()`　方法该生成器可以产生一串`index`，生成的数据结构为\n",
    "\n",
    "`(index_array, current_index_value, current_batch_size)`\n",
    "\n",
    "`class Iterator()`　中参数：\n",
    "\n",
    "1. `seed`: 对随机数生成器设置种子，`np.random.seed(seed + self.total_batches_seen)`，可以保证每次调用`class Iterator()`时使用新种子\n",
    "\n",
    "2. `shuffle=True`表示每次 `epoch`　开始前会先 shuffle 所有的 `index`, 即`np.random.permutation(N)`,（仅当N个样本全部采样完后，才会使用此方法. 每次采样个数为`current_batch_size`）"
   ]
  },
  {
   "cell_type": "code",
   "execution_count": 42,
   "metadata": {
    "collapsed": false
   },
   "outputs": [
    {
     "name": "stdout",
     "output_type": "stream",
     "text": [
      "current_batch_size: 14 (array([10, 13, 30, 46, 18,  0, 40, 12, 29,  8, 21, 47, 11, 41]), 0, 14)\n",
      "current_batch_size: 14 (array([ 5,  1,  6, 27, 49, 24, 31, 15, 35, 26,  7, 20, 48,  3]), 14, 14)\n",
      "current_batch_size: 14 (array([23, 44,  4, 16, 36, 14, 43, 25, 37, 39,  9, 32, 33, 22]), 28, 14)\n",
      "current_batch_size: 8 (array([42, 19, 17, 38, 34, 28,  2, 45]), 42, 8)\n",
      "current_batch_size: 14 (array([ 7, 15,  8, 24, 11, 21, 48,  6, 33,  0, 20, 22, 35, 43]), 0, 14)\n"
     ]
    }
   ],
   "source": [
    "n_samples = 50\n",
    "batch_size = 14\n",
    "iterator = image.Iterator(N=n_samples, batch_size=batch_size, shuffle=True, seed=123)\n",
    "for ii in range(5):\n",
    "    data = next(iterator.index_generator)\n",
    "    print ('current_batch_size: {0}'.format(data[-1]), data)"
   ]
  },
  {
   "cell_type": "markdown",
   "metadata": {},
   "source": [
    "### `class NumpyArrayGenerator()`　\n",
    "每次生成样本数据和样本标签，这些样本是根据 `class Iterator()`　生成的 `index_array`采集的。\n",
    "方法　`class ImageDataGenerator().flow`　会返回一个 `class NumpyArrayGenerator()`　实例"
   ]
  },
  {
   "cell_type": "code",
   "execution_count": 47,
   "metadata": {
    "collapsed": false
   },
   "outputs": [
    {
     "name": "stdout",
     "output_type": "stream",
     "text": [
      "(14, 32, 32, 3) (14,)\n",
      "(14, 32, 32, 3) (14,)\n",
      "(14, 32, 32, 3) (14,)\n",
      "(8, 32, 32, 3) (8,)\n",
      "(14, 32, 32, 3) (14,)\n"
     ]
    }
   ],
   "source": [
    "trn_images = np.random.uniform(size=(n_samples, 32, 32, 3))\n",
    "trn_labels = np.random.randint(10, size=(n_samples))\n",
    "img_generator = image.ImageDataGenerator()\n",
    "numpy_iterator = image.NumpyArrayIterator(trn_images, trn_labels, img_generator, batch_size=batch_size, shuffle=True, seed=123)\n",
    "\n",
    "for ii in range(5):\n",
    "    batch_x, batch_y = numpy_iterator.next()\n",
    "    print (batch_x.shape, batch_y.shape)"
   ]
  },
  {
   "cell_type": "markdown",
   "metadata": {},
   "source": [
    "### class ImageDataGenerator()\n",
    "methods: \n",
    "\n",
    "    flow(): 此方法是 class NumpyArrayGenerator() 的实例\n",
    "    \n",
    "    flow_from_directory(): 此方法是 class DirectoryIterator()　的实例\n",
    "    \n",
    "    standardize(x): 对输入矩阵 x　做标准化操作，　其中 x　代表一张图片矩阵\n",
    "    \n",
    "    random_transform(x): 对输入矩阵 x　做随机变换，变换参数在实例化 class ImageDataGenerator() 时给出, 包括(rotation_range,\n",
    "    height_shift_range, width_shift_range, shear_range, zoom_range, channel_shift_range, horizontal_flip, vertical_flip\n",
    "    \n",
    "    fit(X, rounds=1): 对输入训练样本矩阵 X 计算其统计数值 (mean, std), X 是所有训练样本图片的矩阵数据. rounds 表示对输入 X 进行扩增， rounds=2 表示扩增至原数据两倍，扩增方法采用 random_transform().\n",
    "    "
   ]
  },
  {
   "cell_type": "code",
   "execution_count": 54,
   "metadata": {
    "collapsed": false
   },
   "outputs": [
    {
     "name": "stdout",
     "output_type": "stream",
     "text": [
      "(32, 32, 32, 3) (32,)\n",
      "(18, 32, 32, 3) (18,)\n",
      "(32, 32, 32, 3) (32,)\n",
      "(18, 32, 32, 3) (18,)\n",
      "(32, 32, 32, 3) (32,)\n"
     ]
    }
   ],
   "source": [
    "img_generator = image.ImageDataGenerator(featurewise_center=True, featurewise_std_normalization=True, zca_whitening=True)\n",
    "img_generator.fit(trn_images)\n",
    "img_flow = img_generator.flow(trn_images, trn_labels)\n",
    "for ii in range(5):\n",
    "    batch_x, batch_y = img_flow.next() # 这一步对每一批图片中的每一张进行 random_transform() 和 standardize() 操作\n",
    "    print (batch_x.shape, batch_y.shape)"
   ]
  },
  {
   "cell_type": "code",
   "execution_count": 57,
   "metadata": {
    "collapsed": false
   },
   "outputs": [
    {
     "name": "stdout",
     "output_type": "stream",
     "text": [
      "(32, 32, 3) (32, 32, 3) (3072, 3072)\n"
     ]
    }
   ],
   "source": [
    "print (img_generator.mean.shape, img_generator.std.shape, img_generator.principal_components.shape)"
   ]
  },
  {
   "cell_type": "markdown",
   "metadata": {},
   "source": [
    "### class DirectoryIterator()"
   ]
  },
  {
   "cell_type": "code",
   "execution_count": 64,
   "metadata": {
    "collapsed": false
   },
   "outputs": [
    {
     "name": "stdout",
     "output_type": "stream",
     "text": [
      "Found 53 images belonging to 2 classes.\n"
     ]
    }
   ],
   "source": [
    "import getpass\n",
    "directory = '/home/'+getpass.getuser()+'/git_test/test_data/examples/dogs_cats'\n",
    "## \n",
    "img_generator = image.ImageDataGenerator(samplewise_center=True, samplewise_std_normalization=True)\n",
    "dir_iterator = image.DirectoryIterator(directory, img_generator, batch_size=batch_size, shuffle=True)"
   ]
  },
  {
   "cell_type": "code",
   "execution_count": 65,
   "metadata": {
    "collapsed": false
   },
   "outputs": [
    {
     "name": "stdout",
     "output_type": "stream",
     "text": [
      "(14, 256, 256, 3) (14, 2)\n",
      "(14, 256, 256, 3) (14, 2)\n",
      "(14, 256, 256, 3) (14, 2)\n",
      "(11, 256, 256, 3) (11, 2)\n",
      "(14, 256, 256, 3) (14, 2)\n"
     ]
    }
   ],
   "source": [
    "for ii in range(5):\n",
    "    batch_x, batch_y = dir_iterator.next()\n",
    "    print (batch_x.shape, batch_y.shape)"
   ]
  },
  {
   "cell_type": "code",
   "execution_count": null,
   "metadata": {
    "collapsed": true
   },
   "outputs": [],
   "source": []
  }
 ],
 "metadata": {
  "anaconda-cloud": {},
  "kernelspec": {
   "display_name": "Python [conda root]",
   "language": "python",
   "name": "conda-root-py"
  },
  "language_info": {
   "codemirror_mode": {
    "name": "ipython",
    "version": 2
   },
   "file_extension": ".py",
   "mimetype": "text/x-python",
   "name": "python",
   "nbconvert_exporter": "python",
   "pygments_lexer": "ipython2",
   "version": "2.7.12"
  }
 },
 "nbformat": 4,
 "nbformat_minor": 1
}
