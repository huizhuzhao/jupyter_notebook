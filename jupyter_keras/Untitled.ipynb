{
 "cells": [
  {
   "cell_type": "code",
   "execution_count": 53,
   "metadata": {
    "collapsed": false
   },
   "outputs": [],
   "source": [
    "from keras.layers import Dense, Merge\n",
    "from keras.models import Sequential, Model\n",
    "import numpy as np"
   ]
  },
  {
   "cell_type": "markdown",
   "metadata": {},
   "source": [
    "## get layers"
   ]
  },
  {
   "cell_type": "code",
   "execution_count": 64,
   "metadata": {
    "collapsed": false
   },
   "outputs": [
    {
     "name": "stdout",
     "output_type": "stream",
     "text": [
      "dense_input_22\n",
      "<keras.layers.core.Dense object at 0x7f8d0e09f690>\n"
     ]
    }
   ],
   "source": [
    "def mlp_mnist():\n",
    "    model = Sequential()\n",
    "    model.add(Dense(input_shape=(784, ), output_dim=64, name='hidden_1', activation='relu'))\n",
    "    model.add(Dense(output_dim=10, name='output', activation='softmax'))\n",
    "    return model\n",
    "\n",
    "model = mlp_mnist()\n",
    "inputs = model.input\n",
    "hidden_1 = model.get_layer('hidden_1')\n",
    "print inputs\n",
    "print hidden_1"
   ]
  },
  {
   "cell_type": "markdown",
   "metadata": {},
   "source": [
    "## get hidden layer output"
   ]
  },
  {
   "cell_type": "code",
   "execution_count": 70,
   "metadata": {
    "collapsed": false
   },
   "outputs": [],
   "source": [
    "mlp = mlp_mnist()\n",
    "model_hidden_1 = Model(input=mlp.input, output=mlp.get_layer('hidden_1').output)"
   ]
  },
  {
   "cell_type": "code",
   "execution_count": 71,
   "metadata": {
    "collapsed": false
   },
   "outputs": [
    {
     "name": "stdout",
     "output_type": "stream",
     "text": [
      "(1, 64) (1, 10)\n",
      "[[ 2.61597109  0.          0.          0.          0.50748408  0.80008984\n",
      "   0.22303176  1.02016914  1.02427709  0.          1.91193521  1.62209237\n",
      "   0.75748563  2.64923167  0.          0.47828534  0.          0.          0.\n",
      "   0.          0.14346732  0.          0.          0.          0.96124846\n",
      "   1.12113869  0.94709826  0.          0.15030584  0.          1.3975302\n",
      "   0.          0.          1.20043218  1.55749261  1.90131652  2.1123929\n",
      "   0.76230317  1.13163376  0.          0.29837665  0.          0.\n",
      "   0.37959975  0.          0.          0.          0.1896033   0.          0.\n",
      "   0.          0.          2.35089564  1.01470768  3.47207308  0.8661232\n",
      "   0.          1.96439171  0.88745999  0.02483822  0.          0.72706878\n",
      "   0.          0.        ]]\n",
      "[[ 0.07093368  0.00918191  0.02017343  0.01386997  0.34846628  0.41637737\n",
      "   0.01035903  0.03953784  0.04845944  0.02264107]]\n"
     ]
    }
   ],
   "source": [
    "x_val = np.random.randn( 1, 784)\n",
    "y_1_val = model_hidden_1.predict(x_val)\n",
    "y_2_val = mlp.predict(x_val)\n",
    "\n",
    "print y_1_val.shape, y_2_val.shape\n",
    "print y_1_val\n",
    "print y_2_val"
   ]
  },
  {
   "cell_type": "code",
   "execution_count": 73,
   "metadata": {
    "collapsed": false
   },
   "outputs": [
    {
     "name": "stdout",
     "output_type": "stream",
     "text": [
      "<keras.layers.core.Dense object at 0x7f8d0e065d90>\n"
     ]
    }
   ],
   "source": [
    "print mlp.get_layer('hidden_1').outbound_nodes[0].outbound_layer"
   ]
  },
  {
   "cell_type": "code",
   "execution_count": 74,
   "metadata": {
    "collapsed": true
   },
   "outputs": [],
   "source": [
    "from keras.layers import Input, Dense"
   ]
  },
  {
   "cell_type": "code",
   "execution_count": 92,
   "metadata": {
    "collapsed": false
   },
   "outputs": [
    {
     "name": "stdout",
     "output_type": "stream",
     "text": [
      "[]\n",
      "[]\n",
      "[<keras.engine.topology.Node object at 0x7f8d0e065c50>]\n"
     ]
    }
   ],
   "source": [
    "layer_1 = Dense(input_shape=(784,), output_dim=64, activation='relu')\n",
    "print layer_1.outbound_nodes\n",
    "print layer_1.inbound_nodes\n",
    "print mlp.layers[0].inbound_nodes"
   ]
  },
  {
   "cell_type": "code",
   "execution_count": null,
   "metadata": {
    "collapsed": true
   },
   "outputs": [],
   "source": []
  }
 ],
 "metadata": {
  "anaconda-cloud": {},
  "kernelspec": {
   "display_name": "Python [conda root]",
   "language": "python",
   "name": "conda-root-py"
  },
  "language_info": {
   "codemirror_mode": {
    "name": "ipython",
    "version": 2
   },
   "file_extension": ".py",
   "mimetype": "text/x-python",
   "name": "python",
   "nbconvert_exporter": "python",
   "pygments_lexer": "ipython2",
   "version": "2.7.12"
  }
 },
 "nbformat": 4,
 "nbformat_minor": 1
}
