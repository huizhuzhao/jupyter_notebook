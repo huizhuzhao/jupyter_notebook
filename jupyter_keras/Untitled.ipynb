{
 "cells": [
  {
<<<<<<< HEAD
   "cell_type": "markdown",
   "metadata": {},
   "source": [
    "## learning keras topology"
=======
   "cell_type": "code",
   "execution_count": 2,
   "metadata": {
    "collapsed": false
   },
   "outputs": [],
   "source": [
    "from keras.layers import Dense, Input\n",
    "from keras.models import Model, Sequential"
>>>>>>> a97a863b250b3e9f93293a79ae35215b57c42165
   ]
  },
  {
   "cell_type": "code",
<<<<<<< HEAD
   "execution_count": 1,
=======
   "execution_count": 4,
   "metadata": {
    "collapsed": true
   },
   "outputs": [],
   "source": [
    "x = Input(shape=(784,))\n",
    "h = Dense(output_dim=100)(x)"
   ]
  },
  {
   "cell_type": "code",
   "execution_count": 12,
>>>>>>> a97a863b250b3e9f93293a79ae35215b57c42165
   "metadata": {
    "collapsed": false
   },
   "outputs": [
    {
<<<<<<< HEAD
     "name": "stderr",
     "output_type": "stream",
     "text": [
      "Using TensorFlow backend.\n"
=======
     "name": "stdout",
     "output_type": "stream",
     "text": [
      "<keras.engine.topology.InputLayer object at 0x7f0c72856510>\n",
      "[<tf.Tensor 'input_2:0' shape=(?, 784) dtype=float32>]\n",
      "[<tf.Tensor 'input_2:0' shape=(?, 784) dtype=float32>]\n"
>>>>>>> a97a863b250b3e9f93293a79ae35215b57c42165
     ]
    }
   ],
   "source": [
<<<<<<< HEAD
    "from keras.layers import Dense\n",
    "from keras.models import Model, Sequential"
=======
    "pre_layer, _, _ = x._keras_history\n",
    "print(pre_layer)\n",
    "print(pre_layer.inbound_nodes[0].input_tensors)\n",
    "print(pre_layer.inbound_nodes[0].output_tensors)"
>>>>>>> a97a863b250b3e9f93293a79ae35215b57c42165
   ]
  },
  {
   "cell_type": "code",
<<<<<<< HEAD
   "execution_count": 3,
=======
   "execution_count": 17,
>>>>>>> a97a863b250b3e9f93293a79ae35215b57c42165
   "metadata": {
    "collapsed": false
   },
   "outputs": [
    {
     "name": "stdout",
     "output_type": "stream",
     "text": [
<<<<<<< HEAD
      "(None, 784)\n"
=======
      "<keras.layers.core.Dense object at 0x7f0c728564d0>\n",
      "[<tf.Tensor 'input_2:0' shape=(?, 784) dtype=float32>]\n"
>>>>>>> a97a863b250b3e9f93293a79ae35215b57c42165
     ]
    }
   ],
   "source": [
<<<<<<< HEAD
    "d1 = Dense(input_shape=(784,), output_dim=100)\n",
    "print(d1.batch_input_shape)"
=======
    "pre_layer, _, _ = h._keras_history\n",
    "print(pre_layer)\n",
    "print(pre_layer.inbound_nodes[0].input_tensors)"
>>>>>>> a97a863b250b3e9f93293a79ae35215b57c42165
   ]
  },
  {
   "cell_type": "code",
   "execution_count": null,
   "metadata": {
    "collapsed": true
   },
   "outputs": [],
   "source": []
  }
 ],
 "metadata": {
  "anaconda-cloud": {},
  "kernelspec": {
   "display_name": "Python [default]",
   "language": "python",
   "name": "python2"
  },
  "language_info": {
   "codemirror_mode": {
    "name": "ipython",
    "version": 2
   },
   "file_extension": ".py",
   "mimetype": "text/x-python",
   "name": "python",
   "nbconvert_exporter": "python",
   "pygments_lexer": "ipython2",
   "version": "2.7.12"
  }
 },
 "nbformat": 4,
 "nbformat_minor": 1
}
