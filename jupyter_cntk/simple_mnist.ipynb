{
 "cells": [
  {
   "cell_type": "code",
   "execution_count": 3,
   "metadata": {
    "collapsed": true
   },
   "outputs": [],
   "source": [
    "from cntk.layers import Dense\n",
    "from cntk.models import Sequential\n",
    "import cntk.ops as C\n",
    "from cntk.ops import element_times, constant\n",
    "from cntk.io import MinibatchSource, CTFDeserializer, StreamDef, StreamDefs, INFINITELY_REPEAT\n",
    "from cntk.learner import sgd\n",
    "from cntk import Trainer\n",
    "import numpy as np"
   ]
  },
  {
   "cell_type": "code",
   "execution_count": 4,
   "metadata": {
    "collapsed": true
   },
   "outputs": [],
   "source": [
    "input_dim = 10\n",
    "input = C.input_variable(input_dim, np.float32)"
   ]
  },
  {
   "cell_type": "code",
   "execution_count": 5,
   "metadata": {
    "collapsed": false
   },
   "outputs": [
    {
     "name": "stdout",
     "output_type": "stream",
     "text": [
      "[ 0.7893725   0.7088815   0.11684945  0.68435621  0.51292056  0.97292995\n",
      "  0.91700727  0.38358605  0.00213148  0.32982144]\n",
      "[[[ 1.57874501  1.41776299  0.2336989   1.36871243  1.02584112  1.94585991\n",
      "    1.83401453  0.7671721   0.00426297  0.65964288]]]\n"
     ]
    }
   ],
   "source": [
    "output = element_times(constant(2.), input)\n",
    "x = np.asarray(np.random.uniform(size=(10, )), dtype=np.float32)\n",
    "y = output.eval({input:x})\n",
    "print (x)\n",
    "print (y)"
   ]
  },
  {
   "cell_type": "code",
   "execution_count": 6,
   "metadata": {
    "collapsed": false
   },
   "outputs": [],
   "source": [
    "def create_reader(path, is_training, input_dim, label_dim):\n",
    "    return MinibatchSource(CTFDeserializer(path, StreamDefs(\n",
    "        features  = StreamDef(field='features', shape=input_dim, is_sparse=False),\n",
    "        labels    = StreamDef(field='labels',   shape=label_dim, is_sparse=False)\n",
    "    )), randomize=is_training, epoch_size = INFINITELY_REPEAT if is_training else FULL_DATA_SWEEP)"
   ]
  },
  {
   "cell_type": "code",
   "execution_count": 7,
   "metadata": {
    "collapsed": false
   },
   "outputs": [],
   "source": [
    "from cntk.ops import cross_entropy_with_softmax, classification_error\n",
    "def simple_mnist(debug_output=False):\n",
    "    input_dim = 784\n",
    "    num_output_classes = 10\n",
    "    num_hidden_layers = 1\n",
    "    hidden_layer_dim = 200\n",
    "    \n",
    "    input = C.input_variable(input_dim, np.float32)\n",
    "    label = C.input_variable(num_output_classes, np.float32)\n",
    "    scaled_input = element_times(constant(0.00390625), input)\n",
    "    model = Sequential([Dense(hidden_layer_dim, activation=C.relu),\n",
    "                        Dense(num_output_classes)])\n",
    "    netout = model(scaled_input)\n",
    "    cross_entropy = cross_entropy_with_softmax(netout, label)\n",
    "    error = classification_error(netout, label)\n",
    "    trainer = Trainer(model=netout, loss_function=cross_entropy, eval_function=error,\n",
    "                            parameter_learners=sgd(netout.parameters, lr=0.0001))\n",
    "    #trainer = Trainer(netout, cross_entropy, error, sgd(netout.parameters, lr=0.003125))\n",
    "    \n",
    "    data_file = '/home/jian/repos/cntk/Examples/Image/Datasets/MNIST/Train-28x28_cntk_text.txt'\n",
    "    reader_train = create_reader(data_file, True, input_dim, num_output_classes)\n",
    "    input_map = {\n",
    "        input: reader_train.streams.features,\n",
    "        label: reader_train.streams.labels\n",
    "    }\n",
    "   \n",
    "   \n",
    "    "
   ]
  },
  {
   "cell_type": "code",
   "execution_count": 8,
   "metadata": {
    "collapsed": false
   },
   "outputs": [],
   "source": [
    "simple_mnist()"
   ]
  },
  {
   "cell_type": "code",
   "execution_count": null,
   "metadata": {
    "collapsed": true
   },
   "outputs": [],
   "source": []
  }
 ],
 "metadata": {
  "anaconda-cloud": {},
  "kernelspec": {
   "display_name": "Python [conda root]",
   "language": "python",
   "name": "conda-root-py"
  },
  "language_info": {
   "codemirror_mode": {
    "name": "ipython",
    "version": 2
   },
   "file_extension": ".py",
   "mimetype": "text/x-python",
   "name": "python",
   "nbconvert_exporter": "python",
   "pygments_lexer": "ipython2",
   "version": "2.7.12"
  }
 },
 "nbformat": 4,
 "nbformat_minor": 1
}
