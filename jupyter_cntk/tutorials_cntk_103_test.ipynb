{
 "cells": [
  {
   "cell_type": "markdown",
   "metadata": {},
   "source": [
    "### A hands-on testing of *CNTK_102*\n",
    "https://github.com/Microsoft/CNTK/blob/v2.0.beta3.0/bindings/python/tutorials/CNTK_103B_MNIST_FeedForwardNetwork.ipynb"
   ]
  },
  {
   "cell_type": "code",
   "execution_count": 2,
   "metadata": {
    "collapsed": false
   },
   "outputs": [],
   "source": [
    "import sys, os\n",
    "import getpass\n",
    "import cntk.ops as C\n",
    "from cntk.models import Sequential\n",
    "from cntk.layers import Dense\n",
    "from cntk.trainer import Trainer\n",
    "from cntk.learner import sgd\n",
    "from cntk.io import StreamConfiguration, text_format_minibatch_source\n",
    "from cntk.utils import get_train_loss, get_train_eval_criterion\n",
    "\n",
    "import numpy as np\n",
    "import matplotlib.pyplot as plt"
   ]
  },
  {
   "cell_type": "markdown",
   "metadata": {},
   "source": [
    "## model1\n",
    "### prepare training data"
   ]
  },
  {
   "cell_type": "code",
   "execution_count": 3,
   "metadata": {
    "collapsed": false
   },
   "outputs": [
    {
     "name": "stdout",
     "output_type": "stream",
     "text": [
      "<cntk.io.MinibatchSource; proxy of <Swig Object of type 'CNTK::MinibatchSourcePtr *' at 0x7fd30538e930> >\n",
      "<cntk.cntk_py.StreamInformation; proxy of <Swig Object of type 'CNTK::StreamInformation *' at 0x7fd32c5f65a0> >\n"
     ]
    }
   ],
   "source": [
    "mnist_dir = '/home/' + getpass.getuser() + '/repos/cntk/Examples/Image/DataSets/MNIST/'\n",
    "train_file = mnist_dir + \"Train-28x28_cntk_text.txt\"\n",
    "test_file = mnist_dir + \"Test-28x28_cntk_text.txt\"\n",
    "\n",
    "input_dim = 784\n",
    "hidden_layers_dim = 400\n",
    "num_output_classes = 10\n",
    "features_stream_name = 'features'\n",
    "labels_stream_name = 'labels'\n",
    "mb_source = text_format_minibatch_source(train_file, [\n",
    "        StreamConfiguration(features_stream_name, input_dim),\n",
    "        StreamConfiguration(labels_stream_name, num_output_classes)\n",
    "    ])\n",
    "features_si = mb_source[features_stream_name]\n",
    "labels_si = mb_source[labels_stream_name]\n",
    "print (mb_source)\n",
    "print (features_si)"
   ]
  },
  {
   "cell_type": "markdown",
   "metadata": {},
   "source": [
    "### build mode"
   ]
  },
  {
   "cell_type": "code",
   "execution_count": 4,
   "metadata": {
    "collapsed": false
   },
   "outputs": [],
   "source": [
    "input = C.input_variable(input_dim, np.float32)\n",
    "label = C.input_variable(num_output_classes, np.float32)\n",
    "scaled_input = C.element_times(C.constant(0.00390625), input)\n",
    "#scaled_input = input\n",
    "model = Sequential([Dense(hidden_layers_dim, activation=C.relu),\n",
    "                    Dense(hidden_layers_dim, activation=C.relu),\n",
    "                    Dense(num_output_classes)])\n",
    "model = model(scaled_input)\n",
    "cross_entropy = C.cross_entropy_with_softmax(model, label)\n",
    "error = C.classification_error(model, label)\n",
    "trainer = Trainer(model=model, loss_function=cross_entropy, eval_function=error,\n",
    "                            parameter_learners=sgd(model.parameters, lr=0.003125))"
   ]
  },
  {
   "cell_type": "code",
   "execution_count": 5,
   "metadata": {
    "collapsed": true
   },
   "outputs": [],
   "source": [
    "def print_training_progress(trainer, ii, freq, verbose=0):\n",
    "    previous_minibatch_loss = 'NA'\n",
    "    previous_minibatch_eval = 'NA'\n",
    "    if ii % freq == 0:\n",
    "        previous_minibatch_loss = get_train_loss(trainer)\n",
    "        previous_minibatch_eval = get_train_eval_criterion(trainer)\n",
    "        if verbose:\n",
    "            print ('mb_num: {0}, loss: {1}, eval: {2}'.format(ii, previous_minibatch_loss, previous_minibatch_eval))\n",
    "    return ii, previous_minibatch_loss, previous_minibatch_eval\n",
    "#Initialize the parameters for the trainer\n",
    "minibatch_size = 64\n",
    "num_samples_per_sweep = 60000\n",
    "num_sweeps_to_train_with = 10\n",
    "num_minibatches_to_train = (num_samples_per_sweep * num_sweeps_to_train_with) / minibatch_size"
   ]
  },
  {
   "cell_type": "code",
   "execution_count": 6,
   "metadata": {
    "collapsed": false,
    "scrolled": true
   },
   "outputs": [
    {
     "name": "stdout",
     "output_type": "stream",
     "text": [
      "mb_num: 0, loss: 2.332737684249878, eval: 0.859375\n",
      "mb_num: 500, loss: 0.11965678632259369, eval: 0.03125\n",
      "mb_num: 1000, loss: 0.04597800225019455, eval: 0.0\n",
      "mb_num: 1500, loss: 0.08307366818189621, eval: 0.03125\n",
      "mb_num: 2000, loss: 0.08662894368171692, eval: 0.03125\n",
      "mb_num: 2500, loss: 0.122032530605793, eval: 0.0625\n",
      "mb_num: 3000, loss: 0.04000946879386902, eval: 0.015625\n",
      "mb_num: 3500, loss: 0.03271634131669998, eval: 0.015625\n",
      "mb_num: 4000, loss: 0.008563652634620667, eval: 0.0\n",
      "mb_num: 4500, loss: 0.05894005671143532, eval: 0.015625\n",
      "mb_num: 5000, loss: 0.01672682911157608, eval: 0.0\n",
      "mb_num: 5500, loss: 0.0009536147117614746, eval: 0.0\n",
      "mb_num: 6000, loss: 0.024255208671092987, eval: 0.015625\n",
      "mb_num: 6500, loss: 0.01815439760684967, eval: 0.0\n",
      "mb_num: 7000, loss: 0.0031032413244247437, eval: 0.0\n",
      "mb_num: 7500, loss: 0.007541164755821228, eval: 0.0\n",
      "mb_num: 8000, loss: 0.001094222068786621, eval: 0.0\n",
      "mb_num: 8500, loss: 0.0026490390300750732, eval: 0.0\n",
      "mb_num: 9000, loss: 0.0035999715328216553, eval: 0.0\n"
     ]
    }
   ],
   "source": [
    "training_progress_output_freq = 500\n",
    "\n",
    "plotdata = {\"batchsize\":[], \"loss\":[], \"error\":[]}\n",
    "\n",
    "for i in range(0, int(num_minibatches_to_train)):\n",
    "    mb = mb_source.next_minibatch(minibatch_size)\n",
    "    \n",
    "    # Specify the input variables mapping in the model to actual minibatch data to be trained\n",
    "    arguments = {input: mb[features_si],\n",
    "                 label: mb[labels_si]}\n",
    "    trainer.train_minibatch(arguments)\n",
    "    batchsize, loss, error = print_training_progress(trainer, i, training_progress_output_freq, verbose=1)\n",
    "    \n",
    "    if not (loss == \"NA\" or error ==\"NA\"):\n",
    "        plotdata[\"batchsize\"].append(batchsize)\n",
    "        plotdata[\"loss\"].append(loss)\n",
    "        plotdata[\"error\"].append(error)\n",
    "\n"
   ]
  },
  {
   "cell_type": "code",
   "execution_count": 19,
   "metadata": {
    "collapsed": false
   },
   "outputs": [
    {
     "data": {
      "image/png": "[encoded data removed]",
      "text/plain": [
       "<matplotlib.figure.Figure at 0x7f34c09fdbe0>"
      ]
     },
     "metadata": {},
     "output_type": "display_data"
    }
   ],
   "source": [
    "plt.plot(plotdata['batchsize'], plotdata['loss'], '--')\n",
    "plt.plot(plotdata['batchsize'], plotdata['error'], '--', c='r')\n",
    "plt.show()"
   ]
  },
  {
   "cell_type": "markdown",
   "metadata": {},
   "source": [
    "### test model"
   ]
  },
  {
   "cell_type": "code",
   "execution_count": 20,
   "metadata": {
    "collapsed": true
   },
   "outputs": [],
   "source": [
    "mb_source_test = text_format_minibatch_source(test_file, [\n",
    "        StreamConfiguration(features_stream_name, input_dim),\n",
    "        StreamConfiguration(labels_stream_name, num_output_classes)\n",
    "    ])\n",
    "features_si_test = mb_source_test[features_stream_name]\n",
    "labels_si_test = mb_source_test[labels_stream_name]"
   ]
  },
  {
   "cell_type": "code",
   "execution_count": 21,
   "metadata": {
    "collapsed": false
   },
   "outputs": [
    {
     "name": "stdout",
     "output_type": "stream",
     "text": [
      "test error per sample: 0.019942434210526317\n"
     ]
    }
   ],
   "source": [
    "# Test data for trained model\n",
    "test_minibatch_size = 512\n",
    "num_samples = 10000\n",
    "num_minibatches_to_test = num_samples / test_minibatch_size\n",
    "test_result = 0.0\n",
    "for ii in range(0, int(num_minibatches_to_test)):\n",
    "    mb_test = mb_source_test.next_minibatch(test_minibatch_size)\n",
    "    error_per_sample = trainer.test_minibatch({input: mb_test[features_si_test], label: mb_test[labels_si_test]})\n",
    "    test_result += error_per_sample\n",
    "\n",
    "print ('test error per sample: {0}'.format(test_result/int(num_minibatches_to_test)))"
   ]
  },
  {
   "cell_type": "code",
   "execution_count": 23,
   "metadata": {
    "collapsed": false
   },
   "outputs": [],
   "source": [
    "output = C.softmax(model)"
   ]
  },
  {
   "cell_type": "code",
   "execution_count": 59,
   "metadata": {
    "collapsed": false
   },
   "outputs": [
    {
     "name": "stdout",
     "output_type": "stream",
     "text": [
      "[5 2 6 7 2 1 4 9 5 6 8 2 2 7 5 9 7 8 8 9]\n",
      "[5 2 6 7 2 1 4 9 5 6 8 2 1 7 5 4 7 8 8 9]\n",
      "[12, 15]\n"
     ]
    }
   ],
   "source": [
    "mb = mb_source_test.next_minibatch(20)\n",
    "y_pred = output.eval({input: mb[features_si_test]})[:, 0, :]\n",
    "y_true = np.asarray(mb[labels_si_test].m_data)[:, 0, :]\n",
    "y_pred = np.argmax(y_pred, axis=1)\n",
    "y_true = np.argmax(y_true, axis=1)\n",
    "prd_wroung = [ii for ii in range(len(y_pred)) if y_pred[ii]!=y_true[ii]]\n",
    "print (y_pred)\n",
    "print (y_true)\n",
    "print (prd_wroung)"
   ]
  },
  {
   "cell_type": "code",
   "execution_count": 64,
   "metadata": {
    "collapsed": false
   },
   "outputs": [
    {
     "data": {
      "image/png": "[encoded data removed]",
      "text/plain": [
       "<matplotlib.figure.Figure at 0x7f34c1212d68>"
      ]
     },
     "metadata": {},
     "output_type": "display_data"
    }
   ],
   "source": [
    "if len(prd_wroung) > 0:\n",
    "    idx = prd_wroung[0]\n",
    "else:\n",
    "    idx = 0\n",
    "mat = mb[features_si_test].value\n",
    "plt.imshow(mat[idx, :, :].reshape(28, 28), cmap='gray_r')\n",
    "plt.axis('off')\n",
    "plt.show()"
   ]
  },
  {
   "cell_type": "markdown",
   "metadata": {},
   "source": [
    "## model2 \n",
    "**(the *input* is numpy.ndarray type which differs from the above model)**\n",
    "### prepare data"
   ]
  },
  {
   "cell_type": "code",
   "execution_count": 80,
   "metadata": {
    "collapsed": false
   },
   "outputs": [
    {
     "name": "stdout",
     "output_type": "stream",
     "text": [
      "load data sucessfully\n"
     ]
    }
   ],
   "source": [
    "import sys\n",
    "sys.path.append('/home/' + getpass.getuser() + '/git_test/')\n",
    "from Teemo.examples.mnist import load_data\n",
    "from Teemo.algorithm.utils import matrixops\n",
    "trn_x, trn_y, valid_x, valid_y = load_data.mnist()\n",
    "trn_x = np.asarray(trn_x, dtype=np.float32)\n",
    "trn_y = np.asarray(trn_y, dtype=np.float32)\n",
    "valid_x = np.asarray(valid_x, dtype=np.float32)\n",
    "valid_y = np.asarray(valid_y, dtype=np.float32)\n",
    "print ('load data sucessfully')"
   ]
  },
  {
   "cell_type": "markdown",
   "metadata": {},
   "source": [
    "### build mode"
   ]
  },
  {
   "cell_type": "code",
   "execution_count": 81,
   "metadata": {
    "collapsed": true
   },
   "outputs": [],
   "source": [
    "input = C.input_variable(input_dim, np.float32)\n",
    "label = C.input_variable(num_output_classes, np.float32)\n",
    "#scaled_input = C.element_times(C.constant(0.00390625), input)\n",
    "scaled_input = input\n",
    "model = Sequential([Dense(hidden_layers_dim, activation=C.relu),\n",
    "                    Dense(hidden_layers_dim, activation=C.relu),\n",
    "                    Dense(num_output_classes)])\n",
    "model = model(scaled_input)\n",
    "cross_entropy = C.cross_entropy_with_softmax(model, label)\n",
    "error = C.classification_error(model, label)\n",
    "trainer = Trainer(model=model, loss_function=cross_entropy, eval_function=error,\n",
    "                            parameter_learners=sgd(model.parameters, lr=0.003125))"
   ]
  },
  {
   "cell_type": "code",
   "execution_count": 82,
   "metadata": {
    "collapsed": false
   },
   "outputs": [
    {
     "name": "stdout",
     "output_type": "stream",
     "text": [
      "mb_num: 0, loss: 2.345682382583618, eval: 0.890625\n",
      "mb_num: 500, loss: 0.1337813287973404, eval: 0.046875\n",
      "mb_num: 1000, loss: 0.16308051347732544, eval: 0.046875\n",
      "mb_num: 1500, loss: 0.1904614269733429, eval: 0.0625\n",
      "mb_num: 2000, loss: 0.01738615334033966, eval: 0.0\n",
      "mb_num: 2500, loss: 0.02501310408115387, eval: 0.0\n",
      "mb_num: 3000, loss: 0.02971567213535309, eval: 0.015625\n",
      "mb_num: 3500, loss: 0.01777563989162445, eval: 0.0\n",
      "mb_num: 4000, loss: 0.010875910520553589, eval: 0.0\n",
      "mb_num: 4500, loss: 0.02084767073392868, eval: 0.0\n",
      "mb_num: 5000, loss: 0.008714616298675537, eval: 0.0\n",
      "mb_num: 5500, loss: 0.055848732590675354, eval: 0.015625\n",
      "mb_num: 6000, loss: 0.03329751640558243, eval: 0.03125\n",
      "mb_num: 6500, loss: 0.047362007200717926, eval: 0.03125\n",
      "mb_num: 7000, loss: 0.0077372267842292786, eval: 0.0\n",
      "mb_num: 7500, loss: 0.007033608853816986, eval: 0.0\n",
      "mb_num: 8000, loss: 0.003890886902809143, eval: 0.0\n",
      "mb_num: 8500, loss: 0.0027677714824676514, eval: 0.0\n",
      "mb_num: 9000, loss: 0.0034391283988952637, eval: 0.0\n"
     ]
    }
   ],
   "source": [
    "training_progress_output_freq = 500\n",
    "plotdata = {\"batchsize\":[], \"loss\":[], \"error\":[]}\n",
    "\n",
    "max_jj = 0\n",
    "for ii in range(10):\n",
    "    jj = 0\n",
    "    for mb_x, mb_y in matrixops.iterate_minibatches(minibatch_size, trn_x, trn_y, shuffle=True):\n",
    "        trainer.train_minibatch({input:mb_x, label:mb_y})\n",
    "        batchsize, loss, error = print_training_progress(trainer, ii*max_jj + jj, training_progress_output_freq, verbose=1)\n",
    "        jj += 1\n",
    "        if not (loss == \"NA\" or error ==\"NA\"):\n",
    "            plotdata[\"batchsize\"].append(batchsize)\n",
    "            plotdata[\"loss\"].append(loss)\n",
    "            plotdata[\"error\"].append(error)\n",
    "\n",
    "    max_jj = jj"
   ]
  },
  {
   "cell_type": "code",
   "execution_count": 83,
   "metadata": {
    "collapsed": false
   },
   "outputs": [
    {
     "data": {
      "image/png": "[encoded data removed]",
      "text/plain": [
       "<matplotlib.figure.Figure at 0x7f34c111b048>"
      ]
     },
     "metadata": {},
     "output_type": "display_data"
    }
   ],
   "source": [
    "plt.plot(plotdata['batchsize'], plotdata['loss'], '--')\n",
    "plt.plot(plotdata['batchsize'], plotdata['error'], '--', c='r')\n",
    "plt.show()"
   ]
  },
  {
   "cell_type": "code",
   "execution_count": 84,
   "metadata": {
    "collapsed": false
   },
   "outputs": [
    {
     "name": "stdout",
     "output_type": "stream",
     "text": [
      "test error per sample: 0.01777767027863777\n"
     ]
    }
   ],
   "source": [
    "# Test data for trained model\n",
    "test_minibatch_size = 512\n",
    "num_samples = 10000\n",
    "num_minibatches_to_test = num_samples / test_minibatch_size\n",
    "test_result = 0.0\n",
    "\n",
    "for mb_x, mb_y in matrixops.iterate_minibatches(test_minibatch_size, valid_x, valid_y, shuffle=True):\n",
    "    error_per_sample = trainer.test_minibatch({input: mb_x, label: mb_y})\n",
    "    test_result += error_per_sample\n",
    "\n",
    "print ('test error per sample: {0}'.format(test_result/int(num_minibatches_to_test)))"
   ]
  },
  {
   "cell_type": "code",
   "execution_count": 85,
   "metadata": {
    "collapsed": true
   },
   "outputs": [],
   "source": [
    "output = C.softmax(model)"
   ]
  },
  {
   "cell_type": "code",
   "execution_count": 116,
   "metadata": {
    "collapsed": false
   },
   "outputs": [
    {
     "name": "stdout",
     "output_type": "stream",
     "text": [
      "predicted value:    [2, 7, 3, 0, 5, 2]\n",
      "ground truth value: [4, 2, 5, 6, 3, 8]\n"
     ]
    }
   ],
   "source": [
    "num_test = 500\n",
    "mb_x = valid_x[:num_test]\n",
    "mb_y = valid_y[:num_test]\n",
    "y_pred = output.eval({input: mb_x})[0, :, :]\n",
    "y_true = mb_y\n",
    "y_pred = np.argmax(y_pred, axis=1)\n",
    "y_true = np.argmax(y_true, axis=1)\n",
    "prd_wroung = [ii for ii in range(len(y_pred)) if y_pred[ii]!=y_true[ii]]\n",
    "\n",
    "print ('predicted value:    {0}'.format([y_pred[ii] for ii in prd_wroung]))\n",
    "print ('ground truth value: {0}'.format([y_true[ii] for ii in prd_wroung]))"
   ]
  },
  {
   "cell_type": "code",
   "execution_count": 117,
   "metadata": {
    "collapsed": false
   },
   "outputs": [
    {
     "name": "stdout",
     "output_type": "stream",
     "text": [
      "wroung\n"
     ]
    },
    {
     "data": {
      "image/png": "[encoded data removed]",
      "text/plain": [
       "<matplotlib.figure.Figure at 0x7f34c114ab70>"
      ]
     },
     "metadata": {},
     "output_type": "display_data"
    }
   ],
   "source": [
    "if len(prd_wroung) > 0:\n",
    "    idx = prd_wroung[1]\n",
    "    print ('wroung')\n",
    "else:\n",
    "    idx = 0\n",
    "plt.imshow(mb_x[idx].reshape(28, 28), cmap='gray_r')\n",
    "plt.axis('off')\n",
    "plt.show()"
   ]
  },
  {
   "cell_type": "code",
   "execution_count": null,
   "metadata": {
    "collapsed": true
   },
   "outputs": [],
   "source": []
  }
 ],
 "metadata": {
  "anaconda-cloud": {},
  "kernelspec": {
   "display_name": "Python [conda env:cntk-py34]",
   "language": "python",
   "name": "conda-env-cntk-py34-py"
  },
  "language_info": {
   "codemirror_mode": {
    "name": "ipython",
    "version": 3
   },
   "file_extension": ".py",
   "mimetype": "text/x-python",
   "name": "python",
   "nbconvert_exporter": "python",
   "pygments_lexer": "ipython3",
   "version": "3.4.4"
  }
 },
 "nbformat": 4,
 "nbformat_minor": 1
}
