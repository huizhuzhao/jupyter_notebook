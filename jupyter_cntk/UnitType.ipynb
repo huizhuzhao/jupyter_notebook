{
 "cells": [
  {
   "cell_type": "code",
   "execution_count": 1,
   "metadata": {
    "collapsed": true
   },
   "outputs": [],
   "source": [
    "### testing UnitType"
   ]
  },
  {
   "cell_type": "code",
   "execution_count": 17,
   "metadata": {
    "collapsed": true
   },
   "outputs": [],
   "source": [
    "from cntk.learner import training_parameter_schedule, momentum_schedule, UnitType\n",
    "import numpy as np\n",
    "import matplotlib.pyplot as plt\n",
    "from cntk.layers import Dense\n",
    "from cntk.models import Sequential\n",
    "import cntk.ops as C\n",
    "from cntk.ops import element_times, constant\n",
    "from cntk.io import MinibatchSource, CTFDeserializer, StreamDef, StreamDefs, INFINITELY_REPEAT\n",
    "from cntk.learner import sgd\n",
    "from cntk import Trainer\n",
    "\n",
    "import sys\n",
    "from getpass import getuser\n",
    "sys.path.append('/home/'+getuser()+'/git_test')\n",
    "from Teemo.examples.math import load_data\n",
    "from Teemo.algorithm.utils import matrixops"
   ]
  },
  {
   "cell_type": "code",
   "execution_count": 24,
   "metadata": {
    "collapsed": true
   },
   "outputs": [],
   "source": [
    "## prepare learner schedule\n",
    "## prepare data \n",
    "trn_x, trn_y, valid_x, valid_y = load_data.Hstep() ## training samples: 1,000, validation samples: 100\n",
    "trn_samples = trn_x.shape[0]\n",
    "lr = training_parameter_schedule([0.01, 0.001], unit=UnitType.sample, epoch_size=trn_samples)"
   ]
  },
  {
   "cell_type": "code",
   "execution_count": 25,
   "metadata": {
    "collapsed": false
   },
   "outputs": [],
   "source": [
    "## prepare model\n",
    "input_dim = 1\n",
    "output_dim = 1\n",
    "\n",
    "input = C.input_variable(input_dim, np.float32)\n",
    "label = C.input_variable(output_dim, np.float32)\n",
    "mlp = Sequential([Dense(3, activation=C.tanh),\n",
    "                  Dense(3, activation=C.sigmoid),\n",
    "                  Dense(output_dim, activation=None)])(input)\n",
    "\n",
    "loss = C.squared_error(mlp, label)\n",
    "error = C.squared_error(mlp, label)\n",
    "trainer = Trainer(mlp, loss, error, [sgd(mlp.parameters, lr=lr)])\n",
    "\n"
   ]
  },
  {
   "cell_type": "code",
   "execution_count": 26,
   "metadata": {
    "collapsed": false
   },
   "outputs": [
    {
     "name": "stdout",
     "output_type": "stream",
     "text": [
      "epoch: 0, loss: 248.48322265625\n",
      "epoch: 1, loss: 490.676796875\n",
      "epoch: 2, loss: 493.8709765625\n",
      "epoch: 3, loss: 490.676953125\n",
      "epoch: 4, loss: 493.8711328125\n",
      "epoch: 5, loss: 490.6770703125\n",
      "epoch: 6, loss: 493.871328125\n",
      "epoch: 7, loss: 490.6773046875\n",
      "epoch: 8, loss: 493.8715234375\n",
      "epoch: 9, loss: 490.677421875\n"
     ]
    },
    {
     "data": {
      "image/png": "[encoded data removed]",
      "text/plain": [
       "<matplotlib.figure.Figure at 0x7f1fe06797f0>"
      ]
     },
     "metadata": {},
     "output_type": "display_data"
    }
   ],
   "source": [
    "loss_list = []\n",
    "for ii in range(10):\n",
    "    for mb_x, mb_y in matrixops.iterate_minibatches(minibatch_size, trn_x, trn_y, shuffle=True)\n",
    "        trainer.train_minibatch({input: mb_x, label: mb_y})\n",
    "    valid_loss = trainer.test_minibatch({input: valid_x, label: valid_y})\n",
    "    loss_list.append(valid_loss)\n",
    "    print ('epoch: {0}, loss: {1}'.format(ii, valid_loss))\n",
    "\n",
    "plt.plot(loss_list)\n",
    "plt.show()"
   ]
  },
  {
   "cell_type": "code",
   "execution_count": null,
   "metadata": {
    "collapsed": true
   },
   "outputs": [],
   "source": []
  }
 ],
 "metadata": {
  "anaconda-cloud": {},
  "kernelspec": {
   "display_name": "Python [conda env:cntk-py34]",
   "language": "python",
   "name": "conda-env-cntk-py34-py"
  },
  "language_info": {
   "codemirror_mode": {
    "name": "ipython",
    "version": 3
   },
   "file_extension": ".py",
   "mimetype": "text/x-python",
   "name": "python",
   "nbconvert_exporter": "python",
   "pygments_lexer": "ipython3",
   "version": "3.4.4"
  }
 },
 "nbformat": 4,
 "nbformat_minor": 1
}
