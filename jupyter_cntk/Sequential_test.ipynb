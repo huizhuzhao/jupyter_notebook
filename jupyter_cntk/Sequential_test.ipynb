{
 "cells": [
  {
   "cell_type": "markdown",
   "metadata": {},
   "source": [
    "A demo of the use of **Sequential()**\n",
    "\n",
    "In order to construct a network layer by layer, we can use **Sequential()** which provides a\n",
    "much more intuitive manner"
   ]
  },
  {
   "cell_type": "code",
   "execution_count": 1,
   "metadata": {
    "collapsed": true
   },
   "outputs": [],
   "source": [
    "import cntk\n",
    "from cntk.layers import Dense\n",
    "from cntk.models import Sequential, LayerStack\n",
    "import cntk.ops as C\n",
    "from cntk.blocks import default_options\n",
    "import numpy as np"
   ]
  },
  {
   "cell_type": "code",
   "execution_count": 2,
   "metadata": {
    "collapsed": false
   },
   "outputs": [],
   "source": [
    "with default_options(init=cntk.initializer.glorot_uniform()): # reset the default options for model_1\n",
    "    model_1 = Sequential([\n",
    "           Dense(1024, activation=C.relu), \n",
    "           Dense(9000, activation=C.softmax)])\n",
    "model_2 = Sequential([\n",
    "       LayerStack(6, lambda:Dense(2048, activation=C.sigmoid)),\n",
    "       Dense(9000, activation=C.softmax)])"
   ]
  },
  {
   "cell_type": "code",
   "execution_count": 3,
   "metadata": {
    "collapsed": true
   },
   "outputs": [],
   "source": [
    "input_dim = 784\n",
    "input = C.input_variable(input_dim, np.float32)\n",
    "output_1 = model_1(input)\n",
    "output_2 = model_2(input)"
   ]
  },
  {
   "cell_type": "code",
   "execution_count": 4,
   "metadata": {
    "collapsed": false
   },
   "outputs": [
    {
     "name": "stdout",
     "output_type": "stream",
     "text": [
      "[[[  1.12926675e-04   1.07318403e-04   9.31393297e-05 ...,   1.51719083e-04\n",
      "     1.13167524e-04   1.13797505e-04]]]\n",
      "[[[  1.22095982e-04   1.29151187e-04   1.63233737e-04 ...,   1.03524813e-04\n",
      "     1.32584755e-04   7.71947452e-05]]]\n"
     ]
    }
   ],
   "source": [
    "x = np.asarray(np.random.uniform(size=(input_dim, )), dtype=np.float32)\n",
    "y = np.asarray(np.zeros((10, )), dtype=np.float32); y[4] = 1.\n",
    "print (output_1.eval({input:x}))\n",
    "print (output_2.eval({input:x}))"
   ]
  },
  {
   "cell_type": "code",
   "execution_count": 5,
   "metadata": {
    "collapsed": false
   },
   "outputs": [
    {
     "name": "stdout",
     "output_type": "stream",
     "text": [
      "[[[ 0.31710142 -0.71359128  0.42116967  0.26378796  0.2174373  -0.06734624\n",
      "   -0.45698565 -0.30446228  0.85671723  0.43268046]]]\n"
     ]
    }
   ],
   "source": [
    "from cntk.layers import Embedding\n",
    "emb = Embedding(10)(input)\n",
    "y_emb = emb.eval({input:x})\n",
    "print (y_emb)"
   ]
  },
  {
   "cell_type": "code",
   "execution_count": 6,
   "metadata": {
    "collapsed": false
   },
   "outputs": [
    {
     "name": "stdout",
     "output_type": "stream",
     "text": [
      "[ 0.  0.  0.]\n",
      "[[-1.09525657 -0.11630195 -0.41263551]\n",
      " [-0.99652326  0.78968358 -0.20035464]]\n"
     ]
    }
   ],
   "source": [
    "input = C.input_variable(2, np.float32)\n",
    "layer_1 = Dense(3, activation=C.relu)(input)\n",
    "print (layer_1.parameters[0].value)\n",
    "print (layer_1.parameters[1].value)"
   ]
  },
  {
   "cell_type": "markdown",
   "metadata": {
    "collapsed": true
   },
   "source": [
    "### weight, bias in model\n",
    "\n",
    "w.shape = [input_dim, output_dim]"
   ]
  },
  {
   "cell_type": "code",
   "execution_count": 25,
   "metadata": {
    "collapsed": false
   },
   "outputs": [
    {
     "name": "stdout",
     "output_type": "stream",
     "text": [
      "[(30,), (20, 30), (20,), (10, 20)]\n"
     ]
    }
   ],
   "source": [
    "input_dim = 10\n",
    "hidden_dim = 20\n",
    "output_dim = 30\n",
    "input = C.input_variable(input_dim, np.float32)\n",
    "mlp = Sequential([Dense(hidden_dim, activation=C.relu),\n",
    "                  Dense(output_dim, activation=C.softmax)])(input)\n",
    "print ([x.shape for x in mlp.parameters])"
   ]
  },
  {
   "cell_type": "code",
   "execution_count": null,
   "metadata": {
    "collapsed": true
   },
   "outputs": [],
   "source": []
  }
 ],
 "metadata": {
  "anaconda-cloud": {},
  "kernelspec": {
   "display_name": "Python [conda env:cntk-py34]",
   "language": "python",
   "name": "conda-env-cntk-py34-py"
  },
  "language_info": {
   "codemirror_mode": {
    "name": "ipython",
    "version": 3
   },
   "file_extension": ".py",
   "mimetype": "text/x-python",
   "name": "python",
   "nbconvert_exporter": "python",
   "pygments_lexer": "ipython3",
   "version": "3.4.4"
  }
 },
 "nbformat": 4,
 "nbformat_minor": 1
}
