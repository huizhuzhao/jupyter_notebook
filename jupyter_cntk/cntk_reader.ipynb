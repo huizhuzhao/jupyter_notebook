{
 "cells": [
  {
   "cell_type": "markdown",
   "metadata": {},
   "source": [
    "In case of reading training data from file, we illustrate the necessary steps as following:\n",
    " 1. collect the info about the file data, including `file_path`, `input_names`, `value_dim`, `is_sparse` etc as\n",
    "  discussed in https://github.com/Microsoft/CNTK/wiki/CNTKTextFormat-Reader\n",
    " 2. pass the real data (accroding to data info) to network model \n",
    "\n",
    "The first step is done with `MinibatchSource()`"
   ]
  },
  {
   "cell_type": "code",
   "execution_count": 2,
   "metadata": {
    "collapsed": false,
    "scrolled": true
   },
   "outputs": [
    {
     "name": "stdout",
     "output_type": "stream",
     "text": [
      "True\n"
     ]
    }
   ],
   "source": [
    "import sys, os\n",
    "import getpass\n",
    "import numpy as np\n",
    "\n",
    "mnist_dir = '/home/' + getpass.getuser() + '/repos/cntk/Examples/Image/DataSets/MNIST/'\n",
    "trn_data_file = mnist_dir + 'Train-28x28_cntk_text.txt'\n",
    "\n",
    "print (os.path.exists(trn_data_file))"
   ]
  },
  {
   "cell_type": "markdown",
   "metadata": {},
   "source": [
    "### type I \n",
    "(get numpy.ndarray from *cntk reader*)"
   ]
  },
  {
   "cell_type": "code",
   "execution_count": 3,
   "metadata": {
    "collapsed": false
   },
   "outputs": [],
   "source": [
    "from cntk.io import MinibatchSource, CTFDeserializer, StreamDef, StreamDefs"
   ]
  },
  {
   "cell_type": "code",
   "execution_count": 4,
   "metadata": {
    "collapsed": false
   },
   "outputs": [
    {
     "name": "stdout",
     "output_type": "stream",
     "text": [
      "{'dim': 784, 'stream_alias': 'features', 'is_sparse': False}\n",
      "{'dim': 10, 'stream_alias': 'labels', 'is_sparse': False}\n"
     ]
    }
   ],
   "source": [
    "input_stream = StreamDef(field='features', shape=784, is_sparse=False)\n",
    "label_stream = StreamDef(field='labels', shape=10, is_sparse=False)\n",
    "print (input_stream)\n",
    "print (label_stream)"
   ]
  },
  {
   "cell_type": "code",
   "execution_count": 5,
   "metadata": {
    "collapsed": false
   },
   "outputs": [
    {
     "name": "stdout",
     "output_type": "stream",
     "text": [
      "{'input': {'dim': 784, 'stream_alias': 'features', 'is_sparse': False}, 'label': {'dim': 10, 'stream_alias': 'labels', 'is_sparse': False}}\n"
     ]
    }
   ],
   "source": [
    "streams = StreamDefs(\n",
    "    input = input_stream,\n",
    "    label = label_stream\n",
    ")\n",
    "print (streams)"
   ]
  },
  {
   "cell_type": "code",
   "execution_count": 6,
   "metadata": {
    "collapsed": false
   },
   "outputs": [
    {
     "name": "stdout",
     "output_type": "stream",
     "text": [
      "{'input': {'input': {'alias': 'features', 'format': 'dense', 'dim': 784}, 'label': {'alias': 'labels', 'format': 'dense', 'dim': 10}}, 'type': 'CNTKTextFormatDeserializer', 'file': '/home/xtalpi/repos/cntk/Examples/Image/DataSets/MNIST/Train-28x28_cntk_text.txt'}\n"
     ]
    }
   ],
   "source": [
    "ctf = CTFDeserializer(trn_data_file, streams)\n",
    "print (ctf)"
   ]
  },
  {
   "cell_type": "code",
   "execution_count": 7,
   "metadata": {
    "collapsed": false
   },
   "outputs": [],
   "source": [
    "source = MinibatchSource(ctf)\n",
    "features_si = source['input']\n",
    "label_si = source['label']"
   ]
  },
  {
   "cell_type": "code",
   "execution_count": 9,
   "metadata": {
    "collapsed": false
   },
   "outputs": [
    {
     "name": "stdout",
     "output_type": "stream",
     "text": [
      "(10, 1, 784)\n",
      "(10, 1, 784)\n",
      "(10, 1, 784)\n",
      "10\n"
     ]
    }
   ],
   "source": [
    "mb = source.next_minibatch(10)\n",
    "print (mb[features_si].value.shape)\n",
    "print (mb[features_si].m_data.data().to_numpy().shape)\n",
    "print (np.asarray(mb[features_si].m_data).shape)\n",
    "print (mb[features_si].num_samples)"
   ]
  },
  {
   "cell_type": "markdown",
   "metadata": {
    "collapsed": true
   },
   "source": [
    "### type II"
   ]
  },
  {
   "cell_type": "code",
   "execution_count": 57,
   "metadata": {
    "collapsed": false
   },
   "outputs": [],
   "source": [
    "from cntk.io import StreamConfiguration, text_format_minibatch_source\n",
    "mb_source = text_format_minibatch_source(trn_data_file, [\n",
    "        StreamConfiguration('features', 784),\n",
    "        StreamConfiguration('labels', 10)\n",
    "    ])\n",
    "features_si = mb_source['features']\n",
    "labels_si = mb_source['labels']"
   ]
  },
  {
   "cell_type": "code",
   "execution_count": 58,
   "metadata": {
    "collapsed": false
   },
   "outputs": [
    {
     "name": "stdout",
     "output_type": "stream",
     "text": [
      "(10, 1, 784)\n",
      "(10, 1, 784)\n",
      "(10, 1, 784)\n"
     ]
    }
   ],
   "source": [
    "mb = mb_source.next_minibatch(10)\n",
    "print (mb[features_si].value.shape)\n",
    "print (mb[features_si].m_data.data().to_numpy().shape)\n",
    "print (np.asarray(mb[features_si].m_data).shape)"
   ]
  },
  {
   "cell_type": "markdown",
   "metadata": {
    "collapsed": true
   },
   "source": [
    "### save numpy.ndarray into file with *cntk style*"
   ]
  },
  {
   "cell_type": "code",
   "execution_count": 19,
   "metadata": {
    "collapsed": false
   },
   "outputs": [
    {
     "name": "stdout",
     "output_type": "stream",
     "text": [
      "load data sucessfully\n"
     ]
    }
   ],
   "source": [
    "import sys, os\n",
    "import getpass\n",
    "import numpy as np\n",
    "Teemo_path = '/home/' + getpass.getuser() + '/git_test'\n",
    "if not os.path.exists(Teemo_path):\n",
    "    Teemo_path = '/home/' + getpass.getuser() + '/huizhu/git_test'\n",
    "if not os.path.exists(Teemo_path):\n",
    "    exit(\"Can not find Teemo_path\")\n",
    "sys.path.append(Teemo_path)\n",
    "from Teemo.examples.mnist import load_data\n",
    "trn_x, trn_y, valid_x, valid_y = load_data.mnist()\n",
    "trn_x = np.asarray(trn_x, dtype=np.float32)\n",
    "trn_y = np.asarray(trn_y, dtype=np.float32)\n",
    "valid_x = np.asarray(valid_x, dtype=np.float32)\n",
    "valid_y = np.asarray(valid_y, dtype=np.float32)\n",
    "print ('load data sucessfully')"
   ]
  },
  {
   "cell_type": "code",
   "execution_count": 54,
   "metadata": {
    "collapsed": true
   },
   "outputs": [],
   "source": [
    "def save_txt(file_name, features_ndarray, labels_ndarray):\n",
    "    dir_name = os.path.dirname(file_name)\n",
    "    if not os.path.exists(dir_name):\n",
    "        os.makedirs(dir_name)\n",
    "    if os.path.exists(file_name):\n",
    "        print (\"File already exists: {0}\".format(file_name))\n",
    "    else:\n",
    "        f = open(file_name, 'w')\n",
    "        for feat, label in zip(features_ndarray, labels_ndarray):\n",
    "            feat_str = ' '.join(feat.astype(str))\n",
    "            label_str = ' '.join(label.astype(str))\n",
    "            f.write('label| {0} features| {1}\\n'.format(label_str, feat_str))\n",
    "            "
   ]
  },
  {
   "cell_type": "code",
   "execution_count": 55,
   "metadata": {
    "collapsed": false
   },
   "outputs": [],
   "source": [
    "file_name = '/home/xtalpi/cntk_data/Train-28x28_cntk_text.txt'\n",
    "\n",
    "save_txt(file_name, trn_x, trn_y)"
   ]
  },
  {
   "cell_type": "code",
   "execution_count": null,
   "metadata": {
    "collapsed": true
   },
   "outputs": [],
   "source": []
  },
  {
   "cell_type": "code",
   "execution_count": null,
   "metadata": {
    "collapsed": true
   },
   "outputs": [],
   "source": []
  }
 ],
 "metadata": {
  "anaconda-cloud": {},
  "kernelspec": {
   "display_name": "Python [conda env:cntk-py34]",
   "language": "python",
   "name": "conda-env-cntk-py34-py"
  },
  "language_info": {
   "codemirror_mode": {
    "name": "ipython",
    "version": 3
   },
   "file_extension": ".py",
   "mimetype": "text/x-python",
   "name": "python",
   "nbconvert_exporter": "python",
   "pygments_lexer": "ipython3",
   "version": "3.4.4"
  }
 },
 "nbformat": 4,
 "nbformat_minor": 1
}
