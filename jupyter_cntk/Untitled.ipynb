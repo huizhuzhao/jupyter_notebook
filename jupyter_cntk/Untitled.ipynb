{
 "cells": [
  {
   "cell_type": "code",
   "execution_count": 95,
   "metadata": {
    "collapsed": false
   },
   "outputs": [],
   "source": [
    "import numpy as np\n",
    "from cntk.layers import Dense, Recurrence, Embedding\n",
    "from cntk.models import Sequential\n",
    "import cntk.ops as C\n",
    "from cntk.utils import log_number_of_parameters\n",
    "from cntk import combine\n",
    "from cntk import Function\n",
    "from cntk.blocks import Placeholder, LSTM"
   ]
  },
  {
   "cell_type": "code",
   "execution_count": 111,
   "metadata": {
    "collapsed": false
   },
   "outputs": [
    {
     "name": "stdout",
     "output_type": "stream",
     "text": [
      "[(12,), (222, 12), (888,), (150, 888), (100, 150), (222, 888)]\n",
      "[(12,), (222, 12), (888,), (150, 888), (100, 150), (222, 888)]\n",
      "Training 348900 parameters in 6 parameter tensors.\n",
      "None\n"
     ]
    }
   ],
   "source": [
    "input_dim = 100\n",
    "label_dim = 12\n",
    "input = C.input_variable(input_dim, np.float32)\n",
    "label = C.input_variable(label_dim, np.float32)\n",
    "#label = Placeholder(label_dim)\n",
    "model_mlp = Sequential([Dense(20, activation=C.relu),\n",
    "                    Dense(label_dim, activation=None)])(input)\n",
    "\n",
    "emb_dim = 150\n",
    "hidden_dim = 222\n",
    "\n",
    "model_rnn = Sequential([Embedding(emb_dim),\n",
    "                        Recurrence(LSTM(hidden_dim), go_backwards=False),\n",
    "                        Dense(label_dim, activation=C.softmax)])(input)\n",
    "\n",
    "loss = C.cross_entropy_with_softmax(model_rnn, label)\n",
    "error = C.classification_error(model_rnn, label)\n",
    "\n",
    "\n"
   ]
  },
  {
   "cell_type": "code",
   "execution_count": 115,
   "metadata": {
    "collapsed": false
   },
   "outputs": [
    {
     "name": "stdout",
     "output_type": "stream",
     "text": [
      "(1, 300, 12)\n"
     ]
    }
   ],
   "source": [
    "x = np.random.uniform(size=(300, input_dim)).astype(np.float32)\n",
    "y = np.zeros(shape=(300, label_dim)).astype(np.float32)\n",
    "\n",
    "y_pred = model_rnn.eval({input: x})\n",
    "print (y_pred.shape)\n"
   ]
  },
  {
   "cell_type": "code",
   "execution_count": null,
   "metadata": {
    "collapsed": true
   },
   "outputs": [],
   "source": []
  }
 ],
 "metadata": {
  "anaconda-cloud": {},
  "kernelspec": {
   "display_name": "Python [conda env:cntk-py34]",
   "language": "python",
   "name": "conda-env-cntk-py34-py"
  },
  "language_info": {
   "codemirror_mode": {
    "name": "ipython",
    "version": 3
   },
   "file_extension": ".py",
   "mimetype": "text/x-python",
   "name": "python",
   "nbconvert_exporter": "python",
   "pygments_lexer": "ipython3",
   "version": "3.4.4"
  }
 },
 "nbformat": 4,
 "nbformat_minor": 1
}
